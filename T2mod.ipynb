{
 "cells": [
  {
   "cell_type": "markdown",
   "metadata": {},
   "source": [
    "# Tarea 2\n",
    "## Profesor: Dr. Esteban Vargas; Alumno: Enrique Reyes\n",
    "### 10/12/2020"
   ]
  },
  {
   "cell_type": "markdown",
   "metadata": {},
   "source": [
    "El conjunto de datos a análizar contiene información sobre los reportes de contagios, recuperados y muertes diarias de SARS-CoV-2 Covid-19, de Uruguay (13 de marzo de 2020 al 04 de enero de 2021), Nigeria (20 de marzo a 29 de junio de 2020) y Filipinas (06 de marzo a 15 de junio de 2020)."
   ]
  },
  {
   "cell_type": "markdown",
   "metadata": {},
   "source": [
    "## 1. Carga de paquetes y datos"
   ]
  },
  {
   "cell_type": "code",
   "execution_count": 1,
   "metadata": {},
   "outputs": [],
   "source": [
    "import pandas as pd\n",
    "import numpy as np\n",
    "from scipy import integrate\n",
    "from sklearn.metrics import mean_squared_error, mean_squared_log_error, mean_absolute_error, median_absolute_error\n",
    "from scipy.integrate import odeint\n",
    "from scipy.optimize import differential_evolution, minimize\n",
    "import matplotlib.pyplot as plt"
   ]
  },
  {
   "cell_type": "code",
   "execution_count": 2,
   "metadata": {},
   "outputs": [],
   "source": [
    "import PDEparams as pde"
   ]
  },
  {
   "cell_type": "code",
   "execution_count": 3,
   "metadata": {},
   "outputs": [
    {
     "data": {
      "text/html": [
       "<div>\n",
       "<style scoped>\n",
       "    .dataframe tbody tr th:only-of-type {\n",
       "        vertical-align: middle;\n",
       "    }\n",
       "\n",
       "    .dataframe tbody tr th {\n",
       "        vertical-align: top;\n",
       "    }\n",
       "\n",
       "    .dataframe thead th {\n",
       "        text-align: right;\n",
       "    }\n",
       "</style>\n",
       "<table border=\"1\" class=\"dataframe\">\n",
       "  <thead>\n",
       "    <tr style=\"text-align: right;\">\n",
       "      <th></th>\n",
       "      <th>t</th>\n",
       "      <th>I</th>\n",
       "      <th>R</th>\n",
       "      <th>D</th>\n",
       "    </tr>\n",
       "  </thead>\n",
       "  <tbody>\n",
       "    <tr>\n",
       "      <th>0</th>\n",
       "      <td>0</td>\n",
       "      <td>4</td>\n",
       "      <td>0</td>\n",
       "      <td>0</td>\n",
       "    </tr>\n",
       "    <tr>\n",
       "      <th>1</th>\n",
       "      <td>1</td>\n",
       "      <td>2</td>\n",
       "      <td>0</td>\n",
       "      <td>0</td>\n",
       "    </tr>\n",
       "    <tr>\n",
       "      <th>2</th>\n",
       "      <td>2</td>\n",
       "      <td>2</td>\n",
       "      <td>0</td>\n",
       "      <td>0</td>\n",
       "    </tr>\n",
       "    <tr>\n",
       "      <th>3</th>\n",
       "      <td>3</td>\n",
       "      <td>21</td>\n",
       "      <td>0</td>\n",
       "      <td>0</td>\n",
       "    </tr>\n",
       "    <tr>\n",
       "      <th>4</th>\n",
       "      <td>4</td>\n",
       "      <td>21</td>\n",
       "      <td>0</td>\n",
       "      <td>0</td>\n",
       "    </tr>\n",
       "  </tbody>\n",
       "</table>\n",
       "</div>"
      ],
      "text/plain": [
       "   t   I  R  D\n",
       "0  0   4  0  0\n",
       "1  1   2  0  0\n",
       "2  2   2  0  0\n",
       "3  3  21  0  0\n",
       "4  4  21  0  0"
      ]
     },
     "execution_count": 3,
     "metadata": {},
     "output_type": "execute_result"
    }
   ],
   "source": [
    "# Cargamos los datos\n",
    "URU = pd.read_csv(\"Uruguay_SCC-19.csv\")\n",
    "# Visualizamos los primeros elementos de la base de datos de Mexico\n",
    "URU.head()"
   ]
  },
  {
   "cell_type": "code",
   "execution_count": 4,
   "metadata": {},
   "outputs": [
    {
     "data": {
      "text/html": [
       "<div>\n",
       "<style scoped>\n",
       "    .dataframe tbody tr th:only-of-type {\n",
       "        vertical-align: middle;\n",
       "    }\n",
       "\n",
       "    .dataframe tbody tr th {\n",
       "        vertical-align: top;\n",
       "    }\n",
       "\n",
       "    .dataframe thead th {\n",
       "        text-align: right;\n",
       "    }\n",
       "</style>\n",
       "<table border=\"1\" class=\"dataframe\">\n",
       "  <thead>\n",
       "    <tr style=\"text-align: right;\">\n",
       "      <th></th>\n",
       "      <th>t</th>\n",
       "      <th>I</th>\n",
       "      <th>R</th>\n",
       "      <th>M</th>\n",
       "    </tr>\n",
       "  </thead>\n",
       "  <tbody>\n",
       "    <tr>\n",
       "      <th>0</th>\n",
       "      <td>0</td>\n",
       "      <td>4</td>\n",
       "      <td>0</td>\n",
       "      <td>0</td>\n",
       "    </tr>\n",
       "    <tr>\n",
       "      <th>1</th>\n",
       "      <td>1</td>\n",
       "      <td>10</td>\n",
       "      <td>0</td>\n",
       "      <td>0</td>\n",
       "    </tr>\n",
       "    <tr>\n",
       "      <th>2</th>\n",
       "      <td>2</td>\n",
       "      <td>8</td>\n",
       "      <td>1</td>\n",
       "      <td>0</td>\n",
       "    </tr>\n",
       "    <tr>\n",
       "      <th>3</th>\n",
       "      <td>3</td>\n",
       "      <td>10</td>\n",
       "      <td>0</td>\n",
       "      <td>1</td>\n",
       "    </tr>\n",
       "    <tr>\n",
       "      <th>4</th>\n",
       "      <td>4</td>\n",
       "      <td>4</td>\n",
       "      <td>0</td>\n",
       "      <td>0</td>\n",
       "    </tr>\n",
       "  </tbody>\n",
       "</table>\n",
       "</div>"
      ],
      "text/plain": [
       "   t   I  R  M\n",
       "0  0   4  0  0\n",
       "1  1  10  0  0\n",
       "2  2   8  1  0\n",
       "3  3  10  0  1\n",
       "4  4   4  0  0"
      ]
     },
     "execution_count": 4,
     "metadata": {},
     "output_type": "execute_result"
    }
   ],
   "source": [
    "NIG=pd.read_csv(\"Nigeria_SCC-19.csv\")\n",
    "# Visualizamos los primeros elementos de la base de datos de Mexico\n",
    "NIG.head()"
   ]
  },
  {
   "cell_type": "code",
   "execution_count": 5,
   "metadata": {},
   "outputs": [
    {
     "data": {
      "text/html": [
       "<div>\n",
       "<style scoped>\n",
       "    .dataframe tbody tr th:only-of-type {\n",
       "        vertical-align: middle;\n",
       "    }\n",
       "\n",
       "    .dataframe tbody tr th {\n",
       "        vertical-align: top;\n",
       "    }\n",
       "\n",
       "    .dataframe thead th {\n",
       "        text-align: right;\n",
       "    }\n",
       "</style>\n",
       "<table border=\"1\" class=\"dataframe\">\n",
       "  <thead>\n",
       "    <tr style=\"text-align: right;\">\n",
       "      <th></th>\n",
       "      <th>t</th>\n",
       "      <th>I</th>\n",
       "      <th>R</th>\n",
       "      <th>D</th>\n",
       "    </tr>\n",
       "  </thead>\n",
       "  <tbody>\n",
       "    <tr>\n",
       "      <th>0</th>\n",
       "      <td>0</td>\n",
       "      <td>2</td>\n",
       "      <td>0</td>\n",
       "      <td>0</td>\n",
       "    </tr>\n",
       "    <tr>\n",
       "      <th>1</th>\n",
       "      <td>1</td>\n",
       "      <td>1</td>\n",
       "      <td>0</td>\n",
       "      <td>0</td>\n",
       "    </tr>\n",
       "    <tr>\n",
       "      <th>2</th>\n",
       "      <td>2</td>\n",
       "      <td>4</td>\n",
       "      <td>0</td>\n",
       "      <td>0</td>\n",
       "    </tr>\n",
       "    <tr>\n",
       "      <th>3</th>\n",
       "      <td>3</td>\n",
       "      <td>10</td>\n",
       "      <td>0</td>\n",
       "      <td>0</td>\n",
       "    </tr>\n",
       "    <tr>\n",
       "      <th>4</th>\n",
       "      <td>4</td>\n",
       "      <td>13</td>\n",
       "      <td>1</td>\n",
       "      <td>0</td>\n",
       "    </tr>\n",
       "  </tbody>\n",
       "</table>\n",
       "</div>"
      ],
      "text/plain": [
       "   t   I  R  D\n",
       "0  0   2  0  0\n",
       "1  1   1  0  0\n",
       "2  2   4  0  0\n",
       "3  3  10  0  0\n",
       "4  4  13  1  0"
      ]
     },
     "execution_count": 5,
     "metadata": {},
     "output_type": "execute_result"
    }
   ],
   "source": [
    "FIL=pd.read_csv(\"Filipinas_SCC-19.csv\")\n",
    "# Visualizamos los primeros elementos de la base de datos de Mexico\n",
    "FIL.head()"
   ]
  },
  {
   "cell_type": "markdown",
   "metadata": {},
   "source": [
    "## 2. Análsis Exploratorio de Datos"
   ]
  },
  {
   "cell_type": "code",
   "execution_count": 6,
   "metadata": {},
   "outputs": [
    {
     "data": {
      "text/plain": [
       "Text(0.5, 1.0, 'Muertes')"
      ]
     },
     "execution_count": 6,
     "metadata": {},
     "output_type": "execute_result"
    },
    {
     "data": {
      "image/png": "[encoded data removed]",
      "text/plain": [
       "<Figure size 1440x504 with 3 Axes>"
      ]
     },
     "metadata": {
      "needs_background": "light"
     },
     "output_type": "display_data"
    }
   ],
   "source": [
    "fig, (ax1,ax2,ax3) = plt.subplots(1,3,figsize=(20,7))\n",
    "fig.suptitle('Uruguay')\n",
    "fig.figsize=(15,15)\n",
    "ax1.plot(URU.I, 'o',color=\"#5DADE2\")\n",
    "ax1.set_title('Infectados')\n",
    "ax2.plot(URU.R, 'o',color=\"#5DADE2\")\n",
    "ax2.set_title('Recuperados')\n",
    "ax3.plot(URU.D, 'o',color=\"#5DADE2\")\n",
    "ax3.set_title('Muertes')"
   ]
  },
  {
   "cell_type": "code",
   "execution_count": 7,
   "metadata": {},
   "outputs": [
    {
     "data": {
      "text/html": [
       "<div>\n",
       "<style scoped>\n",
       "    .dataframe tbody tr th:only-of-type {\n",
       "        vertical-align: middle;\n",
       "    }\n",
       "\n",
       "    .dataframe tbody tr th {\n",
       "        vertical-align: top;\n",
       "    }\n",
       "\n",
       "    .dataframe thead th {\n",
       "        text-align: right;\n",
       "    }\n",
       "</style>\n",
       "<table border=\"1\" class=\"dataframe\">\n",
       "  <thead>\n",
       "    <tr style=\"text-align: right;\">\n",
       "      <th></th>\n",
       "      <th>count</th>\n",
       "      <th>mean</th>\n",
       "      <th>std</th>\n",
       "      <th>min</th>\n",
       "      <th>25%</th>\n",
       "      <th>50%</th>\n",
       "      <th>75%</th>\n",
       "      <th>max</th>\n",
       "    </tr>\n",
       "  </thead>\n",
       "  <tbody>\n",
       "    <tr>\n",
       "      <th>t</th>\n",
       "      <td>299.0</td>\n",
       "      <td>149.000000</td>\n",
       "      <td>86.458082</td>\n",
       "      <td>0.0</td>\n",
       "      <td>74.5</td>\n",
       "      <td>149.0</td>\n",
       "      <td>223.5</td>\n",
       "      <td>298.0</td>\n",
       "    </tr>\n",
       "    <tr>\n",
       "      <th>I</th>\n",
       "      <td>299.0</td>\n",
       "      <td>74.066890</td>\n",
       "      <td>152.851407</td>\n",
       "      <td>0.0</td>\n",
       "      <td>6.0</td>\n",
       "      <td>14.0</td>\n",
       "      <td>38.0</td>\n",
       "      <td>747.0</td>\n",
       "    </tr>\n",
       "    <tr>\n",
       "      <th>R</th>\n",
       "      <td>299.0</td>\n",
       "      <td>53.244147</td>\n",
       "      <td>114.364236</td>\n",
       "      <td>0.0</td>\n",
       "      <td>5.5</td>\n",
       "      <td>12.0</td>\n",
       "      <td>31.5</td>\n",
       "      <td>602.0</td>\n",
       "    </tr>\n",
       "    <tr>\n",
       "      <th>D</th>\n",
       "      <td>299.0</td>\n",
       "      <td>0.725753</td>\n",
       "      <td>1.684425</td>\n",
       "      <td>0.0</td>\n",
       "      <td>0.0</td>\n",
       "      <td>0.0</td>\n",
       "      <td>1.0</td>\n",
       "      <td>12.0</td>\n",
       "    </tr>\n",
       "  </tbody>\n",
       "</table>\n",
       "</div>"
      ],
      "text/plain": [
       "   count        mean         std  min   25%    50%    75%    max\n",
       "t  299.0  149.000000   86.458082  0.0  74.5  149.0  223.5  298.0\n",
       "I  299.0   74.066890  152.851407  0.0   6.0   14.0   38.0  747.0\n",
       "R  299.0   53.244147  114.364236  0.0   5.5   12.0   31.5  602.0\n",
       "D  299.0    0.725753    1.684425  0.0   0.0    0.0    1.0   12.0"
      ]
     },
     "execution_count": 7,
     "metadata": {},
     "output_type": "execute_result"
    }
   ],
   "source": [
    "URU.describe().transpose()"
   ]
  },
  {
   "cell_type": "code",
   "execution_count": 8,
   "metadata": {},
   "outputs": [
    {
     "data": {
      "text/plain": [
       "Text(0.5, 1.0, 'Muertes')"
      ]
     },
     "execution_count": 8,
     "metadata": {},
     "output_type": "execute_result"
    },
    {
     "data": {
      "image/png": "[encoded data removed]",
      "text/plain": [
       "<Figure size 1440x504 with 3 Axes>"
      ]
     },
     "metadata": {
      "needs_background": "light"
     },
     "output_type": "display_data"
    }
   ],
   "source": [
    "fig, (ax1,ax2,ax3) = plt.subplots(1,3,figsize=(20,7))\n",
    "fig.suptitle('Nigeria')\n",
    "ax1.plot(NIG.I, 'o',color=\"#45B39D\")\n",
    "ax1.set_title('Infectados')\n",
    "ax2.plot(NIG.R, 'o',color=\"#45B39D\")\n",
    "ax2.set_title('Recuperados')\n",
    "ax3.plot(NIG.M, 'o',color=\"#45B39D\")\n",
    "ax3.set_title('Muertes')"
   ]
  },
  {
   "cell_type": "code",
   "execution_count": 9,
   "metadata": {},
   "outputs": [
    {
     "data": {
      "text/html": [
       "<div>\n",
       "<style scoped>\n",
       "    .dataframe tbody tr th:only-of-type {\n",
       "        vertical-align: middle;\n",
       "    }\n",
       "\n",
       "    .dataframe tbody tr th {\n",
       "        vertical-align: top;\n",
       "    }\n",
       "\n",
       "    .dataframe thead th {\n",
       "        text-align: right;\n",
       "    }\n",
       "</style>\n",
       "<table border=\"1\" class=\"dataframe\">\n",
       "  <thead>\n",
       "    <tr style=\"text-align: right;\">\n",
       "      <th></th>\n",
       "      <th>count</th>\n",
       "      <th>mean</th>\n",
       "      <th>std</th>\n",
       "      <th>min</th>\n",
       "      <th>25%</th>\n",
       "      <th>50%</th>\n",
       "      <th>75%</th>\n",
       "      <th>max</th>\n",
       "    </tr>\n",
       "  </thead>\n",
       "  <tbody>\n",
       "    <tr>\n",
       "      <th>t</th>\n",
       "      <td>292.0</td>\n",
       "      <td>145.500000</td>\n",
       "      <td>84.437354</td>\n",
       "      <td>0.0</td>\n",
       "      <td>72.75</td>\n",
       "      <td>145.5</td>\n",
       "      <td>218.25</td>\n",
       "      <td>291.0</td>\n",
       "    </tr>\n",
       "    <tr>\n",
       "      <th>I</th>\n",
       "      <td>292.0</td>\n",
       "      <td>317.455479</td>\n",
       "      <td>259.951360</td>\n",
       "      <td>0.0</td>\n",
       "      <td>132.75</td>\n",
       "      <td>237.0</td>\n",
       "      <td>462.25</td>\n",
       "      <td>1354.0</td>\n",
       "    </tr>\n",
       "    <tr>\n",
       "      <th>R</th>\n",
       "      <td>292.0</td>\n",
       "      <td>261.626712</td>\n",
       "      <td>735.731145</td>\n",
       "      <td>0.0</td>\n",
       "      <td>80.25</td>\n",
       "      <td>159.5</td>\n",
       "      <td>277.00</td>\n",
       "      <td>11188.0</td>\n",
       "    </tr>\n",
       "    <tr>\n",
       "      <th>M</th>\n",
       "      <td>292.0</td>\n",
       "      <td>4.523973</td>\n",
       "      <td>4.928643</td>\n",
       "      <td>0.0</td>\n",
       "      <td>1.00</td>\n",
       "      <td>3.0</td>\n",
       "      <td>7.00</td>\n",
       "      <td>31.0</td>\n",
       "    </tr>\n",
       "  </tbody>\n",
       "</table>\n",
       "</div>"
      ],
      "text/plain": [
       "   count        mean         std  min     25%    50%     75%      max\n",
       "t  292.0  145.500000   84.437354  0.0   72.75  145.5  218.25    291.0\n",
       "I  292.0  317.455479  259.951360  0.0  132.75  237.0  462.25   1354.0\n",
       "R  292.0  261.626712  735.731145  0.0   80.25  159.5  277.00  11188.0\n",
       "M  292.0    4.523973    4.928643  0.0    1.00    3.0    7.00     31.0"
      ]
     },
     "execution_count": 9,
     "metadata": {},
     "output_type": "execute_result"
    }
   ],
   "source": [
    "NIG.describe().transpose()"
   ]
  },
  {
   "cell_type": "code",
   "execution_count": 10,
   "metadata": {},
   "outputs": [
    {
     "data": {
      "text/plain": [
       "Text(0.5, 1.0, 'Muertes')"
      ]
     },
     "execution_count": 10,
     "metadata": {},
     "output_type": "execute_result"
    },
    {
     "data": {
      "image/png": "[encoded data removed]",
      "text/plain": [
       "<Figure size 1440x504 with 3 Axes>"
      ]
     },
     "metadata": {
      "needs_background": "light"
     },
     "output_type": "display_data"
    }
   ],
   "source": [
    "fig, (ax1,ax2,ax3) = plt.subplots(1,3,figsize=(20,7))\n",
    "fig.suptitle('Filipinas')\n",
    "ax1.plot(FIL.I, 'o',color=\"#E74C3C\")\n",
    "ax1.set_title('Infectados')\n",
    "ax2.plot(FIL.R, 'o',color=\"#E74C3C\")\n",
    "ax2.set_title('Recuperados')\n",
    "ax3.plot(FIL.D, 'o',color=\"#E74C3C\")\n",
    "ax3.set_title('Muertes')"
   ]
  },
  {
   "cell_type": "code",
   "execution_count": 11,
   "metadata": {},
   "outputs": [
    {
     "data": {
      "text/html": [
       "<div>\n",
       "<style scoped>\n",
       "    .dataframe tbody tr th:only-of-type {\n",
       "        vertical-align: middle;\n",
       "    }\n",
       "\n",
       "    .dataframe tbody tr th {\n",
       "        vertical-align: top;\n",
       "    }\n",
       "\n",
       "    .dataframe thead th {\n",
       "        text-align: right;\n",
       "    }\n",
       "</style>\n",
       "<table border=\"1\" class=\"dataframe\">\n",
       "  <thead>\n",
       "    <tr style=\"text-align: right;\">\n",
       "      <th></th>\n",
       "      <th>count</th>\n",
       "      <th>mean</th>\n",
       "      <th>std</th>\n",
       "      <th>min</th>\n",
       "      <th>25%</th>\n",
       "      <th>50%</th>\n",
       "      <th>75%</th>\n",
       "      <th>max</th>\n",
       "    </tr>\n",
       "  </thead>\n",
       "  <tbody>\n",
       "    <tr>\n",
       "      <th>t</th>\n",
       "      <td>306.0</td>\n",
       "      <td>152.500000</td>\n",
       "      <td>88.478811</td>\n",
       "      <td>0.0</td>\n",
       "      <td>76.25</td>\n",
       "      <td>152.5</td>\n",
       "      <td>228.75</td>\n",
       "      <td>305.0</td>\n",
       "    </tr>\n",
       "    <tr>\n",
       "      <th>I</th>\n",
       "      <td>306.0</td>\n",
       "      <td>1567.614379</td>\n",
       "      <td>1354.937727</td>\n",
       "      <td>1.0</td>\n",
       "      <td>320.50</td>\n",
       "      <td>1384.0</td>\n",
       "      <td>2226.25</td>\n",
       "      <td>6725.0</td>\n",
       "    </tr>\n",
       "    <tr>\n",
       "      <th>R</th>\n",
       "      <td>306.0</td>\n",
       "      <td>1466.686275</td>\n",
       "      <td>4858.535099</td>\n",
       "      <td>0.0</td>\n",
       "      <td>82.00</td>\n",
       "      <td>226.5</td>\n",
       "      <td>469.25</td>\n",
       "      <td>40377.0</td>\n",
       "    </tr>\n",
       "    <tr>\n",
       "      <th>D</th>\n",
       "      <td>306.0</td>\n",
       "      <td>30.470588</td>\n",
       "      <td>33.260139</td>\n",
       "      <td>0.0</td>\n",
       "      <td>8.00</td>\n",
       "      <td>18.0</td>\n",
       "      <td>42.00</td>\n",
       "      <td>259.0</td>\n",
       "    </tr>\n",
       "  </tbody>\n",
       "</table>\n",
       "</div>"
      ],
      "text/plain": [
       "   count         mean          std  min     25%     50%      75%      max\n",
       "t  306.0   152.500000    88.478811  0.0   76.25   152.5   228.75    305.0\n",
       "I  306.0  1567.614379  1354.937727  1.0  320.50  1384.0  2226.25   6725.0\n",
       "R  306.0  1466.686275  4858.535099  0.0   82.00   226.5   469.25  40377.0\n",
       "D  306.0    30.470588    33.260139  0.0    8.00    18.0    42.00    259.0"
      ]
     },
     "execution_count": 11,
     "metadata": {},
     "output_type": "execute_result"
    }
   ],
   "source": [
    "FIL.describe().transpose()"
   ]
  },
  {
   "cell_type": "markdown",
   "metadata": {},
   "source": [
    "## 3. Modelos de ecuaciones diferenciales\n",
    "### 3.1 SIR\n",
    "\n",
    "<style>\n",
    "p.comment {\n",
    "background-color: #DBDBDB;\n",
    "padding: 10px;\n",
    "border: 1px solid black;\n",
    "margin-left: 25px;\n",
    "border-radius: 5px;\n",
    "font-style: italic;\n",
    "}\n",
    "</style>\n",
    "\n",
    "Es un modelo de ecuaciones diferenciales utilizado en epidemiología para modelar el compotamiento de enfermedades infecciosas, fue diseñado en 1927 por los médicos W. O. Kermack y A. G. McKendrick. Cuando una enfermedad es nueva como el **SARS-CoV 2 (Covid 19)** todos los habitantes de una población son candidatos a contraer dicha enfermedad con la misma probabilidad, con forme avanza el brote infeccioso diferentes condiciones hacen que aumente o disminuya la probabilidad de ser contagiado.\n",
    "<p></p>\n",
    "Un supuesto que se hace en este modelo es pensar en una población cerrada ante nacimientos y migración, por lo tanto la población inicial\n",
    "\n",
    "<div class=\"alert alert-info\">\n",
    "    <ul>\n",
    "      <li><strong>Susceptibles:</strong> personas que pueden contraer la enfermedad.</li>\n",
    "      <li><strong>Infectados:</strong> personas que contrajeron la enfermedad y pueden contagiar a los demás.</li>\n",
    "      <li><strong>Recuperados:</strong> personas que salieron de la enfermedad y adquieren inmunidad temporal.</li>\n",
    "    </ul>\n",
    "</div>\n",
    "\n",
    "\n",
    "$$\n",
    "\\begin{eqnarray}\n",
    "\\frac{dS}{dt}&=& -\\beta S\\frac{I}{N} \\\\\n",
    "\\frac{dI}{dt}&=& \\beta S\\frac{I}{N} - \\gamma I \\\\\n",
    "\\frac{dR}{dt}&=& \\gamma I\n",
    "\\end{eqnarray}\n",
    "$$\n"
   ]
  },
  {
   "cell_type": "code",
   "execution_count": 12,
   "metadata": {},
   "outputs": [],
   "source": [
    "# Modelo\n",
    "def SIR(z, t, beta, gamma):\n",
    "    \n",
    "    S, I, R= z\n",
    "    \n",
    "    return [-beta*(S/N)*I,beta*(S/N)*I-gamma*I,gamma*I]"
   ]
  },
  {
   "cell_type": "code",
   "execution_count": 13,
   "metadata": {},
   "outputs": [],
   "source": [
    "N=3449299\n",
    "def SURU():   \n",
    "    return N-4     # I_0\n",
    "def IURU():   \n",
    "    return 4     # I_0\n",
    "def RURU():\n",
    "    return 0       # R_0\n",
    "URU1=URU.loc[:,[\"t\",\"I\",\"R\"]]\n",
    "#URU1=URU1[0:100]"
   ]
  },
  {
   "cell_type": "code",
   "execution_count": 14,
   "metadata": {},
   "outputs": [],
   "source": [
    "modeloURU = pde.PDEmodel(URU1, SIR, [SURU,IURU,RURU], bounds=[(0, 1), (0,1)], \n",
    "                        param_names=[r'$\\beta$', r'$\\gamma$'], nvars=3, ndims=0, nreplicates=1, obsidx=[1,2], outfunc=None)"
   ]
  },
  {
   "cell_type": "code",
   "execution_count": 15,
   "metadata": {},
   "outputs": [
    {
     "data": {
      "text/plain": [
       "array([3449295,       4,       0])"
      ]
     },
     "execution_count": 15,
     "metadata": {},
     "output_type": "execute_result"
    }
   ],
   "source": [
    "# Printing the initial condition\n",
    "modeloURU.initial_condition"
   ]
  },
  {
   "cell_type": "code",
   "execution_count": 16,
   "metadata": {},
   "outputs": [
    {
     "name": "stdout",
     "output_type": "stream",
     "text": [
      "    $\\beta$  $\\gamma$\n",
      "0  0.027434  0.011225\n",
      "Wall time: 1.45 s\n"
     ]
    }
   ],
   "source": [
    "%%time\n",
    "modeloURU.fit()"
   ]
  },
  {
   "cell_type": "code",
   "execution_count": 17,
   "metadata": {},
   "outputs": [
    {
     "data": {
      "text/html": [
       "<div>\n",
       "<style scoped>\n",
       "    .dataframe tbody tr th:only-of-type {\n",
       "        vertical-align: middle;\n",
       "    }\n",
       "\n",
       "    .dataframe tbody tr th {\n",
       "        vertical-align: top;\n",
       "    }\n",
       "\n",
       "    .dataframe thead th {\n",
       "        text-align: right;\n",
       "    }\n",
       "</style>\n",
       "<table border=\"1\" class=\"dataframe\">\n",
       "  <thead>\n",
       "    <tr style=\"text-align: right;\">\n",
       "      <th></th>\n",
       "      <th>$\\beta$</th>\n",
       "      <th>$\\gamma$</th>\n",
       "    </tr>\n",
       "  </thead>\n",
       "  <tbody>\n",
       "    <tr>\n",
       "      <th>0</th>\n",
       "      <td>0.027434</td>\n",
       "      <td>0.011225</td>\n",
       "    </tr>\n",
       "  </tbody>\n",
       "</table>\n",
       "</div>"
      ],
      "text/plain": [
       "    $\\beta$  $\\gamma$\n",
       "0  0.027434  0.011225"
      ]
     },
     "execution_count": 17,
     "metadata": {},
     "output_type": "execute_result"
    }
   ],
   "source": [
    "modeloURU.best_params"
   ]
  },
  {
   "cell_type": "code",
   "execution_count": 18,
   "metadata": {},
   "outputs": [
    {
     "data": {
      "text/plain": [
       "4680.044775115135"
      ]
     },
     "execution_count": 18,
     "metadata": {},
     "output_type": "execute_result"
    }
   ],
   "source": [
    "modeloURU.best_error"
   ]
  },
  {
   "cell_type": "code",
   "execution_count": 19,
   "metadata": {},
   "outputs": [
    {
     "data": {
      "application/vnd.jupyter.widget-view+json": {
       "model_id": "52105b7cb84145c1bef228e834ebfbe7",
       "version_major": 2,
       "version_minor": 0
      },
      "text/plain": [
       "HBox(children=(HTML(value='parameters'), FloatProgress(value=0.0, max=2.0), HTML(value='')))"
      ]
     },
     "metadata": {},
     "output_type": "display_data"
    },
    {
     "data": {
      "application/vnd.jupyter.widget-view+json": {
       "model_id": "afa6448681c2494c8fa3e50be5400801",
       "version_major": 2,
       "version_minor": 0
      },
      "text/plain": [
       "HBox(children=(HTML(value='values within parameters'), FloatProgress(value=0.0), HTML(value='')))"
      ]
     },
     "metadata": {},
     "output_type": "display_data"
    },
    {
     "name": "stdout",
     "output_type": "stream",
     "text": [
      "\n"
     ]
    },
    {
     "data": {
      "application/vnd.jupyter.widget-view+json": {
       "model_id": "10a2127f21a24203a61b81373278d3e3",
       "version_major": 2,
       "version_minor": 0
      },
      "text/plain": [
       "HBox(children=(HTML(value='values within parameters'), FloatProgress(value=0.0), HTML(value='')))"
      ]
     },
     "metadata": {},
     "output_type": "display_data"
    },
    {
     "name": "stdout",
     "output_type": "stream",
     "text": [
      "\n",
      "\n",
      "Wall time: 1min 34s\n"
     ]
    }
   ],
   "source": [
    "%%time\n",
    "modeloURU.likelihood_profiles()"
   ]
  },
  {
   "cell_type": "code",
   "execution_count": 20,
   "metadata": {},
   "outputs": [
    {
     "data": {
      "text/html": [
       "<div>\n",
       "<style scoped>\n",
       "    .dataframe tbody tr th:only-of-type {\n",
       "        vertical-align: middle;\n",
       "    }\n",
       "\n",
       "    .dataframe tbody tr th {\n",
       "        vertical-align: top;\n",
       "    }\n",
       "\n",
       "    .dataframe thead th {\n",
       "        text-align: right;\n",
       "    }\n",
       "</style>\n",
       "<table border=\"1\" class=\"dataframe\">\n",
       "  <thead>\n",
       "    <tr style=\"text-align: right;\">\n",
       "      <th></th>\n",
       "      <th>parameter</th>\n",
       "      <th>value</th>\n",
       "      <th>error</th>\n",
       "    </tr>\n",
       "  </thead>\n",
       "  <tbody>\n",
       "    <tr>\n",
       "      <th>0</th>\n",
       "      <td>$\\beta$</td>\n",
       "      <td>0.000000</td>\n",
       "      <td>22108.771797</td>\n",
       "    </tr>\n",
       "    <tr>\n",
       "      <th>1</th>\n",
       "      <td>$\\beta$</td>\n",
       "      <td>0.010101</td>\n",
       "      <td>21844.702067</td>\n",
       "    </tr>\n",
       "    <tr>\n",
       "      <th>2</th>\n",
       "      <td>$\\beta$</td>\n",
       "      <td>0.020202</td>\n",
       "      <td>7207.616633</td>\n",
       "    </tr>\n",
       "    <tr>\n",
       "      <th>3</th>\n",
       "      <td>$\\beta$</td>\n",
       "      <td>0.030303</td>\n",
       "      <td>5018.983152</td>\n",
       "    </tr>\n",
       "    <tr>\n",
       "      <th>4</th>\n",
       "      <td>$\\beta$</td>\n",
       "      <td>0.040404</td>\n",
       "      <td>8925.119043</td>\n",
       "    </tr>\n",
       "    <tr>\n",
       "      <th>...</th>\n",
       "      <td>...</td>\n",
       "      <td>...</td>\n",
       "      <td>...</td>\n",
       "    </tr>\n",
       "    <tr>\n",
       "      <th>195</th>\n",
       "      <td>$\\gamma$</td>\n",
       "      <td>0.959596</td>\n",
       "      <td>20794.275902</td>\n",
       "    </tr>\n",
       "    <tr>\n",
       "      <th>196</th>\n",
       "      <td>$\\gamma$</td>\n",
       "      <td>0.969697</td>\n",
       "      <td>20795.420917</td>\n",
       "    </tr>\n",
       "    <tr>\n",
       "      <th>197</th>\n",
       "      <td>$\\gamma$</td>\n",
       "      <td>0.979798</td>\n",
       "      <td>20796.616931</td>\n",
       "    </tr>\n",
       "    <tr>\n",
       "      <th>198</th>\n",
       "      <td>$\\gamma$</td>\n",
       "      <td>0.989899</td>\n",
       "      <td>20797.702921</td>\n",
       "    </tr>\n",
       "    <tr>\n",
       "      <th>199</th>\n",
       "      <td>$\\gamma$</td>\n",
       "      <td>1.000000</td>\n",
       "      <td>20798.808412</td>\n",
       "    </tr>\n",
       "  </tbody>\n",
       "</table>\n",
       "<p>200 rows × 3 columns</p>\n",
       "</div>"
      ],
      "text/plain": [
       "    parameter     value         error\n",
       "0     $\\beta$  0.000000  22108.771797\n",
       "1     $\\beta$  0.010101  21844.702067\n",
       "2     $\\beta$  0.020202   7207.616633\n",
       "3     $\\beta$  0.030303   5018.983152\n",
       "4     $\\beta$  0.040404   8925.119043\n",
       "..        ...       ...           ...\n",
       "195  $\\gamma$  0.959596  20794.275902\n",
       "196  $\\gamma$  0.969697  20795.420917\n",
       "197  $\\gamma$  0.979798  20796.616931\n",
       "198  $\\gamma$  0.989899  20797.702921\n",
       "199  $\\gamma$  1.000000  20798.808412\n",
       "\n",
       "[200 rows x 3 columns]"
      ]
     },
     "execution_count": 20,
     "metadata": {},
     "output_type": "execute_result"
    }
   ],
   "source": [
    "modeloURU.result_profiles"
   ]
  },
  {
   "cell_type": "code",
   "execution_count": 21,
   "metadata": {},
   "outputs": [
    {
     "name": "stderr",
     "output_type": "stream",
     "text": [
      "*c* argument looks like a single numeric RGB or RGBA sequence, which should be avoided as value-mapping will have precedence in case its length matches with *x* & *y*.  Please use the *color* keyword-argument or provide a 2-D array with a single row if you intend to specify the same RGB or RGBA value for all points.\n"
     ]
    },
    {
     "data": {
      "image/png": "[encoded data removed]",
      "text/plain": [
       "<Figure size 432x288 with 1 Axes>"
      ]
     },
     "metadata": {
      "needs_background": "light"
     },
     "output_type": "display_data"
    },
    {
     "name": "stderr",
     "output_type": "stream",
     "text": [
      "*c* argument looks like a single numeric RGB or RGBA sequence, which should be avoided as value-mapping will have precedence in case its length matches with *x* & *y*.  Please use the *color* keyword-argument or provide a 2-D array with a single row if you intend to specify the same RGB or RGBA value for all points.\n"
     ]
    },
    {
     "data": {
      "image/png": "[encoded data removed]",
      "text/plain": [
       "<Figure size 432x288 with 1 Axes>"
      ]
     },
     "metadata": {
      "needs_background": "light"
     },
     "output_type": "display_data"
    }
   ],
   "source": [
    "modeloURU.plot_profiles()"
   ]
  },
  {
   "cell_type": "code",
   "execution_count": 22,
   "metadata": {},
   "outputs": [],
   "source": [
    "# Tomamos los valores del modelo\n",
    "beta = modeloURU.best_params.iloc[0,0]\n",
    "gamma = modeloURU.best_params.iloc[0,1]\n",
    "z0 = modeloURU.initial_condition\n",
    "# Integrate the SIR equations over the time grid, t.\n",
    "t = URU.t\n",
    "ret = odeint(SIR, z0, t, args=(beta, gamma))\n",
    "S, I, R = ret.T"
   ]
  },
  {
   "cell_type": "code",
   "execution_count": 23,
   "metadata": {},
   "outputs": [
    {
     "data": {
      "text/plain": [
       "<matplotlib.legend.Legend at 0x20225314dc0>"
      ]
     },
     "execution_count": 23,
     "metadata": {},
     "output_type": "execute_result"
    },
    {
     "data": {
      "image/png": "[encoded data removed]",
      "text/plain": [
       "<Figure size 432x288 with 1 Axes>"
      ]
     },
     "metadata": {
      "needs_background": "light"
     },
     "output_type": "display_data"
    }
   ],
   "source": [
    "fig = plt.figure()\n",
    "plt.title(\"Datos vs Ajuste (Infectados)\")\n",
    "plt.plot(t,URU.I,'o',label=\"Datos\",color=\"#5DADE2\")\n",
    "plt.plot(t,I,'-',lw=3,label=\"Ajuste\")\n",
    "plt.legend()"
   ]
  },
  {
   "cell_type": "code",
   "execution_count": 24,
   "metadata": {},
   "outputs": [
    {
     "data": {
      "text/plain": [
       "<matplotlib.legend.Legend at 0x2022538ad60>"
      ]
     },
     "execution_count": 24,
     "metadata": {},
     "output_type": "execute_result"
    },
    {
     "data": {
      "image/png": "[encoded data removed]",
      "text/plain": [
       "<Figure size 432x288 with 1 Axes>"
      ]
     },
     "metadata": {
      "needs_background": "light"
     },
     "output_type": "display_data"
    }
   ],
   "source": [
    "fig = plt.figure()\n",
    "plt.title(\"Datos vs Ajuste (Recuperados)\")\n",
    "plt.plot(t,URU.R,'o',label=\"Datos\",color=\"#5DADE2\")\n",
    "plt.plot(t,R,'-',lw=3,label=\"Ajuste\")\n",
    "plt.legend()"
   ]
  },
  {
   "cell_type": "code",
   "execution_count": 25,
   "metadata": {},
   "outputs": [],
   "source": [
    "N=195874740\n",
    "def SNIG():   \n",
    "    return N-4     # I_0\n",
    "def INIG():   \n",
    "    return 4     # I_0\n",
    "def RNIG():\n",
    "    return 0       # R_0\n",
    "NIG1=NIG.loc[:,[\"t\",\"I\",\"R\"]]\n",
    "NIG1=NIG1[0:100]"
   ]
  },
  {
   "cell_type": "code",
   "execution_count": 26,
   "metadata": {},
   "outputs": [],
   "source": [
    "modeloNIG = pde.PDEmodel(NIG1, SIR, [SNIG,INIG,RNIG], bounds=[(0, 1), (0,1)], \n",
    "                        param_names=[r'$\\beta$', r'$\\gamma$'], nvars=3, ndims=0, nreplicates=1, obsidx=[1,2], outfunc=None)"
   ]
  },
  {
   "cell_type": "code",
   "execution_count": 27,
   "metadata": {},
   "outputs": [
    {
     "data": {
      "text/plain": [
       "array([195874736,         4,         0])"
      ]
     },
     "execution_count": 27,
     "metadata": {},
     "output_type": "execute_result"
    }
   ],
   "source": [
    "# Printing the initial condition\n",
    "modeloNIG.initial_condition"
   ]
  },
  {
   "cell_type": "code",
   "execution_count": 28,
   "metadata": {},
   "outputs": [
    {
     "name": "stdout",
     "output_type": "stream",
     "text": [
      "    $\\beta$  $\\gamma$\n",
      "0  0.078274  0.023412\n",
      "Wall time: 897 ms\n"
     ]
    }
   ],
   "source": [
    "%%time\n",
    "modeloNIG.fit()"
   ]
  },
  {
   "cell_type": "code",
   "execution_count": 29,
   "metadata": {},
   "outputs": [
    {
     "data": {
      "text/html": [
       "<div>\n",
       "<style scoped>\n",
       "    .dataframe tbody tr th:only-of-type {\n",
       "        vertical-align: middle;\n",
       "    }\n",
       "\n",
       "    .dataframe tbody tr th {\n",
       "        vertical-align: top;\n",
       "    }\n",
       "\n",
       "    .dataframe thead th {\n",
       "        text-align: right;\n",
       "    }\n",
       "</style>\n",
       "<table border=\"1\" class=\"dataframe\">\n",
       "  <thead>\n",
       "    <tr style=\"text-align: right;\">\n",
       "      <th></th>\n",
       "      <th>$\\beta$</th>\n",
       "      <th>$\\gamma$</th>\n",
       "    </tr>\n",
       "  </thead>\n",
       "  <tbody>\n",
       "    <tr>\n",
       "      <th>0</th>\n",
       "      <td>0.078274</td>\n",
       "      <td>0.023412</td>\n",
       "    </tr>\n",
       "  </tbody>\n",
       "</table>\n",
       "</div>"
      ],
      "text/plain": [
       "    $\\beta$  $\\gamma$\n",
       "0  0.078274  0.023412"
      ]
     },
     "execution_count": 29,
     "metadata": {},
     "output_type": "execute_result"
    }
   ],
   "source": [
    "modeloNIG.best_params"
   ]
  },
  {
   "cell_type": "code",
   "execution_count": 30,
   "metadata": {},
   "outputs": [
    {
     "data": {
      "text/plain": [
       "10303.765907030791"
      ]
     },
     "execution_count": 30,
     "metadata": {},
     "output_type": "execute_result"
    }
   ],
   "source": [
    "modeloNIG.best_error"
   ]
  },
  {
   "cell_type": "code",
   "execution_count": 31,
   "metadata": {},
   "outputs": [
    {
     "data": {
      "application/vnd.jupyter.widget-view+json": {
       "model_id": "9921f0a4d6564fcf8cc19d5b62603c27",
       "version_major": 2,
       "version_minor": 0
      },
      "text/plain": [
       "HBox(children=(HTML(value='parameters'), FloatProgress(value=0.0, max=2.0), HTML(value='')))"
      ]
     },
     "metadata": {},
     "output_type": "display_data"
    },
    {
     "data": {
      "application/vnd.jupyter.widget-view+json": {
       "model_id": "6e1cddc1cafb4628b086e641ced00760",
       "version_major": 2,
       "version_minor": 0
      },
      "text/plain": [
       "HBox(children=(HTML(value='values within parameters'), FloatProgress(value=0.0), HTML(value='')))"
      ]
     },
     "metadata": {},
     "output_type": "display_data"
    },
    {
     "name": "stdout",
     "output_type": "stream",
     "text": [
      "\n"
     ]
    },
    {
     "data": {
      "application/vnd.jupyter.widget-view+json": {
       "model_id": "d8b07bb52db74072a8386ca9d2a8575c",
       "version_major": 2,
       "version_minor": 0
      },
      "text/plain": [
       "HBox(children=(HTML(value='values within parameters'), FloatProgress(value=0.0), HTML(value='')))"
      ]
     },
     "metadata": {},
     "output_type": "display_data"
    },
    {
     "name": "stdout",
     "output_type": "stream",
     "text": [
      "\n",
      "\n",
      "Wall time: 1min 11s\n"
     ]
    }
   ],
   "source": [
    "%%time\n",
    "modeloNIG.likelihood_profiles()"
   ]
  },
  {
   "cell_type": "code",
   "execution_count": 32,
   "metadata": {},
   "outputs": [
    {
     "data": {
      "text/html": [
       "<div>\n",
       "<style scoped>\n",
       "    .dataframe tbody tr th:only-of-type {\n",
       "        vertical-align: middle;\n",
       "    }\n",
       "\n",
       "    .dataframe tbody tr th {\n",
       "        vertical-align: top;\n",
       "    }\n",
       "\n",
       "    .dataframe thead th {\n",
       "        text-align: right;\n",
       "    }\n",
       "</style>\n",
       "<table border=\"1\" class=\"dataframe\">\n",
       "  <thead>\n",
       "    <tr style=\"text-align: right;\">\n",
       "      <th></th>\n",
       "      <th>parameter</th>\n",
       "      <th>value</th>\n",
       "      <th>error</th>\n",
       "    </tr>\n",
       "  </thead>\n",
       "  <tbody>\n",
       "    <tr>\n",
       "      <th>0</th>\n",
       "      <td>$\\beta$</td>\n",
       "      <td>0.000000</td>\n",
       "      <td>60024.493488</td>\n",
       "    </tr>\n",
       "    <tr>\n",
       "      <th>1</th>\n",
       "      <td>$\\beta$</td>\n",
       "      <td>0.010101</td>\n",
       "      <td>60292.482001</td>\n",
       "    </tr>\n",
       "    <tr>\n",
       "      <th>2</th>\n",
       "      <td>$\\beta$</td>\n",
       "      <td>0.020202</td>\n",
       "      <td>59744.385009</td>\n",
       "    </tr>\n",
       "    <tr>\n",
       "      <th>3</th>\n",
       "      <td>$\\beta$</td>\n",
       "      <td>0.030303</td>\n",
       "      <td>51159.815044</td>\n",
       "    </tr>\n",
       "    <tr>\n",
       "      <th>4</th>\n",
       "      <td>$\\beta$</td>\n",
       "      <td>0.040404</td>\n",
       "      <td>39917.984806</td>\n",
       "    </tr>\n",
       "    <tr>\n",
       "      <th>...</th>\n",
       "      <td>...</td>\n",
       "      <td>...</td>\n",
       "      <td>...</td>\n",
       "    </tr>\n",
       "    <tr>\n",
       "      <th>195</th>\n",
       "      <td>$\\gamma$</td>\n",
       "      <td>0.959596</td>\n",
       "      <td>54848.443911</td>\n",
       "    </tr>\n",
       "    <tr>\n",
       "      <th>196</th>\n",
       "      <td>$\\gamma$</td>\n",
       "      <td>0.969697</td>\n",
       "      <td>54874.902948</td>\n",
       "    </tr>\n",
       "    <tr>\n",
       "      <th>197</th>\n",
       "      <td>$\\gamma$</td>\n",
       "      <td>0.979798</td>\n",
       "      <td>54900.926891</td>\n",
       "    </tr>\n",
       "    <tr>\n",
       "      <th>198</th>\n",
       "      <td>$\\gamma$</td>\n",
       "      <td>0.989899</td>\n",
       "      <td>54926.530705</td>\n",
       "    </tr>\n",
       "    <tr>\n",
       "      <th>199</th>\n",
       "      <td>$\\gamma$</td>\n",
       "      <td>1.000000</td>\n",
       "      <td>54954.305078</td>\n",
       "    </tr>\n",
       "  </tbody>\n",
       "</table>\n",
       "<p>200 rows × 3 columns</p>\n",
       "</div>"
      ],
      "text/plain": [
       "    parameter     value         error\n",
       "0     $\\beta$  0.000000  60024.493488\n",
       "1     $\\beta$  0.010101  60292.482001\n",
       "2     $\\beta$  0.020202  59744.385009\n",
       "3     $\\beta$  0.030303  51159.815044\n",
       "4     $\\beta$  0.040404  39917.984806\n",
       "..        ...       ...           ...\n",
       "195  $\\gamma$  0.959596  54848.443911\n",
       "196  $\\gamma$  0.969697  54874.902948\n",
       "197  $\\gamma$  0.979798  54900.926891\n",
       "198  $\\gamma$  0.989899  54926.530705\n",
       "199  $\\gamma$  1.000000  54954.305078\n",
       "\n",
       "[200 rows x 3 columns]"
      ]
     },
     "execution_count": 32,
     "metadata": {},
     "output_type": "execute_result"
    }
   ],
   "source": [
    "modeloNIG.result_profiles"
   ]
  },
  {
   "cell_type": "code",
   "execution_count": 33,
   "metadata": {},
   "outputs": [
    {
     "name": "stderr",
     "output_type": "stream",
     "text": [
      "*c* argument looks like a single numeric RGB or RGBA sequence, which should be avoided as value-mapping will have precedence in case its length matches with *x* & *y*.  Please use the *color* keyword-argument or provide a 2-D array with a single row if you intend to specify the same RGB or RGBA value for all points.\n"
     ]
    },
    {
     "data": {
      "image/png": "[encoded data removed]",
      "text/plain": [
       "<Figure size 432x288 with 1 Axes>"
      ]
     },
     "metadata": {
      "needs_background": "light"
     },
     "output_type": "display_data"
    },
    {
     "name": "stderr",
     "output_type": "stream",
     "text": [
      "*c* argument looks like a single numeric RGB or RGBA sequence, which should be avoided as value-mapping will have precedence in case its length matches with *x* & *y*.  Please use the *color* keyword-argument or provide a 2-D array with a single row if you intend to specify the same RGB or RGBA value for all points.\n"
     ]
    },
    {
     "data": {
      "image/png": "[encoded data removed]",
      "text/plain": [
       "<Figure size 432x288 with 1 Axes>"
      ]
     },
     "metadata": {
      "needs_background": "light"
     },
     "output_type": "display_data"
    }
   ],
   "source": [
    "modeloNIG.plot_profiles()"
   ]
  },
  {
   "cell_type": "code",
   "execution_count": 34,
   "metadata": {},
   "outputs": [],
   "source": [
    "# Tomamos los valores del modelo\n",
    "beta = modeloNIG.best_params.iloc[0,0]\n",
    "gamma = modeloNIG.best_params.iloc[0,1]\n",
    "z0 = modeloNIG.initial_condition\n",
    "# Integrate the SIR equations over the time grid, t.\n",
    "t = NIG.t[0:100]\n",
    "ret = odeint(SIR, z0, t, args=(beta, gamma))\n",
    "S, I, R = ret.T"
   ]
  },
  {
   "cell_type": "code",
   "execution_count": 35,
   "metadata": {},
   "outputs": [
    {
     "data": {
      "text/plain": [
       "<matplotlib.legend.Legend at 0x202254be370>"
      ]
     },
     "execution_count": 35,
     "metadata": {},
     "output_type": "execute_result"
    },
    {
     "data": {
      "image/png": "[encoded data removed]",
      "text/plain": [
       "<Figure size 432x288 with 1 Axes>"
      ]
     },
     "metadata": {
      "needs_background": "light"
     },
     "output_type": "display_data"
    }
   ],
   "source": [
    "fig = plt.figure()\n",
    "plt.title(\"Datos vs Ajuste (Infectados)\")\n",
    "plt.plot(t,NIG.I[0:100],'o',label=\"Datos\",color=\"#45B39D\")\n",
    "plt.plot(t,I,'-',lw=3,label=\"Ajuste\")\n",
    "plt.legend()"
   ]
  },
  {
   "cell_type": "code",
   "execution_count": 36,
   "metadata": {},
   "outputs": [
    {
     "data": {
      "text/plain": [
       "<matplotlib.legend.Legend at 0x20225754a30>"
      ]
     },
     "execution_count": 36,
     "metadata": {},
     "output_type": "execute_result"
    },
    {
     "data": {
      "image/png": "[encoded data removed]",
      "text/plain": [
       "<Figure size 432x288 with 1 Axes>"
      ]
     },
     "metadata": {
      "needs_background": "light"
     },
     "output_type": "display_data"
    }
   ],
   "source": [
    "fig = plt.figure()\n",
    "plt.title(\"Datos vs Ajuste (Recuperados)\")\n",
    "plt.plot(t,NIG.R[0:100],'o',color=\"#45B39D\",label=\"Datos\")\n",
    "plt.plot(t,R,'-',lw=3,label=\"Ajuste\")\n",
    "plt.legend()"
   ]
  },
  {
   "cell_type": "code",
   "execution_count": 37,
   "metadata": {},
   "outputs": [],
   "source": [
    "N=106651922\n",
    "def SFIL():   \n",
    "    return N-2     # I_0\n",
    "def IFIL():   \n",
    "    return 2     # I_0\n",
    "def RFIL():\n",
    "    return 0       # R_0\n",
    "FIL1=FIL.loc[:,[\"t\",\"I\",\"R\"]]\n",
    "FIL1=FIL1[0:100]"
   ]
  },
  {
   "cell_type": "code",
   "execution_count": 38,
   "metadata": {},
   "outputs": [],
   "source": [
    "modeloFIL = pde.PDEmodel(FIL1, SIR, [SFIL,IFIL,RFIL], bounds=[(0, 1), (0,1)], \n",
    "                        param_names=[r'$\\beta$', r'$\\gamma$'], nvars=3, ndims=0, nreplicates=1, obsidx=[1,2], outfunc=None)"
   ]
  },
  {
   "cell_type": "code",
   "execution_count": 39,
   "metadata": {},
   "outputs": [
    {
     "data": {
      "text/plain": [
       "array([106651920,         2,         0])"
      ]
     },
     "execution_count": 39,
     "metadata": {},
     "output_type": "execute_result"
    }
   ],
   "source": [
    "# Printing the initial condition\n",
    "modeloFIL.initial_condition"
   ]
  },
  {
   "cell_type": "code",
   "execution_count": 40,
   "metadata": {},
   "outputs": [
    {
     "name": "stdout",
     "output_type": "stream",
     "text": [
      "    $\\beta$  $\\gamma$\n",
      "0  0.078107  0.016644\n",
      "Wall time: 967 ms\n"
     ]
    }
   ],
   "source": [
    "%%time\n",
    "modeloFIL.fit()"
   ]
  },
  {
   "cell_type": "code",
   "execution_count": 41,
   "metadata": {},
   "outputs": [
    {
     "data": {
      "text/html": [
       "<div>\n",
       "<style scoped>\n",
       "    .dataframe tbody tr th:only-of-type {\n",
       "        vertical-align: middle;\n",
       "    }\n",
       "\n",
       "    .dataframe tbody tr th {\n",
       "        vertical-align: top;\n",
       "    }\n",
       "\n",
       "    .dataframe thead th {\n",
       "        text-align: right;\n",
       "    }\n",
       "</style>\n",
       "<table border=\"1\" class=\"dataframe\">\n",
       "  <thead>\n",
       "    <tr style=\"text-align: right;\">\n",
       "      <th></th>\n",
       "      <th>$\\beta$</th>\n",
       "      <th>$\\gamma$</th>\n",
       "    </tr>\n",
       "  </thead>\n",
       "  <tbody>\n",
       "    <tr>\n",
       "      <th>0</th>\n",
       "      <td>0.078107</td>\n",
       "      <td>0.016644</td>\n",
       "    </tr>\n",
       "  </tbody>\n",
       "</table>\n",
       "</div>"
      ],
      "text/plain": [
       "    $\\beta$  $\\gamma$\n",
       "0  0.078107  0.016644"
      ]
     },
     "execution_count": 41,
     "metadata": {},
     "output_type": "execute_result"
    }
   ],
   "source": [
    "modeloFIL.best_params"
   ]
  },
  {
   "cell_type": "code",
   "execution_count": 42,
   "metadata": {},
   "outputs": [
    {
     "data": {
      "text/plain": [
       "18060.493004838576"
      ]
     },
     "execution_count": 42,
     "metadata": {},
     "output_type": "execute_result"
    }
   ],
   "source": [
    "modeloFIL.best_error"
   ]
  },
  {
   "cell_type": "code",
   "execution_count": 43,
   "metadata": {},
   "outputs": [
    {
     "data": {
      "application/vnd.jupyter.widget-view+json": {
       "model_id": "4f437d9a6c604b48bfc47c07297764d4",
       "version_major": 2,
       "version_minor": 0
      },
      "text/plain": [
       "HBox(children=(HTML(value='parameters'), FloatProgress(value=0.0, max=2.0), HTML(value='')))"
      ]
     },
     "metadata": {},
     "output_type": "display_data"
    },
    {
     "data": {
      "application/vnd.jupyter.widget-view+json": {
       "model_id": "bbaa03b766834343b1b81b8898d8f317",
       "version_major": 2,
       "version_minor": 0
      },
      "text/plain": [
       "HBox(children=(HTML(value='values within parameters'), FloatProgress(value=0.0), HTML(value='')))"
      ]
     },
     "metadata": {},
     "output_type": "display_data"
    },
    {
     "name": "stdout",
     "output_type": "stream",
     "text": [
      "\n"
     ]
    },
    {
     "data": {
      "application/vnd.jupyter.widget-view+json": {
       "model_id": "b42472fc9f094a99af3fbb11be873cc2",
       "version_major": 2,
       "version_minor": 0
      },
      "text/plain": [
       "HBox(children=(HTML(value='values within parameters'), FloatProgress(value=0.0), HTML(value='')))"
      ]
     },
     "metadata": {},
     "output_type": "display_data"
    },
    {
     "name": "stdout",
     "output_type": "stream",
     "text": [
      "\n",
      "\n",
      "Wall time: 1min 7s\n"
     ]
    }
   ],
   "source": [
    "%%time\n",
    "modeloFIL.likelihood_profiles()"
   ]
  },
  {
   "cell_type": "code",
   "execution_count": 44,
   "metadata": {},
   "outputs": [
    {
     "data": {
      "text/html": [
       "<div>\n",
       "<style scoped>\n",
       "    .dataframe tbody tr th:only-of-type {\n",
       "        vertical-align: middle;\n",
       "    }\n",
       "\n",
       "    .dataframe tbody tr th {\n",
       "        vertical-align: top;\n",
       "    }\n",
       "\n",
       "    .dataframe thead th {\n",
       "        text-align: right;\n",
       "    }\n",
       "</style>\n",
       "<table border=\"1\" class=\"dataframe\">\n",
       "  <thead>\n",
       "    <tr style=\"text-align: right;\">\n",
       "      <th></th>\n",
       "      <th>parameter</th>\n",
       "      <th>value</th>\n",
       "      <th>error</th>\n",
       "    </tr>\n",
       "  </thead>\n",
       "  <tbody>\n",
       "    <tr>\n",
       "      <th>0</th>\n",
       "      <td>$\\beta$</td>\n",
       "      <td>0.000000</td>\n",
       "      <td>56154.926967</td>\n",
       "    </tr>\n",
       "    <tr>\n",
       "      <th>1</th>\n",
       "      <td>$\\beta$</td>\n",
       "      <td>0.010101</td>\n",
       "      <td>55852.794747</td>\n",
       "    </tr>\n",
       "    <tr>\n",
       "      <th>2</th>\n",
       "      <td>$\\beta$</td>\n",
       "      <td>0.020202</td>\n",
       "      <td>55786.488841</td>\n",
       "    </tr>\n",
       "    <tr>\n",
       "      <th>3</th>\n",
       "      <td>$\\beta$</td>\n",
       "      <td>0.030303</td>\n",
       "      <td>51804.970433</td>\n",
       "    </tr>\n",
       "    <tr>\n",
       "      <th>4</th>\n",
       "      <td>$\\beta$</td>\n",
       "      <td>0.040404</td>\n",
       "      <td>46020.784723</td>\n",
       "    </tr>\n",
       "    <tr>\n",
       "      <th>...</th>\n",
       "      <td>...</td>\n",
       "      <td>...</td>\n",
       "      <td>...</td>\n",
       "    </tr>\n",
       "    <tr>\n",
       "      <th>195</th>\n",
       "      <td>$\\gamma$</td>\n",
       "      <td>0.959596</td>\n",
       "      <td>53710.825148</td>\n",
       "    </tr>\n",
       "    <tr>\n",
       "      <th>196</th>\n",
       "      <td>$\\gamma$</td>\n",
       "      <td>0.969697</td>\n",
       "      <td>53721.315431</td>\n",
       "    </tr>\n",
       "    <tr>\n",
       "      <th>197</th>\n",
       "      <td>$\\gamma$</td>\n",
       "      <td>0.979798</td>\n",
       "      <td>53731.547208</td>\n",
       "    </tr>\n",
       "    <tr>\n",
       "      <th>198</th>\n",
       "      <td>$\\gamma$</td>\n",
       "      <td>0.989899</td>\n",
       "      <td>53741.878950</td>\n",
       "    </tr>\n",
       "    <tr>\n",
       "      <th>199</th>\n",
       "      <td>$\\gamma$</td>\n",
       "      <td>1.000000</td>\n",
       "      <td>53752.017930</td>\n",
       "    </tr>\n",
       "  </tbody>\n",
       "</table>\n",
       "<p>200 rows × 3 columns</p>\n",
       "</div>"
      ],
      "text/plain": [
       "    parameter     value         error\n",
       "0     $\\beta$  0.000000  56154.926967\n",
       "1     $\\beta$  0.010101  55852.794747\n",
       "2     $\\beta$  0.020202  55786.488841\n",
       "3     $\\beta$  0.030303  51804.970433\n",
       "4     $\\beta$  0.040404  46020.784723\n",
       "..        ...       ...           ...\n",
       "195  $\\gamma$  0.959596  53710.825148\n",
       "196  $\\gamma$  0.969697  53721.315431\n",
       "197  $\\gamma$  0.979798  53731.547208\n",
       "198  $\\gamma$  0.989899  53741.878950\n",
       "199  $\\gamma$  1.000000  53752.017930\n",
       "\n",
       "[200 rows x 3 columns]"
      ]
     },
     "execution_count": 44,
     "metadata": {},
     "output_type": "execute_result"
    }
   ],
   "source": [
    "modeloFIL.result_profiles"
   ]
  },
  {
   "cell_type": "code",
   "execution_count": 45,
   "metadata": {},
   "outputs": [
    {
     "name": "stderr",
     "output_type": "stream",
     "text": [
      "*c* argument looks like a single numeric RGB or RGBA sequence, which should be avoided as value-mapping will have precedence in case its length matches with *x* & *y*.  Please use the *color* keyword-argument or provide a 2-D array with a single row if you intend to specify the same RGB or RGBA value for all points.\n"
     ]
    },
    {
     "data": {
      "image/png": "[encoded data removed]",
      "text/plain": [
       "<Figure size 432x288 with 1 Axes>"
      ]
     },
     "metadata": {
      "needs_background": "light"
     },
     "output_type": "display_data"
    },
    {
     "name": "stderr",
     "output_type": "stream",
     "text": [
      "*c* argument looks like a single numeric RGB or RGBA sequence, which should be avoided as value-mapping will have precedence in case its length matches with *x* & *y*.  Please use the *color* keyword-argument or provide a 2-D array with a single row if you intend to specify the same RGB or RGBA value for all points.\n"
     ]
    },
    {
     "data": {
      "image/png": "[encoded data removed]",
      "text/plain": [
       "<Figure size 432x288 with 1 Axes>"
      ]
     },
     "metadata": {
      "needs_background": "light"
     },
     "output_type": "display_data"
    }
   ],
   "source": [
    "modeloFIL.plot_profiles()"
   ]
  },
  {
   "cell_type": "code",
   "execution_count": 46,
   "metadata": {},
   "outputs": [],
   "source": [
    "# Tomamos los valores del modelo\n",
    "beta = modeloFIL.best_params.iloc[0,0]\n",
    "gamma = modeloFIL.best_params.iloc[0,1]\n",
    "z0 = modeloFIL.initial_condition\n",
    "# Integrate the SIR equations over the time grid, t.\n",
    "t = FIL.t[0:100]\n",
    "ret = odeint(SIR, z0, t, args=(beta, gamma))\n",
    "S, I, R = ret.T"
   ]
  },
  {
   "cell_type": "code",
   "execution_count": 47,
   "metadata": {},
   "outputs": [
    {
     "data": {
      "text/plain": [
       "<matplotlib.legend.Legend at 0x20226868040>"
      ]
     },
     "execution_count": 47,
     "metadata": {},
     "output_type": "execute_result"
    },
    {
     "data": {
      "image/png": "[encoded data removed]",
      "text/plain": [
       "<Figure size 432x288 with 1 Axes>"
      ]
     },
     "metadata": {
      "needs_background": "light"
     },
     "output_type": "display_data"
    }
   ],
   "source": [
    "fig = plt.figure()\n",
    "plt.title(\"Datos vs Ajuste (Infectados)\")\n",
    "plt.plot(t,FIL.I[0:100],'o',color=\"#E74C3C\",label=\"Datos\")\n",
    "plt.plot(t,I,'-',lw=3,label=\"Ajuste\")\n",
    "plt.legend()"
   ]
  },
  {
   "cell_type": "code",
   "execution_count": 48,
   "metadata": {},
   "outputs": [
    {
     "data": {
      "text/plain": [
       "<matplotlib.legend.Legend at 0x202268c9130>"
      ]
     },
     "execution_count": 48,
     "metadata": {},
     "output_type": "execute_result"
    },
    {
     "data": {
      "image/png": "[encoded data removed]",
      "text/plain": [
       "<Figure size 432x288 with 1 Axes>"
      ]
     },
     "metadata": {
      "needs_background": "light"
     },
     "output_type": "display_data"
    }
   ],
   "source": [
    "fig = plt.figure()\n",
    "plt.title(\"Datos vs Ajuste (Recuperados)\")\n",
    "plt.plot(t,FIL.R[0:100],'o',color=\"#E74C3C\",label=\"Datos\")\n",
    "plt.plot(t,R,'-',lw=3,label=\"Ajuste\")\n",
    "plt.legend()"
   ]
  },
  {
   "cell_type": "markdown",
   "metadata": {},
   "source": [
    "### 3.2 SIR-D\n",
    "\n",
    "En el modelo anterior se considero a los Recuperados como aquellas personas que ya no se podían infectar, es decir personas que son inmunes temporalmente y a los muertos, pero ahora veremos que pasa si los consideramos por separado.\n",
    "\n",
    "<style>\n",
    "p.comment {\n",
    "background-color: #FFFFFF;\n",
    "padding: 10px;\n",
    "border: 1px solid black;\n",
    "margin-left: 25px;\n",
    "border-radius: 5px;\n",
    "font-style: italic;\n",
    "}\n",
    "</style>\n",
    "\n",
    "<div class=\"alert alert-info\">\n",
    "    <ul>\n",
    "      <li><strong>Susceptibles:</strong> personas que pueden contraer la enfermedad.</li>\n",
    "      <li><strong>Infectados:</strong> personas que contrajeron la enfermedad y pueden contagiar a los demás.</li>\n",
    "      <li><strong>Recuperados:</strong> personas que salieron de la enfermedad y adquieren inmunidad temporal.</li>\n",
    "      <li><strong>Defunciones:</strong> personas que salieron de la enfermedad y murieron.</li>\n",
    "    </ul>\n",
    "</div>\n",
    "\n",
    "$$\n",
    "\\begin{eqnarray}\n",
    "\\frac{dS}{dt}&=& -\\beta S\\frac{I}{N} \\\\\n",
    "\\frac{dI}{dt}&=& \\beta S\\frac{I}{N} - \\gamma I - \\epsilon D \\\\\n",
    "\\frac{dR}{dt}&=& \\gamma I \\\\\n",
    "\\frac{dD}{dt}&=& \\epsilon D \n",
    "\\end{eqnarray}\n",
    "$$\n"
   ]
  },
  {
   "cell_type": "code",
   "execution_count": 49,
   "metadata": {},
   "outputs": [],
   "source": [
    "def SIRD(z, t, beta1, gamma1, epsilon1):\n",
    "    \n",
    "    S, I, R, D = z\n",
    "    \n",
    "    return [-beta1*(S/N)*I, beta1*(S/N)*I-gamma1*I-epsilon1*D, gamma1*I, epsilon1*D]"
   ]
  },
  {
   "cell_type": "code",
   "execution_count": 50,
   "metadata": {},
   "outputs": [],
   "source": [
    "N=3449299\n",
    "# Iniciales\n",
    "def SUR1():\n",
    "    return N-4   # S_0\n",
    "def IUR1():   \n",
    "    return 4     # I_0\n",
    "def RUR1():\n",
    "    return 0       # R_0\n",
    "def DUR1():\n",
    "    return 0       # D_0"
   ]
  },
  {
   "cell_type": "code",
   "execution_count": 51,
   "metadata": {},
   "outputs": [],
   "source": [
    "modeloUR1 = pde.PDEmodel(URU, SIRD, [SUR1,IUR1,RUR1,DUR1], bounds=[(0, 1), (0,1),(0,1)], \n",
    "                        param_names=[r'$\\beta_1$', r'$\\gamma_1$', r'$\\epsilon_1$'], nvars=4, \n",
    "                         ndims=0, nreplicates=1, obsidx=[1,2,3], outfunc=None)"
   ]
  },
  {
   "cell_type": "code",
   "execution_count": 52,
   "metadata": {},
   "outputs": [
    {
     "data": {
      "text/plain": [
       "array([3449295,       4,       0,       0])"
      ]
     },
     "execution_count": 52,
     "metadata": {},
     "output_type": "execute_result"
    }
   ],
   "source": [
    "# Printing the initial condition\n",
    "modeloUR1.initial_condition"
   ]
  },
  {
   "cell_type": "code",
   "execution_count": 53,
   "metadata": {},
   "outputs": [
    {
     "name": "stdout",
     "output_type": "stream",
     "text": [
      "   $\\beta_1$  $\\gamma_1$  $\\epsilon_1$\n",
      "0   0.027478    0.011274      0.179135\n",
      "Wall time: 3.06 s\n"
     ]
    }
   ],
   "source": [
    "%%time\n",
    "modeloUR1.fit()"
   ]
  },
  {
   "cell_type": "code",
   "execution_count": 54,
   "metadata": {},
   "outputs": [
    {
     "data": {
      "text/html": [
       "<div>\n",
       "<style scoped>\n",
       "    .dataframe tbody tr th:only-of-type {\n",
       "        vertical-align: middle;\n",
       "    }\n",
       "\n",
       "    .dataframe tbody tr th {\n",
       "        vertical-align: top;\n",
       "    }\n",
       "\n",
       "    .dataframe thead th {\n",
       "        text-align: right;\n",
       "    }\n",
       "</style>\n",
       "<table border=\"1\" class=\"dataframe\">\n",
       "  <thead>\n",
       "    <tr style=\"text-align: right;\">\n",
       "      <th></th>\n",
       "      <th>$\\beta_1$</th>\n",
       "      <th>$\\gamma_1$</th>\n",
       "      <th>$\\epsilon_1$</th>\n",
       "    </tr>\n",
       "  </thead>\n",
       "  <tbody>\n",
       "    <tr>\n",
       "      <th>0</th>\n",
       "      <td>0.027478</td>\n",
       "      <td>0.011274</td>\n",
       "      <td>0.179135</td>\n",
       "    </tr>\n",
       "  </tbody>\n",
       "</table>\n",
       "</div>"
      ],
      "text/plain": [
       "   $\\beta_1$  $\\gamma_1$  $\\epsilon_1$\n",
       "0   0.027478    0.011274      0.179135"
      ]
     },
     "execution_count": 54,
     "metadata": {},
     "output_type": "execute_result"
    }
   ],
   "source": [
    "modeloUR1.best_params"
   ]
  },
  {
   "cell_type": "code",
   "execution_count": 55,
   "metadata": {},
   "outputs": [
    {
     "data": {
      "text/plain": [
       "3121.2081631564192"
      ]
     },
     "execution_count": 55,
     "metadata": {},
     "output_type": "execute_result"
    }
   ],
   "source": [
    "modeloUR1.best_error"
   ]
  },
  {
   "cell_type": "code",
   "execution_count": 56,
   "metadata": {},
   "outputs": [
    {
     "data": {
      "application/vnd.jupyter.widget-view+json": {
       "model_id": "3e4b6117623f46619c6b7ac5495437f1",
       "version_major": 2,
       "version_minor": 0
      },
      "text/plain": [
       "HBox(children=(HTML(value='parameters'), FloatProgress(value=0.0, max=3.0), HTML(value='')))"
      ]
     },
     "metadata": {},
     "output_type": "display_data"
    },
    {
     "data": {
      "application/vnd.jupyter.widget-view+json": {
       "model_id": "efe96f18487246b3a898ca13d1f00439",
       "version_major": 2,
       "version_minor": 0
      },
      "text/plain": [
       "HBox(children=(HTML(value='values within parameters'), FloatProgress(value=0.0), HTML(value='')))"
      ]
     },
     "metadata": {},
     "output_type": "display_data"
    },
    {
     "name": "stdout",
     "output_type": "stream",
     "text": [
      "\n"
     ]
    },
    {
     "data": {
      "application/vnd.jupyter.widget-view+json": {
       "model_id": "f1dca88ea0b8415eb077ef6289cb2e51",
       "version_major": 2,
       "version_minor": 0
      },
      "text/plain": [
       "HBox(children=(HTML(value='values within parameters'), FloatProgress(value=0.0), HTML(value='')))"
      ]
     },
     "metadata": {},
     "output_type": "display_data"
    },
    {
     "name": "stdout",
     "output_type": "stream",
     "text": [
      "\n"
     ]
    },
    {
     "data": {
      "application/vnd.jupyter.widget-view+json": {
       "model_id": "315ce7d6eade49f1aa258bb8ef36e97f",
       "version_major": 2,
       "version_minor": 0
      },
      "text/plain": [
       "HBox(children=(HTML(value='values within parameters'), FloatProgress(value=0.0), HTML(value='')))"
      ]
     },
     "metadata": {},
     "output_type": "display_data"
    },
    {
     "name": "stdout",
     "output_type": "stream",
     "text": [
      "\n",
      "\n",
      "Wall time: 11min 4s\n"
     ]
    }
   ],
   "source": [
    "%%time\n",
    "modeloUR1.likelihood_profiles()"
   ]
  },
  {
   "cell_type": "code",
   "execution_count": 57,
   "metadata": {},
   "outputs": [
    {
     "data": {
      "text/html": [
       "<div>\n",
       "<style scoped>\n",
       "    .dataframe tbody tr th:only-of-type {\n",
       "        vertical-align: middle;\n",
       "    }\n",
       "\n",
       "    .dataframe tbody tr th {\n",
       "        vertical-align: top;\n",
       "    }\n",
       "\n",
       "    .dataframe thead th {\n",
       "        text-align: right;\n",
       "    }\n",
       "</style>\n",
       "<table border=\"1\" class=\"dataframe\">\n",
       "  <thead>\n",
       "    <tr style=\"text-align: right;\">\n",
       "      <th></th>\n",
       "      <th>parameter</th>\n",
       "      <th>value</th>\n",
       "      <th>error</th>\n",
       "    </tr>\n",
       "  </thead>\n",
       "  <tbody>\n",
       "    <tr>\n",
       "      <th>0</th>\n",
       "      <td>$\\beta_1$</td>\n",
       "      <td>0.000000</td>\n",
       "      <td>14720.445674</td>\n",
       "    </tr>\n",
       "    <tr>\n",
       "      <th>1</th>\n",
       "      <td>$\\beta_1$</td>\n",
       "      <td>0.010101</td>\n",
       "      <td>14397.565895</td>\n",
       "    </tr>\n",
       "    <tr>\n",
       "      <th>2</th>\n",
       "      <td>$\\beta_1$</td>\n",
       "      <td>0.020202</td>\n",
       "      <td>4806.163819</td>\n",
       "    </tr>\n",
       "    <tr>\n",
       "      <th>3</th>\n",
       "      <td>$\\beta_1$</td>\n",
       "      <td>0.030303</td>\n",
       "      <td>3347.091936</td>\n",
       "    </tr>\n",
       "    <tr>\n",
       "      <th>4</th>\n",
       "      <td>$\\beta_1$</td>\n",
       "      <td>0.040404</td>\n",
       "      <td>5951.184390</td>\n",
       "    </tr>\n",
       "    <tr>\n",
       "      <th>...</th>\n",
       "      <td>...</td>\n",
       "      <td>...</td>\n",
       "      <td>...</td>\n",
       "    </tr>\n",
       "    <tr>\n",
       "      <th>295</th>\n",
       "      <td>$\\epsilon_1$</td>\n",
       "      <td>0.959596</td>\n",
       "      <td>3121.387537</td>\n",
       "    </tr>\n",
       "    <tr>\n",
       "      <th>296</th>\n",
       "      <td>$\\epsilon_1$</td>\n",
       "      <td>0.969697</td>\n",
       "      <td>3121.153520</td>\n",
       "    </tr>\n",
       "    <tr>\n",
       "      <th>297</th>\n",
       "      <td>$\\epsilon_1$</td>\n",
       "      <td>0.979798</td>\n",
       "      <td>3121.497406</td>\n",
       "    </tr>\n",
       "    <tr>\n",
       "      <th>298</th>\n",
       "      <td>$\\epsilon_1$</td>\n",
       "      <td>0.989899</td>\n",
       "      <td>3121.313252</td>\n",
       "    </tr>\n",
       "    <tr>\n",
       "      <th>299</th>\n",
       "      <td>$\\epsilon_1$</td>\n",
       "      <td>1.000000</td>\n",
       "      <td>3121.301645</td>\n",
       "    </tr>\n",
       "  </tbody>\n",
       "</table>\n",
       "<p>300 rows × 3 columns</p>\n",
       "</div>"
      ],
      "text/plain": [
       "        parameter     value         error\n",
       "0       $\\beta_1$  0.000000  14720.445674\n",
       "1       $\\beta_1$  0.010101  14397.565895\n",
       "2       $\\beta_1$  0.020202   4806.163819\n",
       "3       $\\beta_1$  0.030303   3347.091936\n",
       "4       $\\beta_1$  0.040404   5951.184390\n",
       "..            ...       ...           ...\n",
       "295  $\\epsilon_1$  0.959596   3121.387537\n",
       "296  $\\epsilon_1$  0.969697   3121.153520\n",
       "297  $\\epsilon_1$  0.979798   3121.497406\n",
       "298  $\\epsilon_1$  0.989899   3121.313252\n",
       "299  $\\epsilon_1$  1.000000   3121.301645\n",
       "\n",
       "[300 rows x 3 columns]"
      ]
     },
     "execution_count": 57,
     "metadata": {},
     "output_type": "execute_result"
    }
   ],
   "source": [
    "modeloUR1.result_profiles"
   ]
  },
  {
   "cell_type": "code",
   "execution_count": 58,
   "metadata": {},
   "outputs": [
    {
     "name": "stderr",
     "output_type": "stream",
     "text": [
      "*c* argument looks like a single numeric RGB or RGBA sequence, which should be avoided as value-mapping will have precedence in case its length matches with *x* & *y*.  Please use the *color* keyword-argument or provide a 2-D array with a single row if you intend to specify the same RGB or RGBA value for all points.\n"
     ]
    },
    {
     "data": {
      "image/png": "[encoded data removed]",
      "text/plain": [
       "<Figure size 432x288 with 1 Axes>"
      ]
     },
     "metadata": {
      "needs_background": "light"
     },
     "output_type": "display_data"
    },
    {
     "name": "stderr",
     "output_type": "stream",
     "text": [
      "*c* argument looks like a single numeric RGB or RGBA sequence, which should be avoided as value-mapping will have precedence in case its length matches with *x* & *y*.  Please use the *color* keyword-argument or provide a 2-D array with a single row if you intend to specify the same RGB or RGBA value for all points.\n"
     ]
    },
    {
     "data": {
      "image/png": "[encoded data removed]",
      "text/plain": [
       "<Figure size 432x288 with 1 Axes>"
      ]
     },
     "metadata": {
      "needs_background": "light"
     },
     "output_type": "display_data"
    },
    {
     "name": "stderr",
     "output_type": "stream",
     "text": [
      "*c* argument looks like a single numeric RGB or RGBA sequence, which should be avoided as value-mapping will have precedence in case its length matches with *x* & *y*.  Please use the *color* keyword-argument or provide a 2-D array with a single row if you intend to specify the same RGB or RGBA value for all points.\n"
     ]
    },
    {
     "data": {
      "image/png": "[encoded data removed]",
      "text/plain": [
       "<Figure size 432x288 with 1 Axes>"
      ]
     },
     "metadata": {
      "needs_background": "light"
     },
     "output_type": "display_data"
    }
   ],
   "source": [
    "modeloUR1.plot_profiles()"
   ]
  },
  {
   "cell_type": "code",
   "execution_count": 59,
   "metadata": {},
   "outputs": [],
   "source": [
    "# Tomamos los valores del modelo\n",
    "beta1 = modeloUR1.best_params.iloc[0,0]\n",
    "gamma1 = modeloUR1.best_params.iloc[0,1]\n",
    "epsilon1 = modeloUR1.best_params.iloc[0,2]\n",
    "z0 = modeloUR1.initial_condition\n",
    "# Integrate the SIR equations over the time grid, t.\n",
    "t = URU.t\n",
    "ret = odeint(SIRD, z0, t, args=(beta1, gamma1, epsilon1))\n",
    "S1, I1, R1, D1 = ret.T"
   ]
  },
  {
   "cell_type": "code",
   "execution_count": 60,
   "metadata": {},
   "outputs": [
    {
     "data": {
      "text/plain": [
       "<matplotlib.legend.Legend at 0x2022585c520>"
      ]
     },
     "execution_count": 60,
     "metadata": {},
     "output_type": "execute_result"
    },
    {
     "data": {
      "image/png": "[encoded data removed]",
      "text/plain": [
       "<Figure size 432x288 with 1 Axes>"
      ]
     },
     "metadata": {
      "needs_background": "light"
     },
     "output_type": "display_data"
    }
   ],
   "source": [
    "fig = plt.figure()\n",
    "plt.title(\"Datos vs Ajuste (Infectados)\")\n",
    "plt.plot(t,URU.I,'o',label=\"Datos\",color=\"#5DADE2\")\n",
    "plt.plot(t,I1,'-',lw=3,label=\"Ajuste\")\n",
    "plt.legend()"
   ]
  },
  {
   "cell_type": "code",
   "execution_count": 61,
   "metadata": {},
   "outputs": [
    {
     "data": {
      "text/plain": [
       "<matplotlib.legend.Legend at 0x20224b05970>"
      ]
     },
     "execution_count": 61,
     "metadata": {},
     "output_type": "execute_result"
    },
    {
     "data": {
      "image/png": "[encoded data removed]",
      "text/plain": [
       "<Figure size 432x288 with 1 Axes>"
      ]
     },
     "metadata": {
      "needs_background": "light"
     },
     "output_type": "display_data"
    }
   ],
   "source": [
    "fig = plt.figure()\n",
    "plt.title(\"Datos vs Ajuste (Recueperados)\")\n",
    "plt.plot(t,URU.R,'o',label=\"Datos\",color=\"#5DADE2\")\n",
    "plt.plot(t,R1,'-',lw=3,label=\"Ajuste\")\n",
    "plt.legend()"
   ]
  },
  {
   "cell_type": "code",
   "execution_count": 62,
   "metadata": {},
   "outputs": [
    {
     "data": {
      "text/plain": [
       "<matplotlib.legend.Legend at 0x20224a05610>"
      ]
     },
     "execution_count": 62,
     "metadata": {},
     "output_type": "execute_result"
    },
    {
     "data": {
      "image/png": "[encoded data removed]",
      "text/plain": [
       "<Figure size 432x288 with 1 Axes>"
      ]
     },
     "metadata": {
      "needs_background": "light"
     },
     "output_type": "display_data"
    }
   ],
   "source": [
    "fig = plt.figure()\n",
    "plt.title(\"Datos vs Ajuste (Muertos)\")\n",
    "plt.plot(t,URU.D,'o',label=\"Datos\",color=\"#5DADE2\")\n",
    "plt.plot(t,D1,'-',lw=3,label=\"Ajuste\")\n",
    "plt.legend()"
   ]
  },
  {
   "cell_type": "code",
   "execution_count": 63,
   "metadata": {},
   "outputs": [],
   "source": [
    "N=195874740\n",
    "# Iniciales\n",
    "def SNI1():\n",
    "    return N-4   # S_0\n",
    "def INI1():   \n",
    "    return 4     # I_0\n",
    "def RNI1():\n",
    "    return 0       # R_0\n",
    "def DNI1():\n",
    "    return 0       # D_0"
   ]
  },
  {
   "cell_type": "code",
   "execution_count": 64,
   "metadata": {},
   "outputs": [],
   "source": [
    "modeloNI1 = pde.PDEmodel(NIG[0:100], SIRD, [SNI1,INI1,RNI1,DNI1], bounds=[(0, 1), (0,1),(0,1)], \n",
    "                        param_names=[r'$\\beta_1$', r'$\\gamma_1$', r'$\\epsilon_1$'], nvars=4, \n",
    "                         ndims=0, nreplicates=1, obsidx=[1,2,3], outfunc=None)"
   ]
  },
  {
   "cell_type": "code",
   "execution_count": 65,
   "metadata": {},
   "outputs": [
    {
     "data": {
      "text/plain": [
       "array([195874736,         4,         0,         0])"
      ]
     },
     "execution_count": 65,
     "metadata": {},
     "output_type": "execute_result"
    }
   ],
   "source": [
    "# Printing the initial condition\n",
    "modeloNI1.initial_condition"
   ]
  },
  {
   "cell_type": "code",
   "execution_count": 66,
   "metadata": {},
   "outputs": [
    {
     "name": "stdout",
     "output_type": "stream",
     "text": [
      "   $\\beta_1$  $\\gamma_1$  $\\epsilon_1$\n",
      "0   0.078274    0.023412      0.519952\n",
      "Wall time: 4.6 s\n"
     ]
    }
   ],
   "source": [
    "%%time\n",
    "modeloNI1.fit()"
   ]
  },
  {
   "cell_type": "code",
   "execution_count": 67,
   "metadata": {},
   "outputs": [
    {
     "data": {
      "text/html": [
       "<div>\n",
       "<style scoped>\n",
       "    .dataframe tbody tr th:only-of-type {\n",
       "        vertical-align: middle;\n",
       "    }\n",
       "\n",
       "    .dataframe tbody tr th {\n",
       "        vertical-align: top;\n",
       "    }\n",
       "\n",
       "    .dataframe thead th {\n",
       "        text-align: right;\n",
       "    }\n",
       "</style>\n",
       "<table border=\"1\" class=\"dataframe\">\n",
       "  <thead>\n",
       "    <tr style=\"text-align: right;\">\n",
       "      <th></th>\n",
       "      <th>$\\beta_1$</th>\n",
       "      <th>$\\gamma_1$</th>\n",
       "      <th>$\\epsilon_1$</th>\n",
       "    </tr>\n",
       "  </thead>\n",
       "  <tbody>\n",
       "    <tr>\n",
       "      <th>0</th>\n",
       "      <td>0.078274</td>\n",
       "      <td>0.023412</td>\n",
       "      <td>0.519952</td>\n",
       "    </tr>\n",
       "  </tbody>\n",
       "</table>\n",
       "</div>"
      ],
      "text/plain": [
       "   $\\beta_1$  $\\gamma_1$  $\\epsilon_1$\n",
       "0   0.078274    0.023412      0.519952"
      ]
     },
     "execution_count": 67,
     "metadata": {},
     "output_type": "execute_result"
    }
   ],
   "source": [
    "modeloNI1.best_params"
   ]
  },
  {
   "cell_type": "code",
   "execution_count": 68,
   "metadata": {},
   "outputs": [
    {
     "data": {
      "text/plain": [
       "6889.723937754522"
      ]
     },
     "execution_count": 68,
     "metadata": {},
     "output_type": "execute_result"
    }
   ],
   "source": [
    "modeloNI1.best_error"
   ]
  },
  {
   "cell_type": "code",
   "execution_count": 69,
   "metadata": {},
   "outputs": [
    {
     "data": {
      "application/vnd.jupyter.widget-view+json": {
       "model_id": "40fab565a54948b592f0bc36e7d245fa",
       "version_major": 2,
       "version_minor": 0
      },
      "text/plain": [
       "HBox(children=(HTML(value='parameters'), FloatProgress(value=0.0, max=3.0), HTML(value='')))"
      ]
     },
     "metadata": {},
     "output_type": "display_data"
    },
    {
     "data": {
      "application/vnd.jupyter.widget-view+json": {
       "model_id": "e016cdeddcbc423e86b24f9d85b7d998",
       "version_major": 2,
       "version_minor": 0
      },
      "text/plain": [
       "HBox(children=(HTML(value='values within parameters'), FloatProgress(value=0.0), HTML(value='')))"
      ]
     },
     "metadata": {},
     "output_type": "display_data"
    },
    {
     "name": "stdout",
     "output_type": "stream",
     "text": [
      "\n"
     ]
    },
    {
     "data": {
      "application/vnd.jupyter.widget-view+json": {
       "model_id": "2ed2be17cdbe4cf2adda18f1988c58e0",
       "version_major": 2,
       "version_minor": 0
      },
      "text/plain": [
       "HBox(children=(HTML(value='values within parameters'), FloatProgress(value=0.0), HTML(value='')))"
      ]
     },
     "metadata": {},
     "output_type": "display_data"
    },
    {
     "name": "stdout",
     "output_type": "stream",
     "text": [
      "\n"
     ]
    },
    {
     "data": {
      "application/vnd.jupyter.widget-view+json": {
       "model_id": "d7704586092d443cafae8a15e4589cc5",
       "version_major": 2,
       "version_minor": 0
      },
      "text/plain": [
       "HBox(children=(HTML(value='values within parameters'), FloatProgress(value=0.0), HTML(value='')))"
      ]
     },
     "metadata": {},
     "output_type": "display_data"
    },
    {
     "name": "stdout",
     "output_type": "stream",
     "text": [
      "\n",
      "\n",
      "Wall time: 12min 23s\n"
     ]
    }
   ],
   "source": [
    "%%time\n",
    "modeloNI1.likelihood_profiles()"
   ]
  },
  {
   "cell_type": "code",
   "execution_count": 70,
   "metadata": {},
   "outputs": [
    {
     "data": {
      "text/html": [
       "<div>\n",
       "<style scoped>\n",
       "    .dataframe tbody tr th:only-of-type {\n",
       "        vertical-align: middle;\n",
       "    }\n",
       "\n",
       "    .dataframe tbody tr th {\n",
       "        vertical-align: top;\n",
       "    }\n",
       "\n",
       "    .dataframe thead th {\n",
       "        text-align: right;\n",
       "    }\n",
       "</style>\n",
       "<table border=\"1\" class=\"dataframe\">\n",
       "  <thead>\n",
       "    <tr style=\"text-align: right;\">\n",
       "      <th></th>\n",
       "      <th>parameter</th>\n",
       "      <th>value</th>\n",
       "      <th>error</th>\n",
       "    </tr>\n",
       "  </thead>\n",
       "  <tbody>\n",
       "    <tr>\n",
       "      <th>0</th>\n",
       "      <td>$\\beta_1$</td>\n",
       "      <td>0.000000</td>\n",
       "      <td>40038.228055</td>\n",
       "    </tr>\n",
       "    <tr>\n",
       "      <th>1</th>\n",
       "      <td>$\\beta_1$</td>\n",
       "      <td>0.010101</td>\n",
       "      <td>39601.223664</td>\n",
       "    </tr>\n",
       "    <tr>\n",
       "      <th>2</th>\n",
       "      <td>$\\beta_1$</td>\n",
       "      <td>0.020202</td>\n",
       "      <td>38184.918955</td>\n",
       "    </tr>\n",
       "    <tr>\n",
       "      <th>3</th>\n",
       "      <td>$\\beta_1$</td>\n",
       "      <td>0.030303</td>\n",
       "      <td>34127.120834</td>\n",
       "    </tr>\n",
       "    <tr>\n",
       "      <th>4</th>\n",
       "      <td>$\\beta_1$</td>\n",
       "      <td>0.040404</td>\n",
       "      <td>26632.917955</td>\n",
       "    </tr>\n",
       "    <tr>\n",
       "      <th>...</th>\n",
       "      <td>...</td>\n",
       "      <td>...</td>\n",
       "      <td>...</td>\n",
       "    </tr>\n",
       "    <tr>\n",
       "      <th>295</th>\n",
       "      <td>$\\epsilon_1$</td>\n",
       "      <td>0.959596</td>\n",
       "      <td>6889.764864</td>\n",
       "    </tr>\n",
       "    <tr>\n",
       "      <th>296</th>\n",
       "      <td>$\\epsilon_1$</td>\n",
       "      <td>0.969697</td>\n",
       "      <td>6889.902251</td>\n",
       "    </tr>\n",
       "    <tr>\n",
       "      <th>297</th>\n",
       "      <td>$\\epsilon_1$</td>\n",
       "      <td>0.979798</td>\n",
       "      <td>6889.733685</td>\n",
       "    </tr>\n",
       "    <tr>\n",
       "      <th>298</th>\n",
       "      <td>$\\epsilon_1$</td>\n",
       "      <td>0.989899</td>\n",
       "      <td>6890.848925</td>\n",
       "    </tr>\n",
       "    <tr>\n",
       "      <th>299</th>\n",
       "      <td>$\\epsilon_1$</td>\n",
       "      <td>1.000000</td>\n",
       "      <td>6889.997209</td>\n",
       "    </tr>\n",
       "  </tbody>\n",
       "</table>\n",
       "<p>300 rows × 3 columns</p>\n",
       "</div>"
      ],
      "text/plain": [
       "        parameter     value         error\n",
       "0       $\\beta_1$  0.000000  40038.228055\n",
       "1       $\\beta_1$  0.010101  39601.223664\n",
       "2       $\\beta_1$  0.020202  38184.918955\n",
       "3       $\\beta_1$  0.030303  34127.120834\n",
       "4       $\\beta_1$  0.040404  26632.917955\n",
       "..            ...       ...           ...\n",
       "295  $\\epsilon_1$  0.959596   6889.764864\n",
       "296  $\\epsilon_1$  0.969697   6889.902251\n",
       "297  $\\epsilon_1$  0.979798   6889.733685\n",
       "298  $\\epsilon_1$  0.989899   6890.848925\n",
       "299  $\\epsilon_1$  1.000000   6889.997209\n",
       "\n",
       "[300 rows x 3 columns]"
      ]
     },
     "execution_count": 70,
     "metadata": {},
     "output_type": "execute_result"
    }
   ],
   "source": [
    "modeloNI1.result_profiles"
   ]
  },
  {
   "cell_type": "code",
   "execution_count": 71,
   "metadata": {},
   "outputs": [
    {
     "name": "stderr",
     "output_type": "stream",
     "text": [
      "*c* argument looks like a single numeric RGB or RGBA sequence, which should be avoided as value-mapping will have precedence in case its length matches with *x* & *y*.  Please use the *color* keyword-argument or provide a 2-D array with a single row if you intend to specify the same RGB or RGBA value for all points.\n"
     ]
    },
    {
     "data": {
      "image/png": "[encoded data removed]",
      "text/plain": [
       "<Figure size 432x288 with 1 Axes>"
      ]
     },
     "metadata": {
      "needs_background": "light"
     },
     "output_type": "display_data"
    },
    {
     "name": "stderr",
     "output_type": "stream",
     "text": [
      "*c* argument looks like a single numeric RGB or RGBA sequence, which should be avoided as value-mapping will have precedence in case its length matches with *x* & *y*.  Please use the *color* keyword-argument or provide a 2-D array with a single row if you intend to specify the same RGB or RGBA value for all points.\n"
     ]
    },
    {
     "data": {
      "image/png": "[encoded data removed]",
      "text/plain": [
       "<Figure size 432x288 with 1 Axes>"
      ]
     },
     "metadata": {
      "needs_background": "light"
     },
     "output_type": "display_data"
    },
    {
     "name": "stderr",
     "output_type": "stream",
     "text": [
      "*c* argument looks like a single numeric RGB or RGBA sequence, which should be avoided as value-mapping will have precedence in case its length matches with *x* & *y*.  Please use the *color* keyword-argument or provide a 2-D array with a single row if you intend to specify the same RGB or RGBA value for all points.\n"
     ]
    },
    {
     "data": {
      "image/png": "[encoded data removed]",
      "text/plain": [
       "<Figure size 432x288 with 1 Axes>"
      ]
     },
     "metadata": {
      "needs_background": "light"
     },
     "output_type": "display_data"
    }
   ],
   "source": [
    "modeloNI1.plot_profiles()"
   ]
  },
  {
   "cell_type": "code",
   "execution_count": 72,
   "metadata": {},
   "outputs": [],
   "source": [
    "# Tomamos los valores del modelo\n",
    "beta1 = modeloNI1.best_params.iloc[0,0]\n",
    "gamma1 = modeloNI1.best_params.iloc[0,1]\n",
    "epsilon1 = modeloNI1.best_params.iloc[0,2]\n",
    "z0 = modeloNI1.initial_condition\n",
    "# Integrate the SIR equations over the time grid, t.\n",
    "t = NIG.t[0:100]\n",
    "ret = odeint(SIRD, z0, t, args=(beta1, gamma1,epsilon1))\n",
    "S1, I1, R1, D1 = ret.T"
   ]
  },
  {
   "cell_type": "code",
   "execution_count": 73,
   "metadata": {},
   "outputs": [
    {
     "data": {
      "text/plain": [
       "<matplotlib.legend.Legend at 0x20226ab5b20>"
      ]
     },
     "execution_count": 73,
     "metadata": {},
     "output_type": "execute_result"
    },
    {
     "data": {
      "image/png": "[encoded data removed]",
      "text/plain": [
       "<Figure size 432x288 with 1 Axes>"
      ]
     },
     "metadata": {
      "needs_background": "light"
     },
     "output_type": "display_data"
    }
   ],
   "source": [
    "fig = plt.figure()\n",
    "plt.title(\"Datos vs Ajuste (Infectados)\")\n",
    "plt.plot(t,NIG.I[0:100],'o',label=\"Datos\",color=\"#45B39D\")\n",
    "plt.plot(t,I1,'-',lw=3,label=\"Ajuste\")\n",
    "plt.legend()"
   ]
  },
  {
   "cell_type": "code",
   "execution_count": 74,
   "metadata": {},
   "outputs": [
    {
     "data": {
      "text/plain": [
       "<matplotlib.legend.Legend at 0x20226b16700>"
      ]
     },
     "execution_count": 74,
     "metadata": {},
     "output_type": "execute_result"
    },
    {
     "data": {
      "image/png": "[encoded data removed]",
      "text/plain": [
       "<Figure size 432x288 with 1 Axes>"
      ]
     },
     "metadata": {
      "needs_background": "light"
     },
     "output_type": "display_data"
    }
   ],
   "source": [
    "fig = plt.figure()\n",
    "plt.title(\"Datos vs Ajuste (Recuperados)\")\n",
    "plt.plot(t,NIG.R[0:100],'o',label=\"Datos\",color=\"#45B39D\")\n",
    "plt.plot(t,R1,'-',lw=3,label=\"Ajuste\")\n",
    "plt.legend()"
   ]
  },
  {
   "cell_type": "code",
   "execution_count": 75,
   "metadata": {},
   "outputs": [
    {
     "data": {
      "text/plain": [
       "<matplotlib.legend.Legend at 0x20226b6ea30>"
      ]
     },
     "execution_count": 75,
     "metadata": {},
     "output_type": "execute_result"
    },
    {
     "data": {
      "image/png": "[encoded data removed]",
      "text/plain": [
       "<Figure size 432x288 with 1 Axes>"
      ]
     },
     "metadata": {
      "needs_background": "light"
     },
     "output_type": "display_data"
    }
   ],
   "source": [
    "fig = plt.figure()\n",
    "plt.title(\"Datos vs Ajuste (Muesrtos)\")\n",
    "plt.plot(t,NIG.M[0:100],'o',label=\"Datos\",color=\"#45B39D\")\n",
    "plt.plot(t,D1,'-',lw=3,label=\"Ajuste\")\n",
    "plt.legend()"
   ]
  },
  {
   "cell_type": "code",
   "execution_count": 76,
   "metadata": {},
   "outputs": [],
   "source": [
    "N=106651922\n",
    "# Iniciales\n",
    "def SFI1():\n",
    "    return N-2   # S_0\n",
    "def IFI1():   \n",
    "    return 2     # I_0\n",
    "def RFI1():\n",
    "    return 0       # R_0\n",
    "def DFI1():\n",
    "    return 0       # D_0"
   ]
  },
  {
   "cell_type": "code",
   "execution_count": 77,
   "metadata": {},
   "outputs": [],
   "source": [
    "modeloFI1 = pde.PDEmodel(FIL[0:100], SIRD, [SFI1,IFI1,RFI1,DFI1], bounds=[(0, 1), (0,1),(0,1)], \n",
    "                        param_names=[r'$\\beta_1$', r'$\\gamma_1$', r'$\\epsilon_1$'], nvars=4, \n",
    "                         ndims=0, nreplicates=1, obsidx=[1,2,3], outfunc=None)"
   ]
  },
  {
   "cell_type": "code",
   "execution_count": 78,
   "metadata": {},
   "outputs": [
    {
     "data": {
      "text/plain": [
       "array([106651920,         2,         0,         0])"
      ]
     },
     "execution_count": 78,
     "metadata": {},
     "output_type": "execute_result"
    }
   ],
   "source": [
    "# Printing the initial condition\n",
    "modeloFI1.initial_condition"
   ]
  },
  {
   "cell_type": "code",
   "execution_count": 79,
   "metadata": {},
   "outputs": [
    {
     "name": "stdout",
     "output_type": "stream",
     "text": [
      "   $\\beta_1$  $\\gamma_1$  $\\epsilon_1$\n",
      "0   0.078107    0.016644      0.337893\n",
      "Wall time: 4.18 s\n"
     ]
    }
   ],
   "source": [
    "%%time\n",
    "modeloFI1.fit()"
   ]
  },
  {
   "cell_type": "code",
   "execution_count": 80,
   "metadata": {},
   "outputs": [
    {
     "data": {
      "text/html": [
       "<div>\n",
       "<style scoped>\n",
       "    .dataframe tbody tr th:only-of-type {\n",
       "        vertical-align: middle;\n",
       "    }\n",
       "\n",
       "    .dataframe tbody tr th {\n",
       "        vertical-align: top;\n",
       "    }\n",
       "\n",
       "    .dataframe thead th {\n",
       "        text-align: right;\n",
       "    }\n",
       "</style>\n",
       "<table border=\"1\" class=\"dataframe\">\n",
       "  <thead>\n",
       "    <tr style=\"text-align: right;\">\n",
       "      <th></th>\n",
       "      <th>$\\beta_1$</th>\n",
       "      <th>$\\gamma_1$</th>\n",
       "      <th>$\\epsilon_1$</th>\n",
       "    </tr>\n",
       "  </thead>\n",
       "  <tbody>\n",
       "    <tr>\n",
       "      <th>0</th>\n",
       "      <td>0.078107</td>\n",
       "      <td>0.016644</td>\n",
       "      <td>0.337893</td>\n",
       "    </tr>\n",
       "  </tbody>\n",
       "</table>\n",
       "</div>"
      ],
      "text/plain": [
       "   $\\beta_1$  $\\gamma_1$  $\\epsilon_1$\n",
       "0   0.078107    0.016644      0.337893"
      ]
     },
     "execution_count": 80,
     "metadata": {},
     "output_type": "execute_result"
    }
   ],
   "source": [
    "modeloFI1.best_params"
   ]
  },
  {
   "cell_type": "code",
   "execution_count": 81,
   "metadata": {},
   "outputs": [
    {
     "data": {
      "text/plain": [
       "12101.69866975271"
      ]
     },
     "execution_count": 81,
     "metadata": {},
     "output_type": "execute_result"
    }
   ],
   "source": [
    "modeloFI1.best_error"
   ]
  },
  {
   "cell_type": "code",
   "execution_count": 82,
   "metadata": {},
   "outputs": [
    {
     "data": {
      "application/vnd.jupyter.widget-view+json": {
       "model_id": "a2cefa09ae4c4487884141c5a1c1da05",
       "version_major": 2,
       "version_minor": 0
      },
      "text/plain": [
       "HBox(children=(HTML(value='parameters'), FloatProgress(value=0.0, max=3.0), HTML(value='')))"
      ]
     },
     "metadata": {},
     "output_type": "display_data"
    },
    {
     "data": {
      "application/vnd.jupyter.widget-view+json": {
       "model_id": "ffac638095d64a10a2c12505581abee4",
       "version_major": 2,
       "version_minor": 0
      },
      "text/plain": [
       "HBox(children=(HTML(value='values within parameters'), FloatProgress(value=0.0), HTML(value='')))"
      ]
     },
     "metadata": {},
     "output_type": "display_data"
    },
    {
     "name": "stdout",
     "output_type": "stream",
     "text": [
      "\n"
     ]
    },
    {
     "data": {
      "application/vnd.jupyter.widget-view+json": {
       "model_id": "d5a66671bd7e4975aa8b33bf6ef5f84e",
       "version_major": 2,
       "version_minor": 0
      },
      "text/plain": [
       "HBox(children=(HTML(value='values within parameters'), FloatProgress(value=0.0), HTML(value='')))"
      ]
     },
     "metadata": {},
     "output_type": "display_data"
    },
    {
     "name": "stdout",
     "output_type": "stream",
     "text": [
      "\n"
     ]
    },
    {
     "data": {
      "application/vnd.jupyter.widget-view+json": {
       "model_id": "fda1d8507a74442d9c1864fe25a62c4d",
       "version_major": 2,
       "version_minor": 0
      },
      "text/plain": [
       "HBox(children=(HTML(value='values within parameters'), FloatProgress(value=0.0), HTML(value='')))"
      ]
     },
     "metadata": {},
     "output_type": "display_data"
    },
    {
     "name": "stdout",
     "output_type": "stream",
     "text": [
      "\n",
      "\n",
      "Wall time: 8min 56s\n"
     ]
    }
   ],
   "source": [
    "%%time\n",
    "modeloFI1.likelihood_profiles()"
   ]
  },
  {
   "cell_type": "code",
   "execution_count": 83,
   "metadata": {},
   "outputs": [
    {
     "data": {
      "text/html": [
       "<div>\n",
       "<style scoped>\n",
       "    .dataframe tbody tr th:only-of-type {\n",
       "        vertical-align: middle;\n",
       "    }\n",
       "\n",
       "    .dataframe tbody tr th {\n",
       "        vertical-align: top;\n",
       "    }\n",
       "\n",
       "    .dataframe thead th {\n",
       "        text-align: right;\n",
       "    }\n",
       "</style>\n",
       "<table border=\"1\" class=\"dataframe\">\n",
       "  <thead>\n",
       "    <tr style=\"text-align: right;\">\n",
       "      <th></th>\n",
       "      <th>parameter</th>\n",
       "      <th>value</th>\n",
       "      <th>error</th>\n",
       "    </tr>\n",
       "  </thead>\n",
       "  <tbody>\n",
       "    <tr>\n",
       "      <th>0</th>\n",
       "      <td>$\\beta_1$</td>\n",
       "      <td>0.000000</td>\n",
       "      <td>37456.569157</td>\n",
       "    </tr>\n",
       "    <tr>\n",
       "      <th>1</th>\n",
       "      <td>$\\beta_1$</td>\n",
       "      <td>0.010101</td>\n",
       "      <td>37336.269177</td>\n",
       "    </tr>\n",
       "    <tr>\n",
       "      <th>2</th>\n",
       "      <td>$\\beta_1$</td>\n",
       "      <td>0.020202</td>\n",
       "      <td>37179.665002</td>\n",
       "    </tr>\n",
       "    <tr>\n",
       "      <th>3</th>\n",
       "      <td>$\\beta_1$</td>\n",
       "      <td>0.030303</td>\n",
       "      <td>34579.823642</td>\n",
       "    </tr>\n",
       "    <tr>\n",
       "      <th>4</th>\n",
       "      <td>$\\beta_1$</td>\n",
       "      <td>0.040404</td>\n",
       "      <td>30739.992628</td>\n",
       "    </tr>\n",
       "    <tr>\n",
       "      <th>...</th>\n",
       "      <td>...</td>\n",
       "      <td>...</td>\n",
       "      <td>...</td>\n",
       "    </tr>\n",
       "    <tr>\n",
       "      <th>295</th>\n",
       "      <td>$\\epsilon_1$</td>\n",
       "      <td>0.959596</td>\n",
       "      <td>12102.104145</td>\n",
       "    </tr>\n",
       "    <tr>\n",
       "      <th>296</th>\n",
       "      <td>$\\epsilon_1$</td>\n",
       "      <td>0.969697</td>\n",
       "      <td>12101.787165</td>\n",
       "    </tr>\n",
       "    <tr>\n",
       "      <th>297</th>\n",
       "      <td>$\\epsilon_1$</td>\n",
       "      <td>0.979798</td>\n",
       "      <td>12102.405308</td>\n",
       "    </tr>\n",
       "    <tr>\n",
       "      <th>298</th>\n",
       "      <td>$\\epsilon_1$</td>\n",
       "      <td>0.989899</td>\n",
       "      <td>12101.855072</td>\n",
       "    </tr>\n",
       "    <tr>\n",
       "      <th>299</th>\n",
       "      <td>$\\epsilon_1$</td>\n",
       "      <td>1.000000</td>\n",
       "      <td>12103.087947</td>\n",
       "    </tr>\n",
       "  </tbody>\n",
       "</table>\n",
       "<p>300 rows × 3 columns</p>\n",
       "</div>"
      ],
      "text/plain": [
       "        parameter     value         error\n",
       "0       $\\beta_1$  0.000000  37456.569157\n",
       "1       $\\beta_1$  0.010101  37336.269177\n",
       "2       $\\beta_1$  0.020202  37179.665002\n",
       "3       $\\beta_1$  0.030303  34579.823642\n",
       "4       $\\beta_1$  0.040404  30739.992628\n",
       "..            ...       ...           ...\n",
       "295  $\\epsilon_1$  0.959596  12102.104145\n",
       "296  $\\epsilon_1$  0.969697  12101.787165\n",
       "297  $\\epsilon_1$  0.979798  12102.405308\n",
       "298  $\\epsilon_1$  0.989899  12101.855072\n",
       "299  $\\epsilon_1$  1.000000  12103.087947\n",
       "\n",
       "[300 rows x 3 columns]"
      ]
     },
     "execution_count": 83,
     "metadata": {},
     "output_type": "execute_result"
    }
   ],
   "source": [
    "modeloFI1.result_profiles"
   ]
  },
  {
   "cell_type": "code",
   "execution_count": 84,
   "metadata": {},
   "outputs": [
    {
     "name": "stderr",
     "output_type": "stream",
     "text": [
      "*c* argument looks like a single numeric RGB or RGBA sequence, which should be avoided as value-mapping will have precedence in case its length matches with *x* & *y*.  Please use the *color* keyword-argument or provide a 2-D array with a single row if you intend to specify the same RGB or RGBA value for all points.\n"
     ]
    },
    {
     "data": {
      "image/png": "[encoded data removed]",
      "text/plain": [
       "<Figure size 432x288 with 1 Axes>"
      ]
     },
     "metadata": {
      "needs_background": "light"
     },
     "output_type": "display_data"
    },
    {
     "name": "stderr",
     "output_type": "stream",
     "text": [
      "*c* argument looks like a single numeric RGB or RGBA sequence, which should be avoided as value-mapping will have precedence in case its length matches with *x* & *y*.  Please use the *color* keyword-argument or provide a 2-D array with a single row if you intend to specify the same RGB or RGBA value for all points.\n"
     ]
    },
    {
     "data": {
      "image/png": "[encoded data removed]",
      "text/plain": [
       "<Figure size 432x288 with 1 Axes>"
      ]
     },
     "metadata": {
      "needs_background": "light"
     },
     "output_type": "display_data"
    },
    {
     "name": "stderr",
     "output_type": "stream",
     "text": [
      "*c* argument looks like a single numeric RGB or RGBA sequence, which should be avoided as value-mapping will have precedence in case its length matches with *x* & *y*.  Please use the *color* keyword-argument or provide a 2-D array with a single row if you intend to specify the same RGB or RGBA value for all points.\n"
     ]
    },
    {
     "data": {
      "image/png": "[encoded data removed]",
      "text/plain": [
       "<Figure size 432x288 with 1 Axes>"
      ]
     },
     "metadata": {
      "needs_background": "light"
     },
     "output_type": "display_data"
    }
   ],
   "source": [
    "modeloFI1.plot_profiles()"
   ]
  },
  {
   "cell_type": "code",
   "execution_count": 85,
   "metadata": {},
   "outputs": [],
   "source": [
    "# Tomamos los valores del modelo\n",
    "beta1 = modeloFI1.best_params.iloc[0,0]\n",
    "gamma1 = modeloFI1.best_params.iloc[0,1]\n",
    "epsilon1 = modeloFI1.best_params.iloc[0,2]\n",
    "z0 = modeloFI1.initial_condition\n",
    "# Integrate the SIR equations over the time grid, t.\n",
    "t = FIL.t[0:100]\n",
    "ret = odeint(SIRD, z0, t, args=(beta1, gamma1, epsilon1))\n",
    "S1, I1, R1, D1 = ret.T"
   ]
  },
  {
   "cell_type": "code",
   "execution_count": 86,
   "metadata": {},
   "outputs": [
    {
     "data": {
      "text/plain": [
       "<matplotlib.legend.Legend at 0x20224ae4190>"
      ]
     },
     "execution_count": 86,
     "metadata": {},
     "output_type": "execute_result"
    },
    {
     "data": {
      "image/png": "[encoded data removed]",
      "text/plain": [
       "<Figure size 432x288 with 1 Axes>"
      ]
     },
     "metadata": {
      "needs_background": "light"
     },
     "output_type": "display_data"
    }
   ],
   "source": [
    "fig = plt.figure()\n",
    "plt.title(\"Datos vs Ajuste (Infectados)\")\n",
    "plt.plot(t,FIL.I[0:100],'o',color=\"#E74C3C\",label=\"Datos\")\n",
    "plt.plot(t,I1,'-',lw=3,label=\"Ajuste\")\n",
    "plt.legend()"
   ]
  },
  {
   "cell_type": "code",
   "execution_count": 87,
   "metadata": {},
   "outputs": [
    {
     "data": {
      "text/plain": [
       "<matplotlib.legend.Legend at 0x20226ca13d0>"
      ]
     },
     "execution_count": 87,
     "metadata": {},
     "output_type": "execute_result"
    },
    {
     "data": {
      "image/png": "[encoded data removed]",
      "text/plain": [
       "<Figure size 432x288 with 1 Axes>"
      ]
     },
     "metadata": {
      "needs_background": "light"
     },
     "output_type": "display_data"
    }
   ],
   "source": [
    "fig = plt.figure()\n",
    "plt.title(\"Datos vs Ajuste (Recuperados)\")\n",
    "plt.plot(t,FIL.R[0:100],'o',color=\"#E74C3C\",label=\"Datos\")\n",
    "plt.plot(t,R1,'-',lw=3,label=\"Ajuste\")\n",
    "plt.legend()"
   ]
  },
  {
   "cell_type": "code",
   "execution_count": 88,
   "metadata": {},
   "outputs": [
    {
     "data": {
      "text/plain": [
       "<matplotlib.legend.Legend at 0x20226a9c5e0>"
      ]
     },
     "execution_count": 88,
     "metadata": {},
     "output_type": "execute_result"
    },
    {
     "data": {
      "image/png": "[encoded data removed]",
      "text/plain": [
       "<Figure size 432x288 with 1 Axes>"
      ]
     },
     "metadata": {
      "needs_background": "light"
     },
     "output_type": "display_data"
    }
   ],
   "source": [
    "fig = plt.figure()\n",
    "plt.title(\"Datos vs Ajuste (Muertes)\")\n",
    "plt.plot(t,FIL.D[0:100],'o',color=\"#E74C3C\",label=\"Datos\")\n",
    "plt.plot(t,D1,'-',lw=3,label=\"Ajuste\")\n",
    "plt.legend()"
   ]
  },
  {
   "cell_type": "markdown",
   "metadata": {},
   "source": [
    "## 4. Conclusiones\n",
    "\n",
    "Ahora podemos comparar los 3 casos con sus tasas de contagio, tasas de recuperación y tasas de mortalidad durante los 100 días posteriores al primer contagio:\n",
    "\n",
    "|Población | $\\beta$ | $\\gamma$ | $\\frac{\\beta}{\\gamma}$ |\n",
    "|------|-------|----|----|\n",
    "| Uruguay  | 0.027434 |  0.011225    |  2.44401  |\n",
    "| Nigeria  | 0.078274 |  0.023412    |  3.34333  |\n",
    "| Filipinas | 0.078107 |  0.016645   |  4.69252  |\n",
    "\n",
    "\n",
    "|Población | $\\beta$ | $\\gamma$ | $\\frac{\\beta}{\\gamma}$ | $\\epsilon$\n",
    "|------|-------|----|----|----|\n",
    "| Uruguay  | 0.027434  |  0.011225  |  2.444009  | 0.242546 |\n",
    "| Nigeria  | 0.078274  |  0.023412  |  3.343328  | 0.271137 |\n",
    "| Filipinas | 0.078107 |  0.016644  |  4.692802  | 0.697196 |"
   ]
  },
  {
   "cell_type": "markdown",
   "metadata": {},
   "source": [
    "Como podemos ver, cada país tiene un comportamiento muy diferente debida a la forma en la que se manejó la pandemia, pues Uruguay ha tenido pocos contagios a largo del tiempo hasta el mes de noviembre que es donde ha empezado a crecer de forma exponencial, por esa razón es que pareciera ser menos contagiosa, de hecho se estima que una persona contagie a 2 dos personas y es la menos letal. \n",
    "\n",
    "El caso de Nigeria, podríamos categorizarlo en un caso estándar, pues la tasa de contagios es muy similar a la que se estimó en un principio por la $OMS$ (i.e. una persona contagia a 3 aproximadamente), además en este caso los contagios sí tuvieron  un comportamiento de ola, ya que se ve una elevación inicial con los primeros contagios y después una caida, hasta que comienza un rebrote o una segunda ola de contagios y por esta razón no podríamos modelar con todos los datos, solo el primer crecimiento.\n",
    "\n",
    "Por último Filipinas tiene otra particularidad, primero podemos notar que parece ser más contagiosa la enfermedad (1 persona puede contagiar a casi 5 personas), así mismo, el comportamiento de sus contagios sólo ha seguido una ola de contagios, por lo que podríamos pensar que se ha logrado contener la enfermedad.\n",
    "\n",
    "Por otra parte, entre el modelo $SIR$ y $SIR-D$ no hay cambios drásticos en la estimación de los parámetros $\\alpha$ y $\\beta$, pero sí nos da información adicional, ya que podemos ver la tasa de mortalidad, con estos resultados la enfermedad pareciera más mortal en Filipinas y menos mortal en Uruguay, pero esto lo debemos tomar con cierta reserva ya que los ajuste no resultan ser muy buenos.\n",
    "\n"
   ]
  },
  {
   "cell_type": "markdown",
   "metadata": {},
   "source": [
    "## Referencias\n",
    "Los datos fueron recopilados de https://covid19datahub.io/articles/data.html\n",
    "\n"
   ]
  }
 ],
 "metadata": {
  "kernelspec": {
   "display_name": "Python 3",
   "language": "python",
   "name": "python3"
  },
  "language_info": {
   "codemirror_mode": {
    "name": "ipython",
    "version": 3
   },
   "file_extension": ".py",
   "mimetype": "text/x-python",
   "name": "python",
   "nbconvert_exporter": "python",
   "pygments_lexer": "ipython3",
   "version": "3.8.5"
  }
 },
 "nbformat": 4,
 "nbformat_minor": 4
}
