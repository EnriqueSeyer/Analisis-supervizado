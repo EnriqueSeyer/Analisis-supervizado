{
 "cells": [
  {
   "cell_type": "markdown",
   "metadata": {},
   "source": [
    "# Tarea 2\n",
    "## Profesor: Dr. Esteban Vargas; Alumno: Enrique Reyes\n",
    "### 10/12/2020"
   ]
  },
  {
   "cell_type": "markdown",
   "metadata": {},
   "source": [
    "El conjunto de datos a análizar contiene información sobre los reportes de contagios y muertes acumulados por SARS-CoV-2 Covid-19, dichas cifras van del 20 de enero de 2020 a 01 de marzo de 2020."
   ]
  },
  {
   "cell_type": "markdown",
   "metadata": {},
   "source": [
    "## 1. Carga de paquetes y datos"
   ]
  },
  {
   "cell_type": "code",
   "execution_count": 1,
   "metadata": {},
   "outputs": [],
   "source": [
    "import pandas as pd\n",
    "import numpy as np\n",
    "from scipy import integrate\n",
    "from sklearn.metrics import mean_squared_error, mean_squared_log_error, mean_absolute_error, median_absolute_error\n",
    "from scipy.integrate import odeint\n",
    "from scipy.optimize import differential_evolution, minimize\n",
    "import matplotlib.pyplot as plt"
   ]
  },
  {
   "cell_type": "code",
   "execution_count": 2,
   "metadata": {},
   "outputs": [],
   "source": [
    "import PDEparams as pde"
   ]
  },
  {
   "cell_type": "code",
   "execution_count": 3,
   "metadata": {},
   "outputs": [
    {
     "name": "stdout",
     "output_type": "stream",
     "text": [
      "<class 'pandas.core.frame.DataFrame'>\n",
      "RangeIndex: 41 entries, 0 to 40\n",
      "Data columns (total 8 columns):\n",
      " #   Column          Non-Null Count  Dtype \n",
      "---  ------          --------------  ----- \n",
      " 0   Date of report  41 non-null     object\n",
      " 1   Days            41 non-null     int64 \n",
      " 2   Total           41 non-null     int64 \n",
      " 3   China           41 non-null     int64 \n",
      " 4   Death China     41 non-null     int64 \n",
      " 5   Other           41 non-null     int64 \n",
      " 6   Death Outside   41 non-null     int64 \n",
      " 7   Death Globally  41 non-null     int64 \n",
      "dtypes: int64(7), object(1)\n",
      "memory usage: 2.7+ KB\n"
     ]
    }
   ],
   "source": [
    "# Cargamos los datos\n",
    "cov = pd.read_csv(\"CoV2019.csv\")\n",
    "# Visualizamos los primeros elementos de la base de datos\n",
    "cov.info()"
   ]
  },
  {
   "cell_type": "code",
   "execution_count": 4,
   "metadata": {},
   "outputs": [
    {
     "data": {
      "text/html": [
       "<div>\n",
       "<style scoped>\n",
       "    .dataframe tbody tr th:only-of-type {\n",
       "        vertical-align: middle;\n",
       "    }\n",
       "\n",
       "    .dataframe tbody tr th {\n",
       "        vertical-align: top;\n",
       "    }\n",
       "\n",
       "    .dataframe thead th {\n",
       "        text-align: right;\n",
       "    }\n",
       "</style>\n",
       "<table border=\"1\" class=\"dataframe\">\n",
       "  <thead>\n",
       "    <tr style=\"text-align: right;\">\n",
       "      <th></th>\n",
       "      <th>Date of report</th>\n",
       "      <th>Days</th>\n",
       "      <th>Total</th>\n",
       "      <th>China</th>\n",
       "      <th>Death China</th>\n",
       "      <th>Other</th>\n",
       "      <th>Death Outside</th>\n",
       "      <th>Death Globally</th>\n",
       "    </tr>\n",
       "  </thead>\n",
       "  <tbody>\n",
       "    <tr>\n",
       "      <th>0</th>\n",
       "      <td>01/20/20</td>\n",
       "      <td>21</td>\n",
       "      <td>282</td>\n",
       "      <td>278</td>\n",
       "      <td>6</td>\n",
       "      <td>4</td>\n",
       "      <td>0</td>\n",
       "      <td>6</td>\n",
       "    </tr>\n",
       "    <tr>\n",
       "      <th>1</th>\n",
       "      <td>01/21/20</td>\n",
       "      <td>22</td>\n",
       "      <td>346</td>\n",
       "      <td>341</td>\n",
       "      <td>6</td>\n",
       "      <td>4</td>\n",
       "      <td>0</td>\n",
       "      <td>6</td>\n",
       "    </tr>\n",
       "    <tr>\n",
       "      <th>2</th>\n",
       "      <td>01/23/20</td>\n",
       "      <td>24</td>\n",
       "      <td>581</td>\n",
       "      <td>571</td>\n",
       "      <td>17</td>\n",
       "      <td>7</td>\n",
       "      <td>0</td>\n",
       "      <td>17</td>\n",
       "    </tr>\n",
       "    <tr>\n",
       "      <th>3</th>\n",
       "      <td>01/24/20</td>\n",
       "      <td>25</td>\n",
       "      <td>846</td>\n",
       "      <td>830</td>\n",
       "      <td>25</td>\n",
       "      <td>11</td>\n",
       "      <td>0</td>\n",
       "      <td>25</td>\n",
       "    </tr>\n",
       "    <tr>\n",
       "      <th>4</th>\n",
       "      <td>01/25/20</td>\n",
       "      <td>26</td>\n",
       "      <td>1320</td>\n",
       "      <td>1297</td>\n",
       "      <td>41</td>\n",
       "      <td>23</td>\n",
       "      <td>0</td>\n",
       "      <td>41</td>\n",
       "    </tr>\n",
       "  </tbody>\n",
       "</table>\n",
       "</div>"
      ],
      "text/plain": [
       "  Date of report  Days  Total  China  Death China  Other  Death Outside  \\\n",
       "0       01/20/20    21    282    278            6      4              0   \n",
       "1       01/21/20    22    346    341            6      4              0   \n",
       "2       01/23/20    24    581    571           17      7              0   \n",
       "3       01/24/20    25    846    830           25     11              0   \n",
       "4       01/25/20    26   1320   1297           41     23              0   \n",
       "\n",
       "   Death Globally  \n",
       "0               6  \n",
       "1               6  \n",
       "2              17  \n",
       "3              25  \n",
       "4              41  "
      ]
     },
     "execution_count": 4,
     "metadata": {},
     "output_type": "execute_result"
    }
   ],
   "source": [
    "cov.head()"
   ]
  },
  {
   "cell_type": "code",
   "execution_count": 5,
   "metadata": {},
   "outputs": [
    {
     "data": {
      "text/html": [
       "<div>\n",
       "<style scoped>\n",
       "    .dataframe tbody tr th:only-of-type {\n",
       "        vertical-align: middle;\n",
       "    }\n",
       "\n",
       "    .dataframe tbody tr th {\n",
       "        vertical-align: top;\n",
       "    }\n",
       "\n",
       "    .dataframe thead th {\n",
       "        text-align: right;\n",
       "    }\n",
       "</style>\n",
       "<table border=\"1\" class=\"dataframe\">\n",
       "  <thead>\n",
       "    <tr style=\"text-align: right;\">\n",
       "      <th></th>\n",
       "      <th>Date of report</th>\n",
       "      <th>Days</th>\n",
       "      <th>Total</th>\n",
       "      <th>China</th>\n",
       "      <th>Death China</th>\n",
       "      <th>Other</th>\n",
       "      <th>Death Outside</th>\n",
       "      <th>Death Globally</th>\n",
       "    </tr>\n",
       "  </thead>\n",
       "  <tbody>\n",
       "    <tr>\n",
       "      <th>36</th>\n",
       "      <td>02/26/20</td>\n",
       "      <td>58</td>\n",
       "      <td>81109</td>\n",
       "      <td>78191</td>\n",
       "      <td>2718</td>\n",
       "      <td>2918</td>\n",
       "      <td>44</td>\n",
       "      <td>2762</td>\n",
       "    </tr>\n",
       "    <tr>\n",
       "      <th>37</th>\n",
       "      <td>02/27/20</td>\n",
       "      <td>59</td>\n",
       "      <td>82294</td>\n",
       "      <td>78630</td>\n",
       "      <td>2747</td>\n",
       "      <td>3664</td>\n",
       "      <td>57</td>\n",
       "      <td>2804</td>\n",
       "    </tr>\n",
       "    <tr>\n",
       "      <th>38</th>\n",
       "      <td>02/28/20</td>\n",
       "      <td>60</td>\n",
       "      <td>83652</td>\n",
       "      <td>78961</td>\n",
       "      <td>2791</td>\n",
       "      <td>4691</td>\n",
       "      <td>67</td>\n",
       "      <td>2858</td>\n",
       "    </tr>\n",
       "    <tr>\n",
       "      <th>39</th>\n",
       "      <td>02/29/20</td>\n",
       "      <td>61</td>\n",
       "      <td>85403</td>\n",
       "      <td>79394</td>\n",
       "      <td>2838</td>\n",
       "      <td>6009</td>\n",
       "      <td>86</td>\n",
       "      <td>2924</td>\n",
       "    </tr>\n",
       "    <tr>\n",
       "      <th>40</th>\n",
       "      <td>03/01/2020</td>\n",
       "      <td>62</td>\n",
       "      <td>87137</td>\n",
       "      <td>79579</td>\n",
       "      <td>2873</td>\n",
       "      <td>7169</td>\n",
       "      <td>104</td>\n",
       "      <td>2977</td>\n",
       "    </tr>\n",
       "  </tbody>\n",
       "</table>\n",
       "</div>"
      ],
      "text/plain": [
       "   Date of report  Days  Total  China  Death China  Other  Death Outside  \\\n",
       "36       02/26/20    58  81109  78191         2718   2918             44   \n",
       "37       02/27/20    59  82294  78630         2747   3664             57   \n",
       "38       02/28/20    60  83652  78961         2791   4691             67   \n",
       "39       02/29/20    61  85403  79394         2838   6009             86   \n",
       "40     03/01/2020    62  87137  79579         2873   7169            104   \n",
       "\n",
       "    Death Globally  \n",
       "36            2762  \n",
       "37            2804  \n",
       "38            2858  \n",
       "39            2924  \n",
       "40            2977  "
      ]
     },
     "execution_count": 5,
     "metadata": {},
     "output_type": "execute_result"
    }
   ],
   "source": [
    "cov.tail()"
   ]
  },
  {
   "cell_type": "code",
   "execution_count": 6,
   "metadata": {},
   "outputs": [
    {
     "name": "stdout",
     "output_type": "stream",
     "text": [
      "<class 'pandas.core.frame.DataFrame'>\n",
      "Int64Index: 287 entries, 39733 to 40019\n",
      "Data columns (total 6 columns):\n",
      " #   Column      Non-Null Count  Dtype \n",
      "---  ------      --------------  ----- \n",
      " 0   id          287 non-null    object\n",
      " 1   date        287 non-null    object\n",
      " 2   confirmed   287 non-null    int64 \n",
      " 3   recovered   287 non-null    int64 \n",
      " 4   deaths      287 non-null    int64 \n",
      " 5   population  287 non-null    int64 \n",
      "dtypes: int64(4), object(2)\n",
      "memory usage: 15.7+ KB\n"
     ]
    }
   ],
   "source": [
    "# Cargamos los datos\n",
    "covi = pd.read_csv(\"data-1.csv\")\n",
    "# Visualizamos los primeros elementos de la base de datos\n",
    "#covi.info()\n",
    "MX= covi.loc[(covi.id == \"MEX\") & (covi.confirmed >= 1) , ['id', 'date', 'confirmed', 'recovered', 'deaths', 'population']]\n",
    "MX.info()"
   ]
  },
  {
   "cell_type": "code",
   "execution_count": 7,
   "metadata": {},
   "outputs": [
    {
     "data": {
      "text/html": [
       "<div>\n",
       "<style scoped>\n",
       "    .dataframe tbody tr th:only-of-type {\n",
       "        vertical-align: middle;\n",
       "    }\n",
       "\n",
       "    .dataframe tbody tr th {\n",
       "        vertical-align: top;\n",
       "    }\n",
       "\n",
       "    .dataframe thead th {\n",
       "        text-align: right;\n",
       "    }\n",
       "</style>\n",
       "<table border=\"1\" class=\"dataframe\">\n",
       "  <thead>\n",
       "    <tr style=\"text-align: right;\">\n",
       "      <th></th>\n",
       "      <th>id</th>\n",
       "      <th>date</th>\n",
       "      <th>confirmed</th>\n",
       "      <th>recovered</th>\n",
       "      <th>deaths</th>\n",
       "      <th>population</th>\n",
       "    </tr>\n",
       "  </thead>\n",
       "  <tbody>\n",
       "    <tr>\n",
       "      <th>39733</th>\n",
       "      <td>MEX</td>\n",
       "      <td>2020-02-28</td>\n",
       "      <td>1</td>\n",
       "      <td>0</td>\n",
       "      <td>0</td>\n",
       "      <td>126190788</td>\n",
       "    </tr>\n",
       "    <tr>\n",
       "      <th>39734</th>\n",
       "      <td>MEX</td>\n",
       "      <td>2020-02-29</td>\n",
       "      <td>4</td>\n",
       "      <td>0</td>\n",
       "      <td>0</td>\n",
       "      <td>126190788</td>\n",
       "    </tr>\n",
       "    <tr>\n",
       "      <th>39735</th>\n",
       "      <td>MEX</td>\n",
       "      <td>2020-03-01</td>\n",
       "      <td>5</td>\n",
       "      <td>0</td>\n",
       "      <td>0</td>\n",
       "      <td>126190788</td>\n",
       "    </tr>\n",
       "    <tr>\n",
       "      <th>39736</th>\n",
       "      <td>MEX</td>\n",
       "      <td>2020-03-02</td>\n",
       "      <td>5</td>\n",
       "      <td>0</td>\n",
       "      <td>0</td>\n",
       "      <td>126190788</td>\n",
       "    </tr>\n",
       "    <tr>\n",
       "      <th>39737</th>\n",
       "      <td>MEX</td>\n",
       "      <td>2020-03-03</td>\n",
       "      <td>5</td>\n",
       "      <td>1</td>\n",
       "      <td>0</td>\n",
       "      <td>126190788</td>\n",
       "    </tr>\n",
       "  </tbody>\n",
       "</table>\n",
       "</div>"
      ],
      "text/plain": [
       "        id        date  confirmed  recovered  deaths  population\n",
       "39733  MEX  2020-02-28          1          0       0   126190788\n",
       "39734  MEX  2020-02-29          4          0       0   126190788\n",
       "39735  MEX  2020-03-01          5          0       0   126190788\n",
       "39736  MEX  2020-03-02          5          0       0   126190788\n",
       "39737  MEX  2020-03-03          5          1       0   126190788"
      ]
     },
     "execution_count": 7,
     "metadata": {},
     "output_type": "execute_result"
    }
   ],
   "source": [
    "MX.head()"
   ]
  },
  {
   "cell_type": "code",
   "execution_count": 8,
   "metadata": {},
   "outputs": [
    {
     "data": {
      "text/html": [
       "<div>\n",
       "<style scoped>\n",
       "    .dataframe tbody tr th:only-of-type {\n",
       "        vertical-align: middle;\n",
       "    }\n",
       "\n",
       "    .dataframe tbody tr th {\n",
       "        vertical-align: top;\n",
       "    }\n",
       "\n",
       "    .dataframe thead th {\n",
       "        text-align: right;\n",
       "    }\n",
       "</style>\n",
       "<table border=\"1\" class=\"dataframe\">\n",
       "  <thead>\n",
       "    <tr style=\"text-align: right;\">\n",
       "      <th></th>\n",
       "      <th>id</th>\n",
       "      <th>date</th>\n",
       "      <th>confirmed</th>\n",
       "      <th>recovered</th>\n",
       "      <th>deaths</th>\n",
       "      <th>population</th>\n",
       "    </tr>\n",
       "  </thead>\n",
       "  <tbody>\n",
       "    <tr>\n",
       "      <th>40015</th>\n",
       "      <td>MEX</td>\n",
       "      <td>2020-12-06</td>\n",
       "      <td>1175850</td>\n",
       "      <td>866186</td>\n",
       "      <td>109717</td>\n",
       "      <td>126190788</td>\n",
       "    </tr>\n",
       "    <tr>\n",
       "      <th>40016</th>\n",
       "      <td>MEX</td>\n",
       "      <td>2020-12-07</td>\n",
       "      <td>1182249</td>\n",
       "      <td>873555</td>\n",
       "      <td>110074</td>\n",
       "      <td>126190788</td>\n",
       "    </tr>\n",
       "    <tr>\n",
       "      <th>40017</th>\n",
       "      <td>MEX</td>\n",
       "      <td>2020-12-08</td>\n",
       "      <td>1193255</td>\n",
       "      <td>881050</td>\n",
       "      <td>110874</td>\n",
       "      <td>126190788</td>\n",
       "    </tr>\n",
       "    <tr>\n",
       "      <th>40018</th>\n",
       "      <td>MEX</td>\n",
       "      <td>2020-12-09</td>\n",
       "      <td>1205229</td>\n",
       "      <td>889168</td>\n",
       "      <td>111655</td>\n",
       "      <td>126190788</td>\n",
       "    </tr>\n",
       "    <tr>\n",
       "      <th>40019</th>\n",
       "      <td>MEX</td>\n",
       "      <td>2020-12-10</td>\n",
       "      <td>1205229</td>\n",
       "      <td>889168</td>\n",
       "      <td>111655</td>\n",
       "      <td>126190788</td>\n",
       "    </tr>\n",
       "  </tbody>\n",
       "</table>\n",
       "</div>"
      ],
      "text/plain": [
       "        id        date  confirmed  recovered  deaths  population\n",
       "40015  MEX  2020-12-06    1175850     866186  109717   126190788\n",
       "40016  MEX  2020-12-07    1182249     873555  110074   126190788\n",
       "40017  MEX  2020-12-08    1193255     881050  110874   126190788\n",
       "40018  MEX  2020-12-09    1205229     889168  111655   126190788\n",
       "40019  MEX  2020-12-10    1205229     889168  111655   126190788"
      ]
     },
     "execution_count": 8,
     "metadata": {},
     "output_type": "execute_result"
    }
   ],
   "source": [
    "MX.tail()"
   ]
  },
  {
   "cell_type": "code",
   "execution_count": 9,
   "metadata": {},
   "outputs": [],
   "source": [
    "dt=np.arange(0,MX.count()[0])"
   ]
  },
  {
   "cell_type": "code",
   "execution_count": 10,
   "metadata": {},
   "outputs": [
    {
     "data": {
      "text/html": [
       "<div>\n",
       "<style scoped>\n",
       "    .dataframe tbody tr th:only-of-type {\n",
       "        vertical-align: middle;\n",
       "    }\n",
       "\n",
       "    .dataframe tbody tr th {\n",
       "        vertical-align: top;\n",
       "    }\n",
       "\n",
       "    .dataframe thead th {\n",
       "        text-align: right;\n",
       "    }\n",
       "</style>\n",
       "<table border=\"1\" class=\"dataframe\">\n",
       "  <thead>\n",
       "    <tr style=\"text-align: right;\">\n",
       "      <th></th>\n",
       "      <th>t</th>\n",
       "      <th>S</th>\n",
       "      <th>I</th>\n",
       "      <th>R</th>\n",
       "    </tr>\n",
       "  </thead>\n",
       "  <tbody>\n",
       "    <tr>\n",
       "      <th>0</th>\n",
       "      <td>0</td>\n",
       "      <td>126190787</td>\n",
       "      <td>1</td>\n",
       "      <td>0</td>\n",
       "    </tr>\n",
       "    <tr>\n",
       "      <th>1</th>\n",
       "      <td>1</td>\n",
       "      <td>126190784</td>\n",
       "      <td>4</td>\n",
       "      <td>0</td>\n",
       "    </tr>\n",
       "    <tr>\n",
       "      <th>2</th>\n",
       "      <td>2</td>\n",
       "      <td>126190783</td>\n",
       "      <td>5</td>\n",
       "      <td>0</td>\n",
       "    </tr>\n",
       "    <tr>\n",
       "      <th>3</th>\n",
       "      <td>3</td>\n",
       "      <td>126190783</td>\n",
       "      <td>5</td>\n",
       "      <td>0</td>\n",
       "    </tr>\n",
       "    <tr>\n",
       "      <th>4</th>\n",
       "      <td>4</td>\n",
       "      <td>126190782</td>\n",
       "      <td>5</td>\n",
       "      <td>1</td>\n",
       "    </tr>\n",
       "  </tbody>\n",
       "</table>\n",
       "</div>"
      ],
      "text/plain": [
       "   t          S  I  R\n",
       "0  0  126190787  1  0\n",
       "1  1  126190784  4  0\n",
       "2  2  126190783  5  0\n",
       "3  3  126190783  5  0\n",
       "4  4  126190782  5  1"
      ]
     },
     "execution_count": 10,
     "metadata": {},
     "output_type": "execute_result"
    }
   ],
   "source": [
    "MX.index = dt\n",
    "MEX = pd.DataFrame(MX)\n",
    "MEX.head()\n",
    "SA = MEX.population - MEX.confirmed - MEX.recovered - MEX.deaths\n",
    "IA = MEX.confirmed\n",
    "RA = MEX.recovered + MEX.deaths\n",
    "MEX1 = pd.concat([pd.DataFrame(dt),pd.DataFrame(SA),pd.DataFrame(IA),pd.DataFrame(RA)],axis=1)\n",
    "MEX1.columns = ['t','S','I','R']\n",
    "MEX1.head()"
   ]
  },
  {
   "cell_type": "markdown",
   "metadata": {},
   "source": [
    "## 2. Análsis Exploratorio de Datos"
   ]
  },
  {
   "cell_type": "code",
   "execution_count": 11,
   "metadata": {},
   "outputs": [],
   "source": [
    "Otro = cov[\"Other\"]\n",
    "China_T = cov[\"China\"]\n",
    "Dias_T = cov[\"Days\"]\n",
    "Muertes_T_C = cov[\"Death China\"]\n",
    "Muertes_T_F = cov[\"Death Outside\"]"
   ]
  },
  {
   "cell_type": "code",
   "execution_count": 12,
   "metadata": {},
   "outputs": [
    {
     "data": {
      "text/plain": [
       "<matplotlib.legend.Legend at 0x20d36d2bd88>"
      ]
     },
     "execution_count": 12,
     "metadata": {},
     "output_type": "execute_result"
    },
    {
     "data": {
      "image/png": "[encoded data removed]",
      "text/plain": [
       "<Figure size 864x576 with 1 Axes>"
      ]
     },
     "metadata": {
      "needs_background": "light"
     },
     "output_type": "display_data"
    }
   ],
   "source": [
    "plt.figure(figsize=(12, 8))\n",
    "plt.title(\"Desarrollo de COVID-19 hasta 01 de Marzo, 2020\")\n",
    "plt.plot(Dias_T, China_T, '-o', label=\"China\")\n",
    "plt.plot(Dias_T, Otro, '-o', label=\"Otros paises\")\n",
    "plt.plot(Dias_T, Muertes_T_C, '-o', label=\"Muertes en China\")\n",
    "plt.plot(Dias_T, Muertes_T_F, '-o', label=\"Muertes fuera de China\")\n",
    "plt.yscale('log')\n",
    "plt.ylabel(\"Casos\")\n",
    "plt.xlabel(\"Dias posteriores al primer reporte OMS\")\n",
    "plt.legend()"
   ]
  },
  {
   "cell_type": "code",
   "execution_count": 13,
   "metadata": {},
   "outputs": [
    {
     "data": {
      "text/html": [
       "<div>\n",
       "<style scoped>\n",
       "    .dataframe tbody tr th:only-of-type {\n",
       "        vertical-align: middle;\n",
       "    }\n",
       "\n",
       "    .dataframe tbody tr th {\n",
       "        vertical-align: top;\n",
       "    }\n",
       "\n",
       "    .dataframe thead th {\n",
       "        text-align: right;\n",
       "    }\n",
       "</style>\n",
       "<table border=\"1\" class=\"dataframe\">\n",
       "  <thead>\n",
       "    <tr style=\"text-align: right;\">\n",
       "      <th></th>\n",
       "      <th>count</th>\n",
       "      <th>mean</th>\n",
       "      <th>std</th>\n",
       "      <th>min</th>\n",
       "      <th>25%</th>\n",
       "      <th>50%</th>\n",
       "      <th>75%</th>\n",
       "      <th>max</th>\n",
       "    </tr>\n",
       "  </thead>\n",
       "  <tbody>\n",
       "    <tr>\n",
       "      <th>Days</th>\n",
       "      <td>41.0</td>\n",
       "      <td>41.951220</td>\n",
       "      <td>12.062237</td>\n",
       "      <td>21.0</td>\n",
       "      <td>32.0</td>\n",
       "      <td>42.0</td>\n",
       "      <td>52.0</td>\n",
       "      <td>62.0</td>\n",
       "    </tr>\n",
       "    <tr>\n",
       "      <th>Total</th>\n",
       "      <td>41.0</td>\n",
       "      <td>41301.024390</td>\n",
       "      <td>31543.398524</td>\n",
       "      <td>282.0</td>\n",
       "      <td>9826.0</td>\n",
       "      <td>40554.0</td>\n",
       "      <td>75748.0</td>\n",
       "      <td>87137.0</td>\n",
       "    </tr>\n",
       "    <tr>\n",
       "      <th>China</th>\n",
       "      <td>41.0</td>\n",
       "      <td>40253.512195</td>\n",
       "      <td>30371.936266</td>\n",
       "      <td>278.0</td>\n",
       "      <td>9720.0</td>\n",
       "      <td>40235.0</td>\n",
       "      <td>74675.0</td>\n",
       "      <td>79579.0</td>\n",
       "    </tr>\n",
       "    <tr>\n",
       "      <th>Death China</th>\n",
       "      <td>41.0</td>\n",
       "      <td>1181.365854</td>\n",
       "      <td>1025.027067</td>\n",
       "      <td>6.0</td>\n",
       "      <td>213.0</td>\n",
       "      <td>909.0</td>\n",
       "      <td>2121.0</td>\n",
       "      <td>2873.0</td>\n",
       "    </tr>\n",
       "    <tr>\n",
       "      <th>Other</th>\n",
       "      <td>41.0</td>\n",
       "      <td>1037.804878</td>\n",
       "      <td>1654.789235</td>\n",
       "      <td>4.0</td>\n",
       "      <td>106.0</td>\n",
       "      <td>319.0</td>\n",
       "      <td>1073.0</td>\n",
       "      <td>7169.0</td>\n",
       "    </tr>\n",
       "    <tr>\n",
       "      <th>Death Outside</th>\n",
       "      <td>41.0</td>\n",
       "      <td>11.878049</td>\n",
       "      <td>24.688251</td>\n",
       "      <td>0.0</td>\n",
       "      <td>0.0</td>\n",
       "      <td>1.0</td>\n",
       "      <td>8.0</td>\n",
       "      <td>104.0</td>\n",
       "    </tr>\n",
       "    <tr>\n",
       "      <th>Death Globally</th>\n",
       "      <td>41.0</td>\n",
       "      <td>1193.243902</td>\n",
       "      <td>1042.726757</td>\n",
       "      <td>6.0</td>\n",
       "      <td>213.0</td>\n",
       "      <td>910.0</td>\n",
       "      <td>2129.0</td>\n",
       "      <td>2977.0</td>\n",
       "    </tr>\n",
       "  </tbody>\n",
       "</table>\n",
       "</div>"
      ],
      "text/plain": [
       "                count          mean           std    min     25%      50%  \\\n",
       "Days             41.0     41.951220     12.062237   21.0    32.0     42.0   \n",
       "Total            41.0  41301.024390  31543.398524  282.0  9826.0  40554.0   \n",
       "China            41.0  40253.512195  30371.936266  278.0  9720.0  40235.0   \n",
       "Death China      41.0   1181.365854   1025.027067    6.0   213.0    909.0   \n",
       "Other            41.0   1037.804878   1654.789235    4.0   106.0    319.0   \n",
       "Death Outside    41.0     11.878049     24.688251    0.0     0.0      1.0   \n",
       "Death Globally   41.0   1193.243902   1042.726757    6.0   213.0    910.0   \n",
       "\n",
       "                    75%      max  \n",
       "Days               52.0     62.0  \n",
       "Total           75748.0  87137.0  \n",
       "China           74675.0  79579.0  \n",
       "Death China      2121.0   2873.0  \n",
       "Other            1073.0   7169.0  \n",
       "Death Outside       8.0    104.0  \n",
       "Death Globally   2129.0   2977.0  "
      ]
     },
     "execution_count": 13,
     "metadata": {},
     "output_type": "execute_result"
    }
   ],
   "source": [
    "cov.describe().transpose()"
   ]
  },
  {
   "cell_type": "code",
   "execution_count": 14,
   "metadata": {},
   "outputs": [
    {
     "data": {
      "text/plain": [
       "<matplotlib.legend.Legend at 0x20d39137f88>"
      ]
     },
     "execution_count": 14,
     "metadata": {},
     "output_type": "execute_result"
    },
    {
     "data": {
      "image/png": "[encoded data removed]",
      "text/plain": [
       "<Figure size 864x576 with 1 Axes>"
      ]
     },
     "metadata": {
      "needs_background": "light"
     },
     "output_type": "display_data"
    }
   ],
   "source": [
    "plt.figure(figsize=(12, 8))\n",
    "plt.title(\"Desarrollo de COVID-19 hasta 12 de Diciembre, 2020\")\n",
    "plt.plot(dt, IA, '-o', label=\"Infectados\")\n",
    "plt.plot(dt, RA, '-o', label=\"Recuperados\")\n",
    "plt.yscale('log')\n",
    "plt.ylabel(\"Casos\")\n",
    "plt.xlabel(\"Dias posteriores al primer reporte OMS\")\n",
    "plt.legend()"
   ]
  },
  {
   "cell_type": "code",
   "execution_count": 15,
   "metadata": {},
   "outputs": [
    {
     "data": {
      "text/html": [
       "<div>\n",
       "<style scoped>\n",
       "    .dataframe tbody tr th:only-of-type {\n",
       "        vertical-align: middle;\n",
       "    }\n",
       "\n",
       "    .dataframe tbody tr th {\n",
       "        vertical-align: top;\n",
       "    }\n",
       "\n",
       "    .dataframe thead th {\n",
       "        text-align: right;\n",
       "    }\n",
       "</style>\n",
       "<table border=\"1\" class=\"dataframe\">\n",
       "  <thead>\n",
       "    <tr style=\"text-align: right;\">\n",
       "      <th></th>\n",
       "      <th>count</th>\n",
       "      <th>mean</th>\n",
       "      <th>std</th>\n",
       "      <th>min</th>\n",
       "      <th>25%</th>\n",
       "      <th>50%</th>\n",
       "      <th>75%</th>\n",
       "      <th>max</th>\n",
       "    </tr>\n",
       "  </thead>\n",
       "  <tbody>\n",
       "    <tr>\n",
       "      <th>t</th>\n",
       "      <td>287.0</td>\n",
       "      <td>1.430000e+02</td>\n",
       "      <td>82.993976</td>\n",
       "      <td>0.0</td>\n",
       "      <td>71.5</td>\n",
       "      <td>143.0</td>\n",
       "      <td>214.5</td>\n",
       "      <td>286.0</td>\n",
       "    </tr>\n",
       "    <tr>\n",
       "      <th>S</th>\n",
       "      <td>287.0</td>\n",
       "      <td>1.253877e+08</td>\n",
       "      <td>726602.113648</td>\n",
       "      <td>123984736.0</td>\n",
       "      <td>124745934.5</td>\n",
       "      <td>125538816.0</td>\n",
       "      <td>126131314.0</td>\n",
       "      <td>126190787.0</td>\n",
       "    </tr>\n",
       "    <tr>\n",
       "      <th>I</th>\n",
       "      <td>287.0</td>\n",
       "      <td>4.219887e+05</td>\n",
       "      <td>382488.288471</td>\n",
       "      <td>1.0</td>\n",
       "      <td>34241.0</td>\n",
       "      <td>349396.0</td>\n",
       "      <td>740689.5</td>\n",
       "      <td>1205229.0</td>\n",
       "    </tr>\n",
       "    <tr>\n",
       "      <th>R</th>\n",
       "      <td>287.0</td>\n",
       "      <td>3.811378e+05</td>\n",
       "      <td>344771.121406</td>\n",
       "      <td>0.0</td>\n",
       "      <td>25233.0</td>\n",
       "      <td>307807.0</td>\n",
       "      <td>704164.0</td>\n",
       "      <td>1000823.0</td>\n",
       "    </tr>\n",
       "  </tbody>\n",
       "</table>\n",
       "</div>"
      ],
      "text/plain": [
       "   count          mean            std          min          25%          50%  \\\n",
       "t  287.0  1.430000e+02      82.993976          0.0         71.5        143.0   \n",
       "S  287.0  1.253877e+08  726602.113648  123984736.0  124745934.5  125538816.0   \n",
       "I  287.0  4.219887e+05  382488.288471          1.0      34241.0     349396.0   \n",
       "R  287.0  3.811378e+05  344771.121406          0.0      25233.0     307807.0   \n",
       "\n",
       "           75%          max  \n",
       "t        214.5        286.0  \n",
       "S  126131314.0  126190787.0  \n",
       "I     740689.5    1205229.0  \n",
       "R     704164.0    1000823.0  "
      ]
     },
     "execution_count": 15,
     "metadata": {},
     "output_type": "execute_result"
    }
   ],
   "source": [
    "MEX1.describe().transpose()"
   ]
  },
  {
   "cell_type": "markdown",
   "metadata": {},
   "source": [
    "## 3. Modelos de ecuaciones diferenciales\n",
    "### 3.1 SIR\n",
    "\n",
    "<style>\n",
    "p.comment {\n",
    "background-color: #DBDBDB;\n",
    "padding: 10px;\n",
    "border: 1px solid black;\n",
    "margin-left: 25px;\n",
    "border-radius: 5px;\n",
    "font-style: italic;\n",
    "}\n",
    "</style>\n",
    "\n",
    "Es un modelo de ecuaciones diferenciales utilizado en epidemiología para modelar el compotamiento de enfermedades infecciosas, fue diseñado en 1927 por los médicos W. O. Kermack y A. G. McKendrick. Cuando una enfermedad es nueva como el **SARS-CoV 2 (Covid 19)** todos los habitantes de una población son candidatos a contraer dicha enfermedad con la misma probabilidad, con forme avanza el brote infeccioso diferentes condiciones hacen que aumente o disminuya la probabilidad de ser contagiado.\n",
    "<p></p>\n",
    "Un supuesto que se hace en este modelo es pensar en una población cerrada ante nacimientos y migración, por lo tanto la población inicial\n",
    "\n",
    "<div class=\"alert alert-info\">\n",
    "    <ul>\n",
    "      <li><strong>Susceptibles:</strong> personas que pueden contraer la enfermedad.</li>\n",
    "      <li><strong>Infectados:</strong> personas que contrajeron la enfermedad y pueden contagiar a los demás.</li>\n",
    "      <li><strong>Recuperados:</strong> personas que salieron de la enfermedad y adquieren inmunidad temporal.</li>\n",
    "    </ul>\n",
    "</div>\n",
    "\n",
    "\n",
    "$$\n",
    "\\begin{eqnarray}\n",
    "\\frac{dS}{dt}&=& -\\beta S\\frac{I}{N} \\\\\n",
    "\\frac{dI}{dt}&=& \\beta S\\frac{I}{N} - \\gamma I \\\\\n",
    "\\frac{dR}{dt}&=& \\gamma I\n",
    "\\end{eqnarray}\n",
    "$$\n"
   ]
  },
  {
   "cell_type": "code",
   "execution_count": 16,
   "metadata": {},
   "outputs": [],
   "source": [
    "# Modelo\n",
    "def SIR(z, t, beta1, gamma1):\n",
    "    \n",
    "    S, I, R= z\n",
    "    \n",
    "    return [-(beta1/N)*S*I, (beta1/N)*S*I-gamma1*I,gamma1*I]"
   ]
  },
  {
   "cell_type": "code",
   "execution_count": 17,
   "metadata": {},
   "outputs": [
    {
     "data": {
      "text/html": [
       "<div>\n",
       "<style scoped>\n",
       "    .dataframe tbody tr th:only-of-type {\n",
       "        vertical-align: middle;\n",
       "    }\n",
       "\n",
       "    .dataframe tbody tr th {\n",
       "        vertical-align: top;\n",
       "    }\n",
       "\n",
       "    .dataframe thead th {\n",
       "        text-align: right;\n",
       "    }\n",
       "</style>\n",
       "<table border=\"1\" class=\"dataframe\">\n",
       "  <thead>\n",
       "    <tr style=\"text-align: right;\">\n",
       "      <th></th>\n",
       "      <th>t</th>\n",
       "      <th>S</th>\n",
       "      <th>I</th>\n",
       "      <th>R</th>\n",
       "    </tr>\n",
       "  </thead>\n",
       "  <tbody>\n",
       "    <tr>\n",
       "      <th>0</th>\n",
       "      <td>21</td>\n",
       "      <td>1392729716</td>\n",
       "      <td>278</td>\n",
       "      <td>6</td>\n",
       "    </tr>\n",
       "    <tr>\n",
       "      <th>1</th>\n",
       "      <td>22</td>\n",
       "      <td>1392729653</td>\n",
       "      <td>341</td>\n",
       "      <td>6</td>\n",
       "    </tr>\n",
       "    <tr>\n",
       "      <th>2</th>\n",
       "      <td>24</td>\n",
       "      <td>1392729412</td>\n",
       "      <td>571</td>\n",
       "      <td>17</td>\n",
       "    </tr>\n",
       "    <tr>\n",
       "      <th>3</th>\n",
       "      <td>25</td>\n",
       "      <td>1392729145</td>\n",
       "      <td>830</td>\n",
       "      <td>25</td>\n",
       "    </tr>\n",
       "    <tr>\n",
       "      <th>4</th>\n",
       "      <td>26</td>\n",
       "      <td>1392728662</td>\n",
       "      <td>1297</td>\n",
       "      <td>41</td>\n",
       "    </tr>\n",
       "  </tbody>\n",
       "</table>\n",
       "</div>"
      ],
      "text/plain": [
       "    t           S     I   R\n",
       "0  21  1392729716   278   6\n",
       "1  22  1392729653   341   6\n",
       "2  24  1392729412   571  17\n",
       "3  25  1392729145   830  25\n",
       "4  26  1392728662  1297  41"
      ]
     },
     "execution_count": 17,
     "metadata": {},
     "output_type": "execute_result"
    }
   ],
   "source": [
    "N = 1392730000  # Población inicial\n",
    "nid=5           # Periodo de incuvacion\n",
    "nr=2.5          # Numero de reproduccion\n",
    "tb=nr/nid       # tasa de transmision\n",
    "tg=1/nid        # tasa de recuperacion\n",
    "\n",
    "def initial_S():\n",
    "    return N-1   # S_0\n",
    "\n",
    "def initial_I():   \n",
    "    return 1     # I_0\n",
    "\n",
    "def initial_R():\n",
    "    return 0       # R_0\n",
    "\n",
    "# Construcción de la tabla (Tmp, Sus, Inf, Rec, Pob)\n",
    "Pob = np.repeat(N, 41, axis=0)\n",
    "Rec = Muertes_T_C\n",
    "Sus = N-China_T-Muertes_T_C\n",
    "cov1 = pd.concat([pd.DataFrame(Dias_T), pd.DataFrame(Sus), pd.DataFrame(China_T), pd.DataFrame(Rec)], axis=1)\n",
    "cov1.columns = ['t','S','I','R']\n",
    "cov1.head()"
   ]
  },
  {
   "cell_type": "code",
   "execution_count": 18,
   "metadata": {},
   "outputs": [],
   "source": [
    "my_model = pde.PDEmodel(cov1, SIR, [initial_S,initial_I,initial_R], bounds=[(0.01, 1), (0.01,1)], \n",
    "                        param_names=[r'$beta1$', r'$gamma1$'], nvars=3, ndims=0, nreplicates=1, obsidx=None, outfunc=None)"
   ]
  },
  {
   "cell_type": "code",
   "execution_count": 19,
   "metadata": {},
   "outputs": [
    {
     "data": {
      "text/plain": [
       "array([1392729999,          1,          0])"
      ]
     },
     "execution_count": 19,
     "metadata": {},
     "output_type": "execute_result"
    }
   ],
   "source": [
    "# Printing the initial condition\n",
    "my_model.initial_condition"
   ]
  },
  {
   "cell_type": "code",
   "execution_count": 20,
   "metadata": {},
   "outputs": [
    {
     "name": "stdout",
     "output_type": "stream",
     "text": [
      "    $beta1$  $gamma1$\n",
      "0  0.201512  0.011403\n",
      "Wall time: 2.94 s\n"
     ]
    }
   ],
   "source": [
    "%%time\n",
    "my_model.fit()"
   ]
  },
  {
   "cell_type": "code",
   "execution_count": 21,
   "metadata": {},
   "outputs": [
    {
     "data": {
      "text/html": [
       "<div>\n",
       "<style scoped>\n",
       "    .dataframe tbody tr th:only-of-type {\n",
       "        vertical-align: middle;\n",
       "    }\n",
       "\n",
       "    .dataframe tbody tr th {\n",
       "        vertical-align: top;\n",
       "    }\n",
       "\n",
       "    .dataframe thead th {\n",
       "        text-align: right;\n",
       "    }\n",
       "</style>\n",
       "<table border=\"1\" class=\"dataframe\">\n",
       "  <thead>\n",
       "    <tr style=\"text-align: right;\">\n",
       "      <th></th>\n",
       "      <th>$beta1$</th>\n",
       "      <th>$gamma1$</th>\n",
       "    </tr>\n",
       "  </thead>\n",
       "  <tbody>\n",
       "    <tr>\n",
       "      <th>0</th>\n",
       "      <td>0.201512</td>\n",
       "      <td>0.011403</td>\n",
       "    </tr>\n",
       "  </tbody>\n",
       "</table>\n",
       "</div>"
      ],
      "text/plain": [
       "    $beta1$  $gamma1$\n",
       "0  0.201512  0.011403"
      ]
     },
     "execution_count": 21,
     "metadata": {},
     "output_type": "execute_result"
    }
   ],
   "source": [
    "my_model.best_params"
   ]
  },
  {
   "cell_type": "code",
   "execution_count": 22,
   "metadata": {},
   "outputs": [
    {
     "data": {
      "text/plain": [
       "722676618.0749975"
      ]
     },
     "execution_count": 22,
     "metadata": {},
     "output_type": "execute_result"
    }
   ],
   "source": [
    "my_model.best_error"
   ]
  },
  {
   "cell_type": "code",
   "execution_count": 23,
   "metadata": {},
   "outputs": [
    {
     "data": {
      "application/vnd.jupyter.widget-view+json": {
       "model_id": "ecbd2dd922e24b8ea044bbcbf13eccac",
       "version_major": 2,
       "version_minor": 0
      },
      "text/plain": [
       "HBox(children=(FloatProgress(value=0.0, description='parameters', max=2.0, style=ProgressStyle(description_wid…"
      ]
     },
     "metadata": {},
     "output_type": "display_data"
    },
    {
     "data": {
      "application/vnd.jupyter.widget-view+json": {
       "model_id": "891c043628a547eb92685445dc319990",
       "version_major": 2,
       "version_minor": 0
      },
      "text/plain": [
       "HBox(children=(FloatProgress(value=0.0, description='values within parameters', style=ProgressStyle(descriptio…"
      ]
     },
     "metadata": {},
     "output_type": "display_data"
    },
    {
     "name": "stdout",
     "output_type": "stream",
     "text": [
      "\n"
     ]
    },
    {
     "data": {
      "application/vnd.jupyter.widget-view+json": {
       "model_id": "071d4ec08e014b6182c61fe8edbbe099",
       "version_major": 2,
       "version_minor": 0
      },
      "text/plain": [
       "HBox(children=(FloatProgress(value=0.0, description='values within parameters', style=ProgressStyle(descriptio…"
      ]
     },
     "metadata": {},
     "output_type": "display_data"
    },
    {
     "name": "stdout",
     "output_type": "stream",
     "text": [
      "\n",
      "\n",
      "Wall time: 3min 27s\n"
     ]
    }
   ],
   "source": [
    "%%time\n",
    "my_model.likelihood_profiles()"
   ]
  },
  {
   "cell_type": "code",
   "execution_count": 24,
   "metadata": {},
   "outputs": [
    {
     "data": {
      "text/html": [
       "<div>\n",
       "<style scoped>\n",
       "    .dataframe tbody tr th:only-of-type {\n",
       "        vertical-align: middle;\n",
       "    }\n",
       "\n",
       "    .dataframe tbody tr th {\n",
       "        vertical-align: top;\n",
       "    }\n",
       "\n",
       "    .dataframe thead th {\n",
       "        text-align: right;\n",
       "    }\n",
       "</style>\n",
       "<table border=\"1\" class=\"dataframe\">\n",
       "  <thead>\n",
       "    <tr style=\"text-align: right;\">\n",
       "      <th></th>\n",
       "      <th>parameter</th>\n",
       "      <th>value</th>\n",
       "      <th>error</th>\n",
       "    </tr>\n",
       "  </thead>\n",
       "  <tbody>\n",
       "    <tr>\n",
       "      <th>0</th>\n",
       "      <td>$beta1$</td>\n",
       "      <td>0.01</td>\n",
       "      <td>1.733263e+09</td>\n",
       "    </tr>\n",
       "    <tr>\n",
       "      <th>1</th>\n",
       "      <td>$beta1$</td>\n",
       "      <td>0.02</td>\n",
       "      <td>1.733222e+09</td>\n",
       "    </tr>\n",
       "    <tr>\n",
       "      <th>2</th>\n",
       "      <td>$beta1$</td>\n",
       "      <td>0.03</td>\n",
       "      <td>1.733154e+09</td>\n",
       "    </tr>\n",
       "    <tr>\n",
       "      <th>3</th>\n",
       "      <td>$beta1$</td>\n",
       "      <td>0.04</td>\n",
       "      <td>1.733040e+09</td>\n",
       "    </tr>\n",
       "    <tr>\n",
       "      <th>4</th>\n",
       "      <td>$beta1$</td>\n",
       "      <td>0.05</td>\n",
       "      <td>1.732848e+09</td>\n",
       "    </tr>\n",
       "    <tr>\n",
       "      <th>...</th>\n",
       "      <td>...</td>\n",
       "      <td>...</td>\n",
       "      <td>...</td>\n",
       "    </tr>\n",
       "    <tr>\n",
       "      <th>195</th>\n",
       "      <td>$gamma1$</td>\n",
       "      <td>0.96</td>\n",
       "      <td>1.728149e+09</td>\n",
       "    </tr>\n",
       "    <tr>\n",
       "      <th>196</th>\n",
       "      <td>$gamma1$</td>\n",
       "      <td>0.97</td>\n",
       "      <td>1.729675e+09</td>\n",
       "    </tr>\n",
       "    <tr>\n",
       "      <th>197</th>\n",
       "      <td>$gamma1$</td>\n",
       "      <td>0.98</td>\n",
       "      <td>1.730687e+09</td>\n",
       "    </tr>\n",
       "    <tr>\n",
       "      <th>198</th>\n",
       "      <td>$gamma1$</td>\n",
       "      <td>0.99</td>\n",
       "      <td>1.731370e+09</td>\n",
       "    </tr>\n",
       "    <tr>\n",
       "      <th>199</th>\n",
       "      <td>$gamma1$</td>\n",
       "      <td>1.00</td>\n",
       "      <td>1.731837e+09</td>\n",
       "    </tr>\n",
       "  </tbody>\n",
       "</table>\n",
       "<p>200 rows × 3 columns</p>\n",
       "</div>"
      ],
      "text/plain": [
       "    parameter  value         error\n",
       "0     $beta1$   0.01  1.733263e+09\n",
       "1     $beta1$   0.02  1.733222e+09\n",
       "2     $beta1$   0.03  1.733154e+09\n",
       "3     $beta1$   0.04  1.733040e+09\n",
       "4     $beta1$   0.05  1.732848e+09\n",
       "..        ...    ...           ...\n",
       "195  $gamma1$   0.96  1.728149e+09\n",
       "196  $gamma1$   0.97  1.729675e+09\n",
       "197  $gamma1$   0.98  1.730687e+09\n",
       "198  $gamma1$   0.99  1.731370e+09\n",
       "199  $gamma1$   1.00  1.731837e+09\n",
       "\n",
       "[200 rows x 3 columns]"
      ]
     },
     "execution_count": 24,
     "metadata": {},
     "output_type": "execute_result"
    }
   ],
   "source": [
    "my_model.result_profiles"
   ]
  },
  {
   "cell_type": "code",
   "execution_count": 25,
   "metadata": {},
   "outputs": [
    {
     "name": "stderr",
     "output_type": "stream",
     "text": [
      "'c' argument looks like a single numeric RGB or RGBA sequence, which should be avoided as value-mapping will have precedence in case its length matches with 'x' & 'y'.  Please use a 2-D array with a single row if you really want to specify the same RGB or RGBA value for all points.\n"
     ]
    },
    {
     "data": {
      "image/png": "[encoded data removed]",
      "text/plain": [
       "<Figure size 432x288 with 1 Axes>"
      ]
     },
     "metadata": {
      "needs_background": "light"
     },
     "output_type": "display_data"
    },
    {
     "name": "stderr",
     "output_type": "stream",
     "text": [
      "'c' argument looks like a single numeric RGB or RGBA sequence, which should be avoided as value-mapping will have precedence in case its length matches with 'x' & 'y'.  Please use a 2-D array with a single row if you really want to specify the same RGB or RGBA value for all points.\n"
     ]
    },
    {
     "data": {
      "image/png": "[encoded data removed]",
      "text/plain": [
       "<Figure size 432x288 with 1 Axes>"
      ]
     },
     "metadata": {
      "needs_background": "light"
     },
     "output_type": "display_data"
    }
   ],
   "source": [
    "my_model.plot_profiles()"
   ]
  },
  {
   "cell_type": "code",
   "execution_count": 26,
   "metadata": {},
   "outputs": [
    {
     "data": {
      "text/html": [
       "<div>\n",
       "<style scoped>\n",
       "    .dataframe tbody tr th:only-of-type {\n",
       "        vertical-align: middle;\n",
       "    }\n",
       "\n",
       "    .dataframe tbody tr th {\n",
       "        vertical-align: top;\n",
       "    }\n",
       "\n",
       "    .dataframe thead th {\n",
       "        text-align: right;\n",
       "    }\n",
       "</style>\n",
       "<table border=\"1\" class=\"dataframe\">\n",
       "  <thead>\n",
       "    <tr style=\"text-align: right;\">\n",
       "      <th></th>\n",
       "      <th>t</th>\n",
       "      <th>S</th>\n",
       "      <th>I</th>\n",
       "      <th>R</th>\n",
       "    </tr>\n",
       "  </thead>\n",
       "  <tbody>\n",
       "    <tr>\n",
       "      <th>0</th>\n",
       "      <td>21</td>\n",
       "      <td>55996</td>\n",
       "      <td>4</td>\n",
       "      <td>0</td>\n",
       "    </tr>\n",
       "    <tr>\n",
       "      <th>1</th>\n",
       "      <td>22</td>\n",
       "      <td>55996</td>\n",
       "      <td>4</td>\n",
       "      <td>0</td>\n",
       "    </tr>\n",
       "    <tr>\n",
       "      <th>2</th>\n",
       "      <td>24</td>\n",
       "      <td>55993</td>\n",
       "      <td>7</td>\n",
       "      <td>0</td>\n",
       "    </tr>\n",
       "    <tr>\n",
       "      <th>3</th>\n",
       "      <td>25</td>\n",
       "      <td>55989</td>\n",
       "      <td>11</td>\n",
       "      <td>0</td>\n",
       "    </tr>\n",
       "    <tr>\n",
       "      <th>4</th>\n",
       "      <td>26</td>\n",
       "      <td>55977</td>\n",
       "      <td>23</td>\n",
       "      <td>0</td>\n",
       "    </tr>\n",
       "  </tbody>\n",
       "</table>\n",
       "</div>"
      ],
      "text/plain": [
       "    t      S   I  R\n",
       "0  21  55996   4  0\n",
       "1  22  55996   4  0\n",
       "2  24  55993   7  0\n",
       "3  25  55989  11  0\n",
       "4  26  55977  23  0"
      ]
     },
     "execution_count": 26,
     "metadata": {},
     "output_type": "execute_result"
    }
   ],
   "source": [
    "# Resto del mundo\n",
    "N=56*10**3\n",
    "def S0():\n",
    "    return N-1   # S_0\n",
    "\n",
    "def I0():   \n",
    "    return 1     # I_0\n",
    "\n",
    "def R0():\n",
    "    return 0       # R_0\n",
    "\n",
    "# Construcción de la tabla (Tmp, Sus, Inf, Rec, Pob)\n",
    "Pob = np.repeat(N, 41, axis=0)\n",
    "Rec = Muertes_T_F\n",
    "Sus = N-Otro-Muertes_T_F\n",
    "cov2 = pd.concat([pd.DataFrame(Dias_T), pd.DataFrame(Sus), pd.DataFrame(Otro), pd.DataFrame(Rec)], axis=1)\n",
    "cov2.columns = ['t','S','I','R']\n",
    "cov2.head()"
   ]
  },
  {
   "cell_type": "code",
   "execution_count": 27,
   "metadata": {},
   "outputs": [],
   "source": [
    "modelo2 = pde.PDEmodel(cov2, SIR, [S0,I0,R0], bounds=[(0.01, 1), (0.01,1)], \n",
    "                        param_names=[r'$beta1$', r'$gamma1$'], nvars=3, ndims=0, nreplicates=1, obsidx=None, outfunc=None)"
   ]
  },
  {
   "cell_type": "code",
   "execution_count": 28,
   "metadata": {},
   "outputs": [
    {
     "data": {
      "text/plain": [
       "array([55999,     1,     0])"
      ]
     },
     "execution_count": 28,
     "metadata": {},
     "output_type": "execute_result"
    }
   ],
   "source": [
    "# Printing the initial condition\n",
    "modelo2.initial_condition"
   ]
  },
  {
   "cell_type": "code",
   "execution_count": 29,
   "metadata": {},
   "outputs": [
    {
     "name": "stdout",
     "output_type": "stream",
     "text": [
      "    $beta1$  $gamma1$\n",
      "0  0.151399      0.01\n",
      "Wall time: 4.07 s\n"
     ]
    }
   ],
   "source": [
    "%%time\n",
    "modelo2.fit()"
   ]
  },
  {
   "cell_type": "code",
   "execution_count": 30,
   "metadata": {},
   "outputs": [
    {
     "data": {
      "text/html": [
       "<div>\n",
       "<style scoped>\n",
       "    .dataframe tbody tr th:only-of-type {\n",
       "        vertical-align: middle;\n",
       "    }\n",
       "\n",
       "    .dataframe tbody tr th {\n",
       "        vertical-align: top;\n",
       "    }\n",
       "\n",
       "    .dataframe thead th {\n",
       "        text-align: right;\n",
       "    }\n",
       "</style>\n",
       "<table border=\"1\" class=\"dataframe\">\n",
       "  <thead>\n",
       "    <tr style=\"text-align: right;\">\n",
       "      <th></th>\n",
       "      <th>$beta1$</th>\n",
       "      <th>$gamma1$</th>\n",
       "    </tr>\n",
       "  </thead>\n",
       "  <tbody>\n",
       "    <tr>\n",
       "      <th>0</th>\n",
       "      <td>0.151399</td>\n",
       "      <td>0.01</td>\n",
       "    </tr>\n",
       "  </tbody>\n",
       "</table>\n",
       "</div>"
      ],
      "text/plain": [
       "    $beta1$  $gamma1$\n",
       "0  0.151399      0.01"
      ]
     },
     "execution_count": 30,
     "metadata": {},
     "output_type": "execute_result"
    }
   ],
   "source": [
    "modelo2.best_params"
   ]
  },
  {
   "cell_type": "code",
   "execution_count": 31,
   "metadata": {},
   "outputs": [
    {
     "data": {
      "text/plain": [
       "98338.14083250075"
      ]
     },
     "execution_count": 31,
     "metadata": {},
     "output_type": "execute_result"
    }
   ],
   "source": [
    "modelo2.best_error"
   ]
  },
  {
   "cell_type": "code",
   "execution_count": 32,
   "metadata": {},
   "outputs": [
    {
     "data": {
      "application/vnd.jupyter.widget-view+json": {
       "model_id": "479e3e92ee544d03ac1c61a089d6c8ba",
       "version_major": 2,
       "version_minor": 0
      },
      "text/plain": [
       "HBox(children=(FloatProgress(value=0.0, description='parameters', max=2.0, style=ProgressStyle(description_wid…"
      ]
     },
     "metadata": {},
     "output_type": "display_data"
    },
    {
     "data": {
      "application/vnd.jupyter.widget-view+json": {
       "model_id": "47394e274a394544a0189b38d3c0ade7",
       "version_major": 2,
       "version_minor": 0
      },
      "text/plain": [
       "HBox(children=(FloatProgress(value=0.0, description='values within parameters', style=ProgressStyle(descriptio…"
      ]
     },
     "metadata": {},
     "output_type": "display_data"
    },
    {
     "name": "stdout",
     "output_type": "stream",
     "text": [
      "\n"
     ]
    },
    {
     "data": {
      "application/vnd.jupyter.widget-view+json": {
       "model_id": "1fcee86356854ed9ab985f07833a6dc7",
       "version_major": 2,
       "version_minor": 0
      },
      "text/plain": [
       "HBox(children=(FloatProgress(value=0.0, description='values within parameters', style=ProgressStyle(descriptio…"
      ]
     },
     "metadata": {},
     "output_type": "display_data"
    },
    {
     "name": "stdout",
     "output_type": "stream",
     "text": [
      "\n",
      "\n",
      "Wall time: 3min 2s\n"
     ]
    }
   ],
   "source": [
    "%%time\n",
    "modelo2.likelihood_profiles()"
   ]
  },
  {
   "cell_type": "code",
   "execution_count": 33,
   "metadata": {},
   "outputs": [
    {
     "data": {
      "text/html": [
       "<div>\n",
       "<style scoped>\n",
       "    .dataframe tbody tr th:only-of-type {\n",
       "        vertical-align: middle;\n",
       "    }\n",
       "\n",
       "    .dataframe tbody tr th {\n",
       "        vertical-align: top;\n",
       "    }\n",
       "\n",
       "    .dataframe thead th {\n",
       "        text-align: right;\n",
       "    }\n",
       "</style>\n",
       "<table border=\"1\" class=\"dataframe\">\n",
       "  <thead>\n",
       "    <tr style=\"text-align: right;\">\n",
       "      <th></th>\n",
       "      <th>parameter</th>\n",
       "      <th>value</th>\n",
       "      <th>error</th>\n",
       "    </tr>\n",
       "  </thead>\n",
       "  <tbody>\n",
       "    <tr>\n",
       "      <th>0</th>\n",
       "      <td>$beta1$</td>\n",
       "      <td>0.01</td>\n",
       "      <td>2.532287e+06</td>\n",
       "    </tr>\n",
       "    <tr>\n",
       "      <th>1</th>\n",
       "      <td>$beta1$</td>\n",
       "      <td>0.02</td>\n",
       "      <td>2.531098e+06</td>\n",
       "    </tr>\n",
       "    <tr>\n",
       "      <th>2</th>\n",
       "      <td>$beta1$</td>\n",
       "      <td>0.03</td>\n",
       "      <td>2.529028e+06</td>\n",
       "    </tr>\n",
       "    <tr>\n",
       "      <th>3</th>\n",
       "      <td>$beta1$</td>\n",
       "      <td>0.04</td>\n",
       "      <td>2.525404e+06</td>\n",
       "    </tr>\n",
       "    <tr>\n",
       "      <th>4</th>\n",
       "      <td>$beta1$</td>\n",
       "      <td>0.05</td>\n",
       "      <td>2.519022e+06</td>\n",
       "    </tr>\n",
       "    <tr>\n",
       "      <th>...</th>\n",
       "      <td>...</td>\n",
       "      <td>...</td>\n",
       "      <td>...</td>\n",
       "    </tr>\n",
       "    <tr>\n",
       "      <th>195</th>\n",
       "      <td>$gamma1$</td>\n",
       "      <td>0.96</td>\n",
       "      <td>2.390375e+06</td>\n",
       "    </tr>\n",
       "    <tr>\n",
       "      <th>196</th>\n",
       "      <td>$gamma1$</td>\n",
       "      <td>0.97</td>\n",
       "      <td>2.433214e+06</td>\n",
       "    </tr>\n",
       "    <tr>\n",
       "      <th>197</th>\n",
       "      <td>$gamma1$</td>\n",
       "      <td>0.98</td>\n",
       "      <td>2.462056e+06</td>\n",
       "    </tr>\n",
       "    <tr>\n",
       "      <th>198</th>\n",
       "      <td>$gamma1$</td>\n",
       "      <td>0.99</td>\n",
       "      <td>2.481486e+06</td>\n",
       "    </tr>\n",
       "    <tr>\n",
       "      <th>199</th>\n",
       "      <td>$gamma1$</td>\n",
       "      <td>1.00</td>\n",
       "      <td>2.494678e+06</td>\n",
       "    </tr>\n",
       "  </tbody>\n",
       "</table>\n",
       "<p>200 rows × 3 columns</p>\n",
       "</div>"
      ],
      "text/plain": [
       "    parameter  value         error\n",
       "0     $beta1$   0.01  2.532287e+06\n",
       "1     $beta1$   0.02  2.531098e+06\n",
       "2     $beta1$   0.03  2.529028e+06\n",
       "3     $beta1$   0.04  2.525404e+06\n",
       "4     $beta1$   0.05  2.519022e+06\n",
       "..        ...    ...           ...\n",
       "195  $gamma1$   0.96  2.390375e+06\n",
       "196  $gamma1$   0.97  2.433214e+06\n",
       "197  $gamma1$   0.98  2.462056e+06\n",
       "198  $gamma1$   0.99  2.481486e+06\n",
       "199  $gamma1$   1.00  2.494678e+06\n",
       "\n",
       "[200 rows x 3 columns]"
      ]
     },
     "execution_count": 33,
     "metadata": {},
     "output_type": "execute_result"
    }
   ],
   "source": [
    "modelo2.result_profiles"
   ]
  },
  {
   "cell_type": "code",
   "execution_count": 34,
   "metadata": {},
   "outputs": [
    {
     "name": "stderr",
     "output_type": "stream",
     "text": [
      "'c' argument looks like a single numeric RGB or RGBA sequence, which should be avoided as value-mapping will have precedence in case its length matches with 'x' & 'y'.  Please use a 2-D array with a single row if you really want to specify the same RGB or RGBA value for all points.\n"
     ]
    },
    {
     "data": {
      "image/png": "[encoded data removed]",
      "text/plain": [
       "<Figure size 432x288 with 1 Axes>"
      ]
     },
     "metadata": {
      "needs_background": "light"
     },
     "output_type": "display_data"
    },
    {
     "name": "stderr",
     "output_type": "stream",
     "text": [
      "'c' argument looks like a single numeric RGB or RGBA sequence, which should be avoided as value-mapping will have precedence in case its length matches with 'x' & 'y'.  Please use a 2-D array with a single row if you really want to specify the same RGB or RGBA value for all points.\n"
     ]
    },
    {
     "data": {
      "image/png": "[encoded data removed]",
      "text/plain": [
       "<Figure size 432x288 with 1 Axes>"
      ]
     },
     "metadata": {
      "needs_background": "light"
     },
     "output_type": "display_data"
    }
   ],
   "source": [
    "modelo2.plot_profiles()"
   ]
  },
  {
   "cell_type": "code",
   "execution_count": 35,
   "metadata": {},
   "outputs": [
    {
     "data": {
      "text/html": [
       "<div>\n",
       "<style scoped>\n",
       "    .dataframe tbody tr th:only-of-type {\n",
       "        vertical-align: middle;\n",
       "    }\n",
       "\n",
       "    .dataframe tbody tr th {\n",
       "        vertical-align: top;\n",
       "    }\n",
       "\n",
       "    .dataframe thead th {\n",
       "        text-align: right;\n",
       "    }\n",
       "</style>\n",
       "<table border=\"1\" class=\"dataframe\">\n",
       "  <thead>\n",
       "    <tr style=\"text-align: right;\">\n",
       "      <th></th>\n",
       "      <th>t</th>\n",
       "      <th>S</th>\n",
       "      <th>I</th>\n",
       "      <th>R</th>\n",
       "    </tr>\n",
       "  </thead>\n",
       "  <tbody>\n",
       "    <tr>\n",
       "      <th>0</th>\n",
       "      <td>0</td>\n",
       "      <td>126190787</td>\n",
       "      <td>1</td>\n",
       "      <td>0</td>\n",
       "    </tr>\n",
       "    <tr>\n",
       "      <th>1</th>\n",
       "      <td>1</td>\n",
       "      <td>126190784</td>\n",
       "      <td>4</td>\n",
       "      <td>0</td>\n",
       "    </tr>\n",
       "    <tr>\n",
       "      <th>2</th>\n",
       "      <td>2</td>\n",
       "      <td>126190783</td>\n",
       "      <td>5</td>\n",
       "      <td>0</td>\n",
       "    </tr>\n",
       "    <tr>\n",
       "      <th>3</th>\n",
       "      <td>3</td>\n",
       "      <td>126190783</td>\n",
       "      <td>5</td>\n",
       "      <td>0</td>\n",
       "    </tr>\n",
       "    <tr>\n",
       "      <th>4</th>\n",
       "      <td>4</td>\n",
       "      <td>126190782</td>\n",
       "      <td>5</td>\n",
       "      <td>1</td>\n",
       "    </tr>\n",
       "  </tbody>\n",
       "</table>\n",
       "</div>"
      ],
      "text/plain": [
       "   t          S  I  R\n",
       "0  0  126190787  1  0\n",
       "1  1  126190784  4  0\n",
       "2  2  126190783  5  0\n",
       "3  3  126190783  5  0\n",
       "4  4  126190782  5  1"
      ]
     },
     "execution_count": 35,
     "metadata": {},
     "output_type": "execute_result"
    }
   ],
   "source": [
    "# Poblacion\n",
    "N=MEX.population[0]\n",
    "# Iniciales\n",
    "def SMX():\n",
    "    return N-1   # S_0\n",
    "def IMX():   \n",
    "    return 1     # I_0\n",
    "def RMX():\n",
    "    return 0       # R_0\n",
    "# Base\n",
    "CoVMX=MEX1[0:41]\n",
    "CoVMX.head()"
   ]
  },
  {
   "cell_type": "code",
   "execution_count": 36,
   "metadata": {},
   "outputs": [],
   "source": [
    "modeloMX = pde.PDEmodel(CoVMX, SIR, [SMX,IMX,RMX], bounds=[(0, 1), (0,1)], \n",
    "                        param_names=[r'$beta1$', r'$gamma1$'], nvars=3, ndims=0, nreplicates=1, obsidx=None, outfunc=None)"
   ]
  },
  {
   "cell_type": "code",
   "execution_count": 37,
   "metadata": {},
   "outputs": [
    {
     "data": {
      "text/plain": [
       "array([126190787,         1,         0], dtype=int64)"
      ]
     },
     "execution_count": 37,
     "metadata": {},
     "output_type": "execute_result"
    }
   ],
   "source": [
    "# Printing the initial condition\n",
    "modeloMX.initial_condition"
   ]
  },
  {
   "cell_type": "code",
   "execution_count": 38,
   "metadata": {},
   "outputs": [
    {
     "name": "stdout",
     "output_type": "stream",
     "text": [
      "    $beta1$  $gamma1$\n",
      "0  0.263344  0.057951\n",
      "Wall time: 858 ms\n"
     ]
    }
   ],
   "source": [
    "%%time\n",
    "modeloMX.fit()"
   ]
  },
  {
   "cell_type": "code",
   "execution_count": 39,
   "metadata": {},
   "outputs": [
    {
     "data": {
      "text/html": [
       "<div>\n",
       "<style scoped>\n",
       "    .dataframe tbody tr th:only-of-type {\n",
       "        vertical-align: middle;\n",
       "    }\n",
       "\n",
       "    .dataframe tbody tr th {\n",
       "        vertical-align: top;\n",
       "    }\n",
       "\n",
       "    .dataframe thead th {\n",
       "        text-align: right;\n",
       "    }\n",
       "</style>\n",
       "<table border=\"1\" class=\"dataframe\">\n",
       "  <thead>\n",
       "    <tr style=\"text-align: right;\">\n",
       "      <th></th>\n",
       "      <th>$beta1$</th>\n",
       "      <th>$gamma1$</th>\n",
       "    </tr>\n",
       "  </thead>\n",
       "  <tbody>\n",
       "    <tr>\n",
       "      <th>0</th>\n",
       "      <td>0.263344</td>\n",
       "      <td>0.057951</td>\n",
       "    </tr>\n",
       "  </tbody>\n",
       "</table>\n",
       "</div>"
      ],
      "text/plain": [
       "    $beta1$  $gamma1$\n",
       "0  0.263344  0.057951"
      ]
     },
     "execution_count": 39,
     "metadata": {},
     "output_type": "execute_result"
    }
   ],
   "source": [
    "modeloMX.best_params"
   ]
  },
  {
   "cell_type": "code",
   "execution_count": 40,
   "metadata": {},
   "outputs": [
    {
     "data": {
      "text/plain": [
       "45237.22490964754"
      ]
     },
     "execution_count": 40,
     "metadata": {},
     "output_type": "execute_result"
    }
   ],
   "source": [
    "modeloMX.best_error"
   ]
  },
  {
   "cell_type": "code",
   "execution_count": 41,
   "metadata": {},
   "outputs": [
    {
     "data": {
      "application/vnd.jupyter.widget-view+json": {
       "model_id": "75cbc6160d5849bd8f8014e8e1512d2a",
       "version_major": 2,
       "version_minor": 0
      },
      "text/plain": [
       "HBox(children=(FloatProgress(value=0.0, description='parameters', max=2.0, style=ProgressStyle(description_wid…"
      ]
     },
     "metadata": {},
     "output_type": "display_data"
    },
    {
     "data": {
      "application/vnd.jupyter.widget-view+json": {
       "model_id": "efeade1465654f63a0d5b4c7021fe4bd",
       "version_major": 2,
       "version_minor": 0
      },
      "text/plain": [
       "HBox(children=(FloatProgress(value=0.0, description='values within parameters', style=ProgressStyle(descriptio…"
      ]
     },
     "metadata": {},
     "output_type": "display_data"
    },
    {
     "name": "stdout",
     "output_type": "stream",
     "text": [
      "\n"
     ]
    },
    {
     "data": {
      "application/vnd.jupyter.widget-view+json": {
       "model_id": "feb731d43b064468af01a91241d5f339",
       "version_major": 2,
       "version_minor": 0
      },
      "text/plain": [
       "HBox(children=(FloatProgress(value=0.0, description='values within parameters', style=ProgressStyle(descriptio…"
      ]
     },
     "metadata": {},
     "output_type": "display_data"
    },
    {
     "name": "stdout",
     "output_type": "stream",
     "text": [
      "\n",
      "\n",
      "Wall time: 1min 14s\n"
     ]
    }
   ],
   "source": [
    "%%time\n",
    "modeloMX.likelihood_profiles()"
   ]
  },
  {
   "cell_type": "code",
   "execution_count": 42,
   "metadata": {},
   "outputs": [
    {
     "data": {
      "text/html": [
       "<div>\n",
       "<style scoped>\n",
       "    .dataframe tbody tr th:only-of-type {\n",
       "        vertical-align: middle;\n",
       "    }\n",
       "\n",
       "    .dataframe tbody tr th {\n",
       "        vertical-align: top;\n",
       "    }\n",
       "\n",
       "    .dataframe thead th {\n",
       "        text-align: right;\n",
       "    }\n",
       "</style>\n",
       "<table border=\"1\" class=\"dataframe\">\n",
       "  <thead>\n",
       "    <tr style=\"text-align: right;\">\n",
       "      <th></th>\n",
       "      <th>parameter</th>\n",
       "      <th>value</th>\n",
       "      <th>error</th>\n",
       "    </tr>\n",
       "  </thead>\n",
       "  <tbody>\n",
       "    <tr>\n",
       "      <th>0</th>\n",
       "      <td>$beta1$</td>\n",
       "      <td>0.000000</td>\n",
       "      <td>966610.504065</td>\n",
       "    </tr>\n",
       "    <tr>\n",
       "      <th>1</th>\n",
       "      <td>$beta1$</td>\n",
       "      <td>0.010101</td>\n",
       "      <td>966238.218551</td>\n",
       "    </tr>\n",
       "    <tr>\n",
       "      <th>2</th>\n",
       "      <td>$beta1$</td>\n",
       "      <td>0.020202</td>\n",
       "      <td>965706.446826</td>\n",
       "    </tr>\n",
       "    <tr>\n",
       "      <th>3</th>\n",
       "      <td>$beta1$</td>\n",
       "      <td>0.030303</td>\n",
       "      <td>964945.362788</td>\n",
       "    </tr>\n",
       "    <tr>\n",
       "      <th>4</th>\n",
       "      <td>$beta1$</td>\n",
       "      <td>0.040404</td>\n",
       "      <td>963854.116377</td>\n",
       "    </tr>\n",
       "    <tr>\n",
       "      <th>...</th>\n",
       "      <td>...</td>\n",
       "      <td>...</td>\n",
       "      <td>...</td>\n",
       "    </tr>\n",
       "    <tr>\n",
       "      <th>195</th>\n",
       "      <td>$gamma1$</td>\n",
       "      <td>0.959596</td>\n",
       "      <td>922651.735318</td>\n",
       "    </tr>\n",
       "    <tr>\n",
       "      <th>196</th>\n",
       "      <td>$gamma1$</td>\n",
       "      <td>0.969697</td>\n",
       "      <td>931327.690512</td>\n",
       "    </tr>\n",
       "    <tr>\n",
       "      <th>197</th>\n",
       "      <td>$gamma1$</td>\n",
       "      <td>0.979798</td>\n",
       "      <td>938005.881415</td>\n",
       "    </tr>\n",
       "    <tr>\n",
       "      <th>198</th>\n",
       "      <td>$gamma1$</td>\n",
       "      <td>0.989899</td>\n",
       "      <td>943175.101265</td>\n",
       "    </tr>\n",
       "    <tr>\n",
       "      <th>199</th>\n",
       "      <td>$gamma1$</td>\n",
       "      <td>1.000000</td>\n",
       "      <td>947202.121182</td>\n",
       "    </tr>\n",
       "  </tbody>\n",
       "</table>\n",
       "<p>200 rows × 3 columns</p>\n",
       "</div>"
      ],
      "text/plain": [
       "    parameter     value          error\n",
       "0     $beta1$  0.000000  966610.504065\n",
       "1     $beta1$  0.010101  966238.218551\n",
       "2     $beta1$  0.020202  965706.446826\n",
       "3     $beta1$  0.030303  964945.362788\n",
       "4     $beta1$  0.040404  963854.116377\n",
       "..        ...       ...            ...\n",
       "195  $gamma1$  0.959596  922651.735318\n",
       "196  $gamma1$  0.969697  931327.690512\n",
       "197  $gamma1$  0.979798  938005.881415\n",
       "198  $gamma1$  0.989899  943175.101265\n",
       "199  $gamma1$  1.000000  947202.121182\n",
       "\n",
       "[200 rows x 3 columns]"
      ]
     },
     "execution_count": 42,
     "metadata": {},
     "output_type": "execute_result"
    }
   ],
   "source": [
    "modeloMX.result_profiles"
   ]
  },
  {
   "cell_type": "code",
   "execution_count": 43,
   "metadata": {},
   "outputs": [
    {
     "name": "stderr",
     "output_type": "stream",
     "text": [
      "'c' argument looks like a single numeric RGB or RGBA sequence, which should be avoided as value-mapping will have precedence in case its length matches with 'x' & 'y'.  Please use a 2-D array with a single row if you really want to specify the same RGB or RGBA value for all points.\n"
     ]
    },
    {
     "data": {
      "image/png": "[encoded data removed]",
      "text/plain": [
       "<Figure size 432x288 with 1 Axes>"
      ]
     },
     "metadata": {
      "needs_background": "light"
     },
     "output_type": "display_data"
    },
    {
     "name": "stderr",
     "output_type": "stream",
     "text": [
      "'c' argument looks like a single numeric RGB or RGBA sequence, which should be avoided as value-mapping will have precedence in case its length matches with 'x' & 'y'.  Please use a 2-D array with a single row if you really want to specify the same RGB or RGBA value for all points.\n"
     ]
    },
    {
     "data": {
      "image/png": "[encoded data removed]",
      "text/plain": [
       "<Figure size 432x288 with 1 Axes>"
      ]
     },
     "metadata": {
      "needs_background": "light"
     },
     "output_type": "display_data"
    }
   ],
   "source": [
    "modeloMX.plot_profiles()"
   ]
  },
  {
   "cell_type": "markdown",
   "metadata": {},
   "source": [
    "### 3.2 SIR-D\n",
    "\n",
    "En el modelo anterior se considero a los Recuperados como aquellas personas que ya no se podían infectar, es decir personas que son inmunes temporalmente y a los muertos, pero ahora veremos que pasa si los consideramos por separado.\n",
    "\n",
    "<style>\n",
    "p.comment {\n",
    "background-color: #FFFFFF;\n",
    "padding: 10px;\n",
    "border: 1px solid black;\n",
    "margin-left: 25px;\n",
    "border-radius: 5px;\n",
    "font-style: italic;\n",
    "}\n",
    "</style>\n",
    "\n",
    "<div class=\"alert alert-info\">\n",
    "    <ul>\n",
    "      <li><strong>Susceptibles:</strong> personas que pueden contraer la enfermedad.</li>\n",
    "      <li><strong>Infectados:</strong> personas que contrajeron la enfermedad y pueden contagiar a los demás.</li>\n",
    "      <li><strong>Recuperados:</strong> personas que salieron de la enfermedad y adquieren inmunidad temporal.</li>\n",
    "      <li><strong>Defunciones:</strong> personas que salieron de la enfermedad y murieron.</li>\n",
    "    </ul>\n",
    "</div>\n",
    "\n",
    "$$\n",
    "\\begin{eqnarray}\n",
    "\\frac{dS}{dt}&=& -\\beta S\\frac{I}{N} \\\\\n",
    "\\frac{dI}{dt}&=& \\beta S\\frac{I}{N} - \\gamma I - \\epsilon D \\\\\n",
    "\\frac{dR}{dt}&=& \\gamma I \\\\\n",
    "\\frac{dD}{dt}&=& \\epsilon D \n",
    "\\end{eqnarray}\n",
    "$$\n"
   ]
  },
  {
   "cell_type": "code",
   "execution_count": 44,
   "metadata": {},
   "outputs": [],
   "source": [
    "def SIRD(z, t, beta2, gamma2, epsilon1):\n",
    "    \n",
    "    S, I, R, D = z\n",
    "    \n",
    "    return [-beta2*S*I/N, beta2*S*I/N-gamma2*I-epsilon1*D, gamma2*I, epsilon1*D]"
   ]
  },
  {
   "cell_type": "code",
   "execution_count": 45,
   "metadata": {},
   "outputs": [
    {
     "data": {
      "text/html": [
       "<div>\n",
       "<style scoped>\n",
       "    .dataframe tbody tr th:only-of-type {\n",
       "        vertical-align: middle;\n",
       "    }\n",
       "\n",
       "    .dataframe tbody tr th {\n",
       "        vertical-align: top;\n",
       "    }\n",
       "\n",
       "    .dataframe thead th {\n",
       "        text-align: right;\n",
       "    }\n",
       "</style>\n",
       "<table border=\"1\" class=\"dataframe\">\n",
       "  <thead>\n",
       "    <tr style=\"text-align: right;\">\n",
       "      <th></th>\n",
       "      <th>t</th>\n",
       "      <th>S</th>\n",
       "      <th>I</th>\n",
       "      <th>R</th>\n",
       "      <th>D</th>\n",
       "    </tr>\n",
       "  </thead>\n",
       "  <tbody>\n",
       "    <tr>\n",
       "      <th>0</th>\n",
       "      <td>0</td>\n",
       "      <td>126190787</td>\n",
       "      <td>1</td>\n",
       "      <td>0</td>\n",
       "      <td>0</td>\n",
       "    </tr>\n",
       "    <tr>\n",
       "      <th>1</th>\n",
       "      <td>1</td>\n",
       "      <td>126190784</td>\n",
       "      <td>4</td>\n",
       "      <td>0</td>\n",
       "      <td>0</td>\n",
       "    </tr>\n",
       "    <tr>\n",
       "      <th>2</th>\n",
       "      <td>2</td>\n",
       "      <td>126190783</td>\n",
       "      <td>5</td>\n",
       "      <td>0</td>\n",
       "      <td>0</td>\n",
       "    </tr>\n",
       "    <tr>\n",
       "      <th>3</th>\n",
       "      <td>3</td>\n",
       "      <td>126190783</td>\n",
       "      <td>5</td>\n",
       "      <td>0</td>\n",
       "      <td>0</td>\n",
       "    </tr>\n",
       "    <tr>\n",
       "      <th>4</th>\n",
       "      <td>4</td>\n",
       "      <td>126190782</td>\n",
       "      <td>5</td>\n",
       "      <td>1</td>\n",
       "      <td>0</td>\n",
       "    </tr>\n",
       "  </tbody>\n",
       "</table>\n",
       "</div>"
      ],
      "text/plain": [
       "   t          S  I  R  D\n",
       "0  0  126190787  1  0  0\n",
       "1  1  126190784  4  0  0\n",
       "2  2  126190783  5  0  0\n",
       "3  3  126190783  5  0  0\n",
       "4  4  126190782  5  1  0"
      ]
     },
     "execution_count": 45,
     "metadata": {},
     "output_type": "execute_result"
    }
   ],
   "source": [
    "N=MEX.population[0]\n",
    "# Iniciales\n",
    "def SMX1():\n",
    "    return N-1   # S_0\n",
    "def IMX1():   \n",
    "    return 1     # I_0\n",
    "def RMX1():\n",
    "    return 0       # R_0\n",
    "def DMX1():\n",
    "    return 0       # D_0\n",
    "# Base\n",
    "\n",
    "SA1 = MEX.population - MEX.confirmed - MEX.recovered - MEX.deaths\n",
    "IA1 = MEX.confirmed\n",
    "RA1 = MEX.recovered \n",
    "DA1 = MEX.deaths\n",
    "MEX2 = pd.concat([pd.DataFrame(dt),pd.DataFrame(SA1),pd.DataFrame(IA1),pd.DataFrame(RA1), pd.DataFrame(DA1)],axis=1)\n",
    "MEX2.columns = ['t','S','I','R','D']\n",
    "\n",
    "CoVMX1=MEX2[0:41]\n",
    "CoVMX1.head()"
   ]
  },
  {
   "cell_type": "code",
   "execution_count": 53,
   "metadata": {},
   "outputs": [],
   "source": [
    "modeloMX1 = pde.PDEmodel(CoVMX1, SIRD, [SMX1,IMX1,RMX1,DMX1], bounds=[(0, 1), (0,1),(0,1)], \n",
    "                        param_names=[r'$beta2$', r'$gamma2$', r'$epsilon1$'], nvars=4, ndims=0, nreplicates=1, obsidx=None, outfunc=None)"
   ]
  },
  {
   "cell_type": "code",
   "execution_count": 54,
   "metadata": {},
   "outputs": [
    {
     "data": {
      "text/plain": [
       "array([126190787,         1,         0,         0], dtype=int64)"
      ]
     },
     "execution_count": 54,
     "metadata": {},
     "output_type": "execute_result"
    }
   ],
   "source": [
    "# Printing the initial condition\n",
    "modeloMX1.initial_condition"
   ]
  },
  {
   "cell_type": "code",
   "execution_count": 55,
   "metadata": {},
   "outputs": [
    {
     "name": "stdout",
     "output_type": "stream",
     "text": [
      "    $beta2$  $gamma2$  $epsilon1$\n",
      "0  0.256536  0.050731    0.771825\n",
      "Wall time: 985 ms\n"
     ]
    }
   ],
   "source": [
    "%%time\n",
    "modeloMX1.fit()"
   ]
  },
  {
   "cell_type": "code",
   "execution_count": 56,
   "metadata": {},
   "outputs": [
    {
     "data": {
      "text/html": [
       "<div>\n",
       "<style scoped>\n",
       "    .dataframe tbody tr th:only-of-type {\n",
       "        vertical-align: middle;\n",
       "    }\n",
       "\n",
       "    .dataframe tbody tr th {\n",
       "        vertical-align: top;\n",
       "    }\n",
       "\n",
       "    .dataframe thead th {\n",
       "        text-align: right;\n",
       "    }\n",
       "</style>\n",
       "<table border=\"1\" class=\"dataframe\">\n",
       "  <thead>\n",
       "    <tr style=\"text-align: right;\">\n",
       "      <th></th>\n",
       "      <th>$beta2$</th>\n",
       "      <th>$gamma2$</th>\n",
       "      <th>$epsilon1$</th>\n",
       "    </tr>\n",
       "  </thead>\n",
       "  <tbody>\n",
       "    <tr>\n",
       "      <th>0</th>\n",
       "      <td>0.256536</td>\n",
       "      <td>0.050731</td>\n",
       "      <td>0.771825</td>\n",
       "    </tr>\n",
       "  </tbody>\n",
       "</table>\n",
       "</div>"
      ],
      "text/plain": [
       "    $beta2$  $gamma2$  $epsilon1$\n",
       "0  0.256536  0.050731    0.771825"
      ]
     },
     "execution_count": 56,
     "metadata": {},
     "output_type": "execute_result"
    }
   ],
   "source": [
    "modeloMX1.best_params"
   ]
  },
  {
   "cell_type": "code",
   "execution_count": 57,
   "metadata": {},
   "outputs": [
    {
     "data": {
      "text/plain": [
       "45237.22490964754"
      ]
     },
     "execution_count": 57,
     "metadata": {},
     "output_type": "execute_result"
    }
   ],
   "source": [
    "modeloMX.best_error"
   ]
  },
  {
   "cell_type": "code",
   "execution_count": 60,
   "metadata": {},
   "outputs": [
    {
     "data": {
      "application/vnd.jupyter.widget-view+json": {
       "model_id": "cb89e3584b9b4cb29632f63c3acd2b58",
       "version_major": 2,
       "version_minor": 0
      },
      "text/plain": [
       "HBox(children=(FloatProgress(value=0.0, description='parameters', max=3.0, style=ProgressStyle(description_wid…"
      ]
     },
     "metadata": {},
     "output_type": "display_data"
    },
    {
     "data": {
      "application/vnd.jupyter.widget-view+json": {
       "model_id": "c1c940b8118d436d9b954c25388318f4",
       "version_major": 2,
       "version_minor": 0
      },
      "text/plain": [
       "HBox(children=(FloatProgress(value=0.0, description='values within parameters', style=ProgressStyle(descriptio…"
      ]
     },
     "metadata": {},
     "output_type": "display_data"
    },
    {
     "name": "stdout",
     "output_type": "stream",
     "text": [
      "\n"
     ]
    },
    {
     "data": {
      "application/vnd.jupyter.widget-view+json": {
       "model_id": "b225f32e9eaf4cad8be80144af3c8536",
       "version_major": 2,
       "version_minor": 0
      },
      "text/plain": [
       "HBox(children=(FloatProgress(value=0.0, description='values within parameters', style=ProgressStyle(descriptio…"
      ]
     },
     "metadata": {},
     "output_type": "display_data"
    },
    {
     "name": "stdout",
     "output_type": "stream",
     "text": [
      "\n"
     ]
    },
    {
     "data": {
      "application/vnd.jupyter.widget-view+json": {
       "model_id": "36ad7a4ba6e040c595235ca6fb08b32f",
       "version_major": 2,
       "version_minor": 0
      },
      "text/plain": [
       "HBox(children=(FloatProgress(value=0.0, description='values within parameters', style=ProgressStyle(descriptio…"
      ]
     },
     "metadata": {},
     "output_type": "display_data"
    },
    {
     "name": "stdout",
     "output_type": "stream",
     "text": [
      "\n",
      "\n",
      "Wall time: 4min 29s\n"
     ]
    }
   ],
   "source": [
    "%%time\n",
    "modeloMX1.likelihood_profiles()"
   ]
  },
  {
   "cell_type": "code",
   "execution_count": 61,
   "metadata": {},
   "outputs": [
    {
     "data": {
      "text/html": [
       "<div>\n",
       "<style scoped>\n",
       "    .dataframe tbody tr th:only-of-type {\n",
       "        vertical-align: middle;\n",
       "    }\n",
       "\n",
       "    .dataframe tbody tr th {\n",
       "        vertical-align: top;\n",
       "    }\n",
       "\n",
       "    .dataframe thead th {\n",
       "        text-align: right;\n",
       "    }\n",
       "</style>\n",
       "<table border=\"1\" class=\"dataframe\">\n",
       "  <thead>\n",
       "    <tr style=\"text-align: right;\">\n",
       "      <th></th>\n",
       "      <th>parameter</th>\n",
       "      <th>value</th>\n",
       "      <th>error</th>\n",
       "    </tr>\n",
       "  </thead>\n",
       "  <tbody>\n",
       "    <tr>\n",
       "      <th>0</th>\n",
       "      <td>$beta2$</td>\n",
       "      <td>0.000000</td>\n",
       "      <td>719697.329268</td>\n",
       "    </tr>\n",
       "    <tr>\n",
       "      <th>1</th>\n",
       "      <td>$beta2$</td>\n",
       "      <td>0.010101</td>\n",
       "      <td>719418.115133</td>\n",
       "    </tr>\n",
       "    <tr>\n",
       "      <th>2</th>\n",
       "      <td>$beta2$</td>\n",
       "      <td>0.020202</td>\n",
       "      <td>719019.286351</td>\n",
       "    </tr>\n",
       "    <tr>\n",
       "      <th>3</th>\n",
       "      <td>$beta2$</td>\n",
       "      <td>0.030303</td>\n",
       "      <td>718448.473309</td>\n",
       "    </tr>\n",
       "    <tr>\n",
       "      <th>4</th>\n",
       "      <td>$beta2$</td>\n",
       "      <td>0.040404</td>\n",
       "      <td>717630.038508</td>\n",
       "    </tr>\n",
       "    <tr>\n",
       "      <th>...</th>\n",
       "      <td>...</td>\n",
       "      <td>...</td>\n",
       "      <td>...</td>\n",
       "    </tr>\n",
       "    <tr>\n",
       "      <th>295</th>\n",
       "      <td>$epsilon1$</td>\n",
       "      <td>0.959596</td>\n",
       "      <td>34898.972332</td>\n",
       "    </tr>\n",
       "    <tr>\n",
       "      <th>296</th>\n",
       "      <td>$epsilon1$</td>\n",
       "      <td>0.969697</td>\n",
       "      <td>34896.183171</td>\n",
       "    </tr>\n",
       "    <tr>\n",
       "      <th>297</th>\n",
       "      <td>$epsilon1$</td>\n",
       "      <td>0.979798</td>\n",
       "      <td>34896.179945</td>\n",
       "    </tr>\n",
       "    <tr>\n",
       "      <th>298</th>\n",
       "      <td>$epsilon1$</td>\n",
       "      <td>0.989899</td>\n",
       "      <td>34896.176073</td>\n",
       "    </tr>\n",
       "    <tr>\n",
       "      <th>299</th>\n",
       "      <td>$epsilon1$</td>\n",
       "      <td>1.000000</td>\n",
       "      <td>34896.179361</td>\n",
       "    </tr>\n",
       "  </tbody>\n",
       "</table>\n",
       "<p>300 rows × 3 columns</p>\n",
       "</div>"
      ],
      "text/plain": [
       "      parameter     value          error\n",
       "0       $beta2$  0.000000  719697.329268\n",
       "1       $beta2$  0.010101  719418.115133\n",
       "2       $beta2$  0.020202  719019.286351\n",
       "3       $beta2$  0.030303  718448.473309\n",
       "4       $beta2$  0.040404  717630.038508\n",
       "..          ...       ...            ...\n",
       "295  $epsilon1$  0.959596   34898.972332\n",
       "296  $epsilon1$  0.969697   34896.183171\n",
       "297  $epsilon1$  0.979798   34896.179945\n",
       "298  $epsilon1$  0.989899   34896.176073\n",
       "299  $epsilon1$  1.000000   34896.179361\n",
       "\n",
       "[300 rows x 3 columns]"
      ]
     },
     "execution_count": 61,
     "metadata": {},
     "output_type": "execute_result"
    }
   ],
   "source": [
    "modeloMX1.result_profiles"
   ]
  },
  {
   "cell_type": "code",
   "execution_count": 62,
   "metadata": {},
   "outputs": [
    {
     "name": "stderr",
     "output_type": "stream",
     "text": [
      "'c' argument looks like a single numeric RGB or RGBA sequence, which should be avoided as value-mapping will have precedence in case its length matches with 'x' & 'y'.  Please use a 2-D array with a single row if you really want to specify the same RGB or RGBA value for all points.\n"
     ]
    },
    {
     "data": {
      "image/png": "[encoded data removed]",
      "text/plain": [
       "<Figure size 432x288 with 1 Axes>"
      ]
     },
     "metadata": {
      "needs_background": "light"
     },
     "output_type": "display_data"
    },
    {
     "name": "stderr",
     "output_type": "stream",
     "text": [
      "'c' argument looks like a single numeric RGB or RGBA sequence, which should be avoided as value-mapping will have precedence in case its length matches with 'x' & 'y'.  Please use a 2-D array with a single row if you really want to specify the same RGB or RGBA value for all points.\n"
     ]
    },
    {
     "data": {
      "image/png": "[encoded data removed]",
      "text/plain": [
       "<Figure size 432x288 with 1 Axes>"
      ]
     },
     "metadata": {
      "needs_background": "light"
     },
     "output_type": "display_data"
    },
    {
     "name": "stderr",
     "output_type": "stream",
     "text": [
      "'c' argument looks like a single numeric RGB or RGBA sequence, which should be avoided as value-mapping will have precedence in case its length matches with 'x' & 'y'.  Please use a 2-D array with a single row if you really want to specify the same RGB or RGBA value for all points.\n"
     ]
    },
    {
     "data": {
      "image/png": "[encoded data removed]",
      "text/plain": [
       "<Figure size 432x288 with 1 Axes>"
      ]
     },
     "metadata": {
      "needs_background": "light"
     },
     "output_type": "display_data"
    }
   ],
   "source": [
    "modeloMX1.plot_profiles()"
   ]
  },
  {
   "cell_type": "markdown",
   "metadata": {},
   "source": [
    "## 4. Conclusiones\n",
    "\n",
    "Notamos que en los 4 casos tenemos tasas de contagio mucho mayores a las tasas de recuperación:\n",
    "\n",
    "|Población | $\\beta$ | $\\gamma$ | $\\frac{\\beta}{\\gamma}$ |\n",
    "|------|-------|----|----|\n",
    "| China  | 0.201512 |  0.011403    | 17.67184   |\n",
    "| Otros  | 0.151399 |   0.01    |  15.1399  |\n",
    "| Mexico | 0.263344 |  0.057951    | 4.54425   |\n"
   ]
  },
  {
   "cell_type": "markdown",
   "metadata": {},
   "source": [
    "Aquí notamos que la probabilidad de contagiarse debido a la tasa de contacto en México al inicio de la pandemia era mayor que en China, así mismo notamos que la tasa de recuperación, en términos globales es mayor, sólo que en este punto hay que aclarar que para el caso de China desconocemos a los recuperados que quedaron vivos."
   ]
  }
 ],
 "metadata": {
  "kernelspec": {
   "display_name": "Python 3",
   "language": "python",
   "name": "python3"
  },
  "language_info": {
   "codemirror_mode": {
    "name": "ipython",
    "version": 3
   },
   "file_extension": ".py",
   "mimetype": "text/x-python",
   "name": "python",
   "nbconvert_exporter": "python",
   "pygments_lexer": "ipython3",
   "version": "3.7.6"
  }
 },
 "nbformat": 4,
 "nbformat_minor": 4
}
